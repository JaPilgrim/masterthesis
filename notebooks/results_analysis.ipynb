{
 "cells": [
  {
   "attachments": {},
   "cell_type": "markdown",
   "metadata": {},
   "source": [
    "# Setup"
   ]
  },
  {
   "attachments": {},
   "cell_type": "markdown",
   "metadata": {},
   "source": [
    "## Function Setup"
   ]
  },
  {
   "cell_type": "code",
   "execution_count": 23,
   "metadata": {},
   "outputs": [],
   "source": [
    "from scipy.stats import spearmanr\n",
    "import pandas as pd\n",
    "from sklearn.ensemble import RandomForestRegressor\n",
    "from sklearn.model_selection import cross_val_score\n",
    "import pandas as pd\n",
    "import numpy as np\n",
    "import pandas as pd\n",
    "from scipy import stats\n",
    "import requests\n",
    "import json\n",
    "import random\n",
    "from sklearn.metrics import accuracy_score\n",
    "from scipy.stats import norm\n",
    "import math\n",
    "from scipy.stats import kendalltau\n",
    "from statsmodels.stats.multicomp import MultiComparison"
   ]
  },
  {
   "cell_type": "code",
   "execution_count": 24,
   "metadata": {},
   "outputs": [],
   "source": [
    "def encode_categorical_variables(df, categorical_vars):\n",
    "    df_encoded = pd.get_dummies(df, columns=categorical_vars, drop_first=False)\n",
    "    return df_encoded\n",
    "\n",
    "from sklearn.linear_model import LinearRegression\n",
    "\n",
    "def calculate_feature_importances_and_coef(df, variables, target):\n",
    "    # Subset the dataframe to include only the columns of interest\n",
    "    subset = df[variables + [target]]\n",
    "\n",
    "    # Split the data into features and target\n",
    "    X = subset[variables]\n",
    "    y = subset[target]\n",
    "\n",
    "    # Define the model\n",
    "    model = LinearRegression()\n",
    "\n",
    "    # Train the model\n",
    "    model.fit(X, y)\n",
    "\n",
    "    # Retrieve and print the feature importances (coefficients in this case)\n",
    "    importances = model.coef_\n",
    "    for variable, importance in zip(variables, importances):\n",
    "        print(f\"{variable}: {importance} (influence direction: {'positive' if importance > 0 else 'negative'})\")\n",
    "\n",
    "def calculate_feature_importances(df, variables, target):\n",
    "    # Subset the dataframe to include only the columns of interest\n",
    "    subset = df[variables + [target]]\n",
    "\n",
    "    # Split the data into features and target\n",
    "    X = subset[variables]\n",
    "    y = subset[target]\n",
    "\n",
    "    # Define the model\n",
    "    model = RandomForestRegressor(random_state=0)\n",
    "\n",
    "    # Cross validate model to ensure robustness\n",
    "    cv_scores = cross_val_score(model, X, y, cv=5)\n",
    "    print(f\"Cross validation scores: {cv_scores}\")\n",
    "    print(f\"Average cross-validation score: {np.mean(cv_scores)}\")\n",
    "\n",
    "    # Train the model\n",
    "    model.fit(X, y)\n",
    "\n",
    "    # Retrieve and print the feature importances\n",
    "    importances = model.feature_importances_\n",
    "    for variable, importance in zip(variables, importances):\n",
    "        print(f\"{variable}: {importance}\")\n",
    "\n",
    "def perform_anova(df, cat_vars, target_var):\n",
    "    anova_results = {}\n",
    "    \n",
    "    data=[]\n",
    "    for cat in cat_vars:\n",
    "        groups = [df[target_var][df[cat] == c].values for c in df[cat].unique()]\n",
    "        F, p = stats.f_oneway(*groups)\n",
    "        anova_results[cat] = {\"F\": F, \"p\": p}\n",
    "        data.append((cat,F,p))\n",
    "    anova_df = pd.DataFrame(data,columns=['Feature','F','p'])    \n",
    "\n",
    "    return anova_results, anova_df\n",
    "\n",
    "def compare_rankings_spearman(rank1, rank2):\n",
    "    coef, _ = spearmanr(rank1, rank2)\n",
    "    return coef\n",
    "\n",
    "def compare_rankings_kendall(rank1, rank2):\n",
    "    tau, _ = kendalltau(rank1, rank2)\n",
    "    return tau\n",
    "\n",
    "def check_anova_assumptions(df, input_vars, target_var):\n",
    "    for var in input_vars:\n",
    "        print(f\"\\nChecking assumptions for {var}:\")\n",
    "\n",
    "        # Group data by input variable categories\n",
    "        groups = df.groupby(var)[target_var].apply(list)\n",
    "\n",
    "        # Perform Shapiro-Wilk test for normality\n",
    "        for i, group in enumerate(groups):\n",
    "            _, p_value = stats.shapiro(group)\n",
    "            if p_value > 0.05:\n",
    "                print(f'Group {i} looks Gaussian (fail to reject H0)')\n",
    "            else:\n",
    "                print(f'Group {i} does not look Gaussian (reject H0)')\n",
    "            print(p_value)\n",
    "\n",
    "        # Perform Levene's test for equal variances\n",
    "        _, p_value = stats.levene(*groups)\n",
    "        if p_value > 0.05:\n",
    "            print('The variances look equal (fail to reject H0)')\n",
    "        else:\n",
    "            print('The variances do not look equal (reject H0)')\n",
    "\n",
    "def calulate_range(df,target_name,sample):\n",
    "    lower_bounds=[]\n",
    "    upper_bounds=[]\n",
    "    confidence_level = 0.95  # for a 95% confidence interval\n",
    "    z = norm.ppf(1 - (1 - confidence_level) / 2)\n",
    "    for _,row in df.iterrows():\n",
    "        standard_error = math.sqrt((row[target_name] * (1 - row[target_name])) / (sample))\n",
    "        lower_bounds.append(row[target_name] - z * standard_error)\n",
    "        upper_bounds.append(row[target_name] + z * standard_error)\n",
    "    df['lower']=lower_bounds\n",
    "    df['upper']=upper_bounds\n",
    "    return df\n",
    "from statsmodels.stats.multicomp import MultiComparison"
   ]
  },
  {
   "attachments": {},
   "cell_type": "markdown",
   "metadata": {},
   "source": [
    "## Data Setup\n"
   ]
  },
  {
   "cell_type": "code",
   "execution_count": 25,
   "metadata": {},
   "outputs": [],
   "source": [
    "df = pd.read_csv('data/data_files/wandb_results/wandb_finalrun.csv')\n",
    "categorical_vars = [\"articles\", \"filter\", \"labeling\", \"pos\", \"resolved\"]\n",
    "encoded_cats=[ 'articles_excellent',\n",
    "       'articles_protected', 'articles_random', 'articles_readworthy',\n",
    "       'filter_filter.csv', 'filter_nofilter.csv', 'labeling_link',\n",
    "       'labeling_namelink', 'labeling_quot', 'pos_masked', 'pos_nopos',\n",
    "       'pos_pos', 'resolved_nonresolved', 'resolved_resolved']\n",
    "\n",
    "test_rank = df[categorical_vars + ['transfer_acc', 'test_acc','fileindex']].sort_values(by='test_acc',ascending=False)\n",
    "trans_rank = df[categorical_vars + ['transfer_acc', 'test_acc', 'fileindex']].sort_values(\n",
    "    by='transfer_acc', ascending=False)"
   ]
  },
  {
   "attachments": {},
   "cell_type": "markdown",
   "metadata": {},
   "source": [
    "### POS-Speedup"
   ]
  },
  {
   "cell_type": "code",
   "execution_count": 26,
   "metadata": {},
   "outputs": [
    {
     "name": "stdout",
     "output_type": "stream",
     "text": [
      "POS masking has a computational speed up of: 33.02631578947369 % \n"
     ]
    }
   ],
   "source": [
    "rest_performance = df['Runtime'][df.pos != 'pos'].mean()\n",
    "pos_performance = df['Runtime'][df.pos == 'pos'].mean()\n",
    "pos_decrease = rest_performance - pos_performance\n",
    "percent_speedup =  pos_decrease / rest_performance\n",
    "print(f\"POS masking has a computational speed up of: {percent_speedup*100} % \")\n"
   ]
  },
  {
   "attachments": {},
   "cell_type": "markdown",
   "metadata": {},
   "source": [
    "# Results"
   ]
  },
  {
   "attachments": {},
   "cell_type": "markdown",
   "metadata": {},
   "source": [
    "## Top 10 "
   ]
  },
  {
   "attachments": {},
   "cell_type": "markdown",
   "metadata": {},
   "source": [
    "### By Test Accuracy:"
   ]
  },
  {
   "cell_type": "code",
   "execution_count": 27,
   "metadata": {},
   "outputs": [
    {
     "data": {
      "text/html": [
       "<div>\n",
       "<style scoped>\n",
       "    .dataframe tbody tr th:only-of-type {\n",
       "        vertical-align: middle;\n",
       "    }\n",
       "\n",
       "    .dataframe tbody tr th {\n",
       "        vertical-align: top;\n",
       "    }\n",
       "\n",
       "    .dataframe thead th {\n",
       "        text-align: right;\n",
       "    }\n",
       "</style>\n",
       "<table border=\"1\" class=\"dataframe\">\n",
       "  <thead>\n",
       "    <tr style=\"text-align: right;\">\n",
       "      <th></th>\n",
       "      <th>articles</th>\n",
       "      <th>filter</th>\n",
       "      <th>labeling</th>\n",
       "      <th>pos</th>\n",
       "      <th>resolved</th>\n",
       "      <th>transfer_acc</th>\n",
       "      <th>test_acc</th>\n",
       "      <th>fileindex</th>\n",
       "    </tr>\n",
       "  </thead>\n",
       "  <tbody>\n",
       "    <tr>\n",
       "      <th>22</th>\n",
       "      <td>protected</td>\n",
       "      <td>nofilter.csv</td>\n",
       "      <td>namelink</td>\n",
       "      <td>pos</td>\n",
       "      <td>resolved</td>\n",
       "      <td>0.628644</td>\n",
       "      <td>0.6641</td>\n",
       "      <td>20</td>\n",
       "    </tr>\n",
       "    <tr>\n",
       "      <th>21</th>\n",
       "      <td>random</td>\n",
       "      <td>nofilter.csv</td>\n",
       "      <td>namelink</td>\n",
       "      <td>pos</td>\n",
       "      <td>resolved</td>\n",
       "      <td>0.641318</td>\n",
       "      <td>0.6630</td>\n",
       "      <td>98</td>\n",
       "    </tr>\n",
       "    <tr>\n",
       "      <th>5</th>\n",
       "      <td>protected</td>\n",
       "      <td>nofilter.csv</td>\n",
       "      <td>namelink</td>\n",
       "      <td>pos</td>\n",
       "      <td>nonresolved</td>\n",
       "      <td>0.690748</td>\n",
       "      <td>0.6596</td>\n",
       "      <td>115</td>\n",
       "    </tr>\n",
       "    <tr>\n",
       "      <th>0</th>\n",
       "      <td>readworthy</td>\n",
       "      <td>nofilter.csv</td>\n",
       "      <td>namelink</td>\n",
       "      <td>pos</td>\n",
       "      <td>resolved</td>\n",
       "      <td>0.760456</td>\n",
       "      <td>0.6584</td>\n",
       "      <td>135</td>\n",
       "    </tr>\n",
       "    <tr>\n",
       "      <th>6</th>\n",
       "      <td>excellent</td>\n",
       "      <td>nofilter.csv</td>\n",
       "      <td>namelink</td>\n",
       "      <td>pos</td>\n",
       "      <td>nonresolved</td>\n",
       "      <td>0.685678</td>\n",
       "      <td>0.6583</td>\n",
       "      <td>16</td>\n",
       "    </tr>\n",
       "    <tr>\n",
       "      <th>8</th>\n",
       "      <td>random</td>\n",
       "      <td>nofilter.csv</td>\n",
       "      <td>namelink</td>\n",
       "      <td>pos</td>\n",
       "      <td>nonresolved</td>\n",
       "      <td>0.675539</td>\n",
       "      <td>0.6570</td>\n",
       "      <td>74</td>\n",
       "    </tr>\n",
       "    <tr>\n",
       "      <th>32</th>\n",
       "      <td>random</td>\n",
       "      <td>filter.csv</td>\n",
       "      <td>link</td>\n",
       "      <td>pos</td>\n",
       "      <td>nonresolved</td>\n",
       "      <td>0.608365</td>\n",
       "      <td>0.6550</td>\n",
       "      <td>32</td>\n",
       "    </tr>\n",
       "    <tr>\n",
       "      <th>1</th>\n",
       "      <td>readworthy</td>\n",
       "      <td>nofilter.csv</td>\n",
       "      <td>namelink</td>\n",
       "      <td>pos</td>\n",
       "      <td>nonresolved</td>\n",
       "      <td>0.757921</td>\n",
       "      <td>0.6523</td>\n",
       "      <td>58</td>\n",
       "    </tr>\n",
       "    <tr>\n",
       "      <th>13</th>\n",
       "      <td>readworthy</td>\n",
       "      <td>filter.csv</td>\n",
       "      <td>namelink</td>\n",
       "      <td>pos</td>\n",
       "      <td>nonresolved</td>\n",
       "      <td>0.661597</td>\n",
       "      <td>0.6493</td>\n",
       "      <td>89</td>\n",
       "    </tr>\n",
       "    <tr>\n",
       "      <th>15</th>\n",
       "      <td>excellent</td>\n",
       "      <td>filter.csv</td>\n",
       "      <td>namelink</td>\n",
       "      <td>pos</td>\n",
       "      <td>nonresolved</td>\n",
       "      <td>0.655260</td>\n",
       "      <td>0.6490</td>\n",
       "      <td>130</td>\n",
       "    </tr>\n",
       "  </tbody>\n",
       "</table>\n",
       "</div>"
      ],
      "text/plain": [
       "      articles        filter  labeling  pos     resolved  transfer_acc   \n",
       "22   protected  nofilter.csv  namelink  pos     resolved      0.628644  \\\n",
       "21      random  nofilter.csv  namelink  pos     resolved      0.641318   \n",
       "5    protected  nofilter.csv  namelink  pos  nonresolved      0.690748   \n",
       "0   readworthy  nofilter.csv  namelink  pos     resolved      0.760456   \n",
       "6    excellent  nofilter.csv  namelink  pos  nonresolved      0.685678   \n",
       "8       random  nofilter.csv  namelink  pos  nonresolved      0.675539   \n",
       "32      random    filter.csv      link  pos  nonresolved      0.608365   \n",
       "1   readworthy  nofilter.csv  namelink  pos  nonresolved      0.757921   \n",
       "13  readworthy    filter.csv  namelink  pos  nonresolved      0.661597   \n",
       "15   excellent    filter.csv  namelink  pos  nonresolved      0.655260   \n",
       "\n",
       "    test_acc  fileindex  \n",
       "22    0.6641         20  \n",
       "21    0.6630         98  \n",
       "5     0.6596        115  \n",
       "0     0.6584        135  \n",
       "6     0.6583         16  \n",
       "8     0.6570         74  \n",
       "32    0.6550         32  \n",
       "1     0.6523         58  \n",
       "13    0.6493         89  \n",
       "15    0.6490        130  "
      ]
     },
     "execution_count": 27,
     "metadata": {},
     "output_type": "execute_result"
    }
   ],
   "source": [
    "test_rank.head(10)"
   ]
  },
  {
   "attachments": {},
   "cell_type": "markdown",
   "metadata": {},
   "source": [
    "### By Transfer Accuracy:"
   ]
  },
  {
   "cell_type": "code",
   "execution_count": 28,
   "metadata": {},
   "outputs": [
    {
     "data": {
      "text/html": [
       "<div>\n",
       "<style scoped>\n",
       "    .dataframe tbody tr th:only-of-type {\n",
       "        vertical-align: middle;\n",
       "    }\n",
       "\n",
       "    .dataframe tbody tr th {\n",
       "        vertical-align: top;\n",
       "    }\n",
       "\n",
       "    .dataframe thead th {\n",
       "        text-align: right;\n",
       "    }\n",
       "</style>\n",
       "<table border=\"1\" class=\"dataframe\">\n",
       "  <thead>\n",
       "    <tr style=\"text-align: right;\">\n",
       "      <th></th>\n",
       "      <th>articles</th>\n",
       "      <th>filter</th>\n",
       "      <th>labeling</th>\n",
       "      <th>pos</th>\n",
       "      <th>resolved</th>\n",
       "      <th>transfer_acc</th>\n",
       "      <th>test_acc</th>\n",
       "      <th>fileindex</th>\n",
       "    </tr>\n",
       "  </thead>\n",
       "  <tbody>\n",
       "    <tr>\n",
       "      <th>0</th>\n",
       "      <td>readworthy</td>\n",
       "      <td>nofilter.csv</td>\n",
       "      <td>namelink</td>\n",
       "      <td>pos</td>\n",
       "      <td>resolved</td>\n",
       "      <td>0.760456</td>\n",
       "      <td>0.6584</td>\n",
       "      <td>135</td>\n",
       "    </tr>\n",
       "    <tr>\n",
       "      <th>1</th>\n",
       "      <td>readworthy</td>\n",
       "      <td>nofilter.csv</td>\n",
       "      <td>namelink</td>\n",
       "      <td>pos</td>\n",
       "      <td>nonresolved</td>\n",
       "      <td>0.757921</td>\n",
       "      <td>0.6523</td>\n",
       "      <td>58</td>\n",
       "    </tr>\n",
       "    <tr>\n",
       "      <th>2</th>\n",
       "      <td>protected</td>\n",
       "      <td>nofilter.csv</td>\n",
       "      <td>link</td>\n",
       "      <td>pos</td>\n",
       "      <td>resolved</td>\n",
       "      <td>0.745247</td>\n",
       "      <td>0.6301</td>\n",
       "      <td>24</td>\n",
       "    </tr>\n",
       "    <tr>\n",
       "      <th>3</th>\n",
       "      <td>excellent</td>\n",
       "      <td>nofilter.csv</td>\n",
       "      <td>namelink</td>\n",
       "      <td>pos</td>\n",
       "      <td>resolved</td>\n",
       "      <td>0.736375</td>\n",
       "      <td>0.6384</td>\n",
       "      <td>123</td>\n",
       "    </tr>\n",
       "    <tr>\n",
       "      <th>4</th>\n",
       "      <td>protected</td>\n",
       "      <td>nofilter.csv</td>\n",
       "      <td>link</td>\n",
       "      <td>nopos</td>\n",
       "      <td>nonresolved</td>\n",
       "      <td>0.697085</td>\n",
       "      <td>0.6114</td>\n",
       "      <td>21</td>\n",
       "    </tr>\n",
       "    <tr>\n",
       "      <th>5</th>\n",
       "      <td>protected</td>\n",
       "      <td>nofilter.csv</td>\n",
       "      <td>namelink</td>\n",
       "      <td>pos</td>\n",
       "      <td>nonresolved</td>\n",
       "      <td>0.690748</td>\n",
       "      <td>0.6596</td>\n",
       "      <td>115</td>\n",
       "    </tr>\n",
       "    <tr>\n",
       "      <th>6</th>\n",
       "      <td>excellent</td>\n",
       "      <td>nofilter.csv</td>\n",
       "      <td>namelink</td>\n",
       "      <td>pos</td>\n",
       "      <td>nonresolved</td>\n",
       "      <td>0.685678</td>\n",
       "      <td>0.6583</td>\n",
       "      <td>16</td>\n",
       "    </tr>\n",
       "    <tr>\n",
       "      <th>7</th>\n",
       "      <td>random</td>\n",
       "      <td>nofilter.csv</td>\n",
       "      <td>link</td>\n",
       "      <td>pos</td>\n",
       "      <td>resolved</td>\n",
       "      <td>0.679341</td>\n",
       "      <td>0.6382</td>\n",
       "      <td>65</td>\n",
       "    </tr>\n",
       "    <tr>\n",
       "      <th>8</th>\n",
       "      <td>random</td>\n",
       "      <td>nofilter.csv</td>\n",
       "      <td>namelink</td>\n",
       "      <td>pos</td>\n",
       "      <td>nonresolved</td>\n",
       "      <td>0.675539</td>\n",
       "      <td>0.6570</td>\n",
       "      <td>74</td>\n",
       "    </tr>\n",
       "    <tr>\n",
       "      <th>9</th>\n",
       "      <td>readworthy</td>\n",
       "      <td>nofilter.csv</td>\n",
       "      <td>link</td>\n",
       "      <td>pos</td>\n",
       "      <td>resolved</td>\n",
       "      <td>0.667934</td>\n",
       "      <td>0.6390</td>\n",
       "      <td>0</td>\n",
       "    </tr>\n",
       "  </tbody>\n",
       "</table>\n",
       "</div>"
      ],
      "text/plain": [
       "     articles        filter  labeling    pos     resolved  transfer_acc   \n",
       "0  readworthy  nofilter.csv  namelink    pos     resolved      0.760456  \\\n",
       "1  readworthy  nofilter.csv  namelink    pos  nonresolved      0.757921   \n",
       "2   protected  nofilter.csv      link    pos     resolved      0.745247   \n",
       "3   excellent  nofilter.csv  namelink    pos     resolved      0.736375   \n",
       "4   protected  nofilter.csv      link  nopos  nonresolved      0.697085   \n",
       "5   protected  nofilter.csv  namelink    pos  nonresolved      0.690748   \n",
       "6   excellent  nofilter.csv  namelink    pos  nonresolved      0.685678   \n",
       "7      random  nofilter.csv      link    pos     resolved      0.679341   \n",
       "8      random  nofilter.csv  namelink    pos  nonresolved      0.675539   \n",
       "9  readworthy  nofilter.csv      link    pos     resolved      0.667934   \n",
       "\n",
       "   test_acc  fileindex  \n",
       "0    0.6584        135  \n",
       "1    0.6523         58  \n",
       "2    0.6301         24  \n",
       "3    0.6384        123  \n",
       "4    0.6114         21  \n",
       "5    0.6596        115  \n",
       "6    0.6583         16  \n",
       "7    0.6382         65  \n",
       "8    0.6570         74  \n",
       "9    0.6390          0  "
      ]
     },
     "execution_count": 28,
     "metadata": {},
     "output_type": "execute_result"
    }
   ],
   "source": [
    "trans_rank.head(10)"
   ]
  },
  {
   "attachments": {},
   "cell_type": "markdown",
   "metadata": {},
   "source": [
    "## Feature importance"
   ]
  },
  {
   "attachments": {},
   "cell_type": "markdown",
   "metadata": {},
   "source": [
    "### ANOVA"
   ]
  },
  {
   "attachments": {},
   "cell_type": "markdown",
   "metadata": {},
   "source": [
    "#### ANOVA prerequisites Transfer Accuracy"
   ]
  },
  {
   "cell_type": "code",
   "execution_count": 29,
   "metadata": {},
   "outputs": [
    {
     "name": "stdout",
     "output_type": "stream",
     "text": [
      "\n",
      "Checking assumptions for articles:\n",
      "Group 0 does not look Gaussian (reject H0)\n",
      "0.0001191661722259596\n",
      "Group 1 does not look Gaussian (reject H0)\n",
      "0.0018771820468828082\n",
      "Group 2 does not look Gaussian (reject H0)\n",
      "0.00802804995328188\n",
      "Group 3 looks Gaussian (fail to reject H0)\n",
      "0.19863443076610565\n",
      "The variances look equal (fail to reject H0)\n",
      "\n",
      "Checking assumptions for filter:\n",
      "Group 0 does not look Gaussian (reject H0)\n",
      "0.0005169930518604815\n",
      "Group 1 does not look Gaussian (reject H0)\n",
      "2.686220977921039e-05\n",
      "The variances do not look equal (reject H0)\n",
      "\n",
      "Checking assumptions for labeling:\n",
      "Group 0 does not look Gaussian (reject H0)\n",
      "0.04491310566663742\n",
      "Group 1 does not look Gaussian (reject H0)\n",
      "0.0018110014498233795\n",
      "Group 2 does not look Gaussian (reject H0)\n",
      "0.0002676627191249281\n",
      "The variances do not look equal (reject H0)\n",
      "\n",
      "Checking assumptions for pos:\n",
      "Group 0 does not look Gaussian (reject H0)\n",
      "1.0775072951219045e-05\n",
      "Group 1 does not look Gaussian (reject H0)\n",
      "0.00031883417977951467\n",
      "Group 2 looks Gaussian (fail to reject H0)\n",
      "0.783362627029419\n",
      "The variances look equal (fail to reject H0)\n",
      "\n",
      "Checking assumptions for resolved:\n",
      "Group 0 does not look Gaussian (reject H0)\n",
      "0.000929382920730859\n",
      "Group 1 does not look Gaussian (reject H0)\n",
      "0.00012137523299315944\n",
      "The variances look equal (fail to reject H0)\n"
     ]
    }
   ],
   "source": [
    "check_anova_assumptions(df,categorical_vars,'transfer_acc')"
   ]
  },
  {
   "attachments": {},
   "cell_type": "markdown",
   "metadata": {},
   "source": [
    "#### Results Anova Transfer Accuracy"
   ]
  },
  {
   "cell_type": "code",
   "execution_count": 30,
   "metadata": {},
   "outputs": [
    {
     "name": "stdout",
     "output_type": "stream",
     "text": [
      "    Feature          F             p\n",
      "0  articles   1.290157  2.802434e-01\n",
      "1    filter   0.608140  4.367868e-01\n",
      "2  labeling   4.071418  1.909758e-02\n",
      "3       pos  50.363434  3.129971e-17\n",
      "4  resolved   0.026183  8.716836e-01\n"
     ]
    }
   ],
   "source": [
    "anova_dict, anova_df = perform_anova(df,categorical_vars,'transfer_acc')\n",
    "print(anova_df)"
   ]
  },
  {
   "attachments": {},
   "cell_type": "markdown",
   "metadata": {},
   "source": [
    "#### Results Anova Test Accuracy"
   ]
  },
  {
   "cell_type": "code",
   "execution_count": 31,
   "metadata": {},
   "outputs": [
    {
     "name": "stdout",
     "output_type": "stream",
     "text": [
      "    Feature          F             p\n",
      "0  articles   1.132583  3.381400e-01\n",
      "1    filter   9.186926  2.897609e-03\n",
      "2  labeling  50.871189  2.329070e-17\n",
      "3       pos  15.051441  1.189340e-06\n",
      "4  resolved   0.280503  5.971990e-01\n"
     ]
    }
   ],
   "source": [
    "anova_dict_test, anova_df_test = perform_anova(df,categorical_vars,'test_acc')\n",
    "print(anova_df_test)"
   ]
  },
  {
   "attachments": {},
   "cell_type": "markdown",
   "metadata": {},
   "source": [
    "### Tukey HSD"
   ]
  },
  {
   "attachments": {},
   "cell_type": "markdown",
   "metadata": {},
   "source": [
    "#### Tukey HSD of 'labeling'"
   ]
  },
  {
   "cell_type": "code",
   "execution_count": 32,
   "metadata": {},
   "outputs": [
    {
     "name": "stdout",
     "output_type": "stream",
     "text": [
      "  Multiple Comparison of Means - Tukey HSD, FWER=0.05  \n",
      "=======================================================\n",
      " group1   group2  meandiff p-adj   lower  upper  reject\n",
      "-------------------------------------------------------\n",
      "    link namelink    0.015 0.6325 -0.0238 0.0538  False\n",
      "    link     quot  -0.0309  0.147 -0.0697 0.0079  False\n",
      "namelink     quot  -0.0458 0.0161 -0.0846 -0.007   True\n",
      "-------------------------------------------------------\n"
     ]
    }
   ],
   "source": [
    "mc = MultiComparison(df['transfer_acc'], df['labeling'])\n",
    "result = mc.tukeyhsd()\n",
    "print(result)"
   ]
  },
  {
   "attachments": {},
   "cell_type": "markdown",
   "metadata": {},
   "source": [
    "#### Tukey HSD of pos/mask"
   ]
  },
  {
   "cell_type": "code",
   "execution_count": 33,
   "metadata": {},
   "outputs": [
    {
     "name": "stdout",
     "output_type": "stream",
     "text": [
      "Multiple Comparison of Means - Tukey HSD, FWER=0.05\n",
      "===================================================\n",
      "group1 group2 meandiff p-adj   lower  upper  reject\n",
      "---------------------------------------------------\n",
      "masked  nopos   0.0198 0.2778 -0.0107 0.0502  False\n",
      "masked    pos   0.1204    0.0  0.0899 0.1509   True\n",
      " nopos    pos   0.1007    0.0  0.0702 0.1311   True\n",
      "---------------------------------------------------\n"
     ]
    }
   ],
   "source": [
    "mc = MultiComparison(df['transfer_acc'], df['pos'])\n",
    "result = mc.tukeyhsd()\n",
    "print(result)"
   ]
  },
  {
   "cell_type": "code",
   "execution_count": 34,
   "metadata": {},
   "outputs": [
    {
     "name": "stdout",
     "output_type": "stream",
     "text": [
      "  Multiple Comparison of Means - Tukey HSD, FWER=0.05  \n",
      "=======================================================\n",
      " group1   group2  meandiff p-adj   lower  upper  reject\n",
      "-------------------------------------------------------\n",
      "    link namelink    0.015 0.6325 -0.0238 0.0538  False\n",
      "    link     quot  -0.0309  0.147 -0.0697 0.0079  False\n",
      "namelink     quot  -0.0458 0.0161 -0.0846 -0.007   True\n",
      "-------------------------------------------------------\n"
     ]
    }
   ],
   "source": [
    "mc = MultiComparison(df['transfer_acc'], df['labeling'])\n",
    "result = mc.tukeyhsd()\n",
    "print(result)"
   ]
  },
  {
   "attachments": {},
   "cell_type": "markdown",
   "metadata": {},
   "source": [
    "#### Extra Calculation Test Accuracy: Tukey HSD of 'labeling'"
   ]
  },
  {
   "cell_type": "code",
   "execution_count": 35,
   "metadata": {},
   "outputs": [
    {
     "name": "stdout",
     "output_type": "stream",
     "text": [
      "    Multiple Comparison of Means - Tukey HSD, FWER=0.05     \n",
      "============================================================\n",
      "  group1      group2    meandiff p-adj  lower  upper  reject\n",
      "------------------------------------------------------------\n",
      "filter.csv nofilter.csv   0.0193 0.0029 0.0067 0.0319   True\n",
      "------------------------------------------------------------\n"
     ]
    }
   ],
   "source": [
    "\n",
    "mc = MultiComparison(df['test_acc'], df['filter'])\n",
    "result = mc.tukeyhsd()\n",
    "print(result)"
   ]
  },
  {
   "cell_type": "code",
   "execution_count": null,
   "metadata": {},
   "outputs": [],
   "source": []
  }
 ],
 "metadata": {
  "kernelspec": {
   "display_name": "jannis-env9",
   "language": "python",
   "name": "python3"
  },
  "language_info": {
   "codemirror_mode": {
    "name": "ipython",
    "version": 3
   },
   "file_extension": ".py",
   "mimetype": "text/x-python",
   "name": "python",
   "nbconvert_exporter": "python",
   "pygments_lexer": "ipython3",
   "version": "3.9.16"
  },
  "orig_nbformat": 4
 },
 "nbformat": 4,
 "nbformat_minor": 2
}
