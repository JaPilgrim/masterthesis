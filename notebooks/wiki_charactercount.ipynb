{
 "cells": [
  {
   "attachments": {},
   "cell_type": "markdown",
   "metadata": {},
   "source": [
    "# Setup"
   ]
  },
  {
   "attachments": {},
   "cell_type": "markdown",
   "metadata": {},
   "source": [
    "## Function Setup"
   ]
  },
  {
   "cell_type": "code",
   "execution_count": 2,
   "metadata": {},
   "outputs": [],
   "source": [
    "import seaborn as sns\n",
    "import pandas as pd\n",
    "import os\n",
    "import numpy as np\n",
    "import matplotlib.pyplot as plt\n",
    "from scipy import stats\n",
    "import statistics\n",
    "import requests\n",
    "import concurrent.futures\n",
    "from collections import Counter\n",
    "import pandas as pd\n",
    "import ast\n",
    "import json\n"
   ]
  },
  {
   "cell_type": "code",
   "execution_count": 3,
   "metadata": {},
   "outputs": [],
   "source": [
    "def exploratory_stats(arrays, array_names):\n",
    "    stats_list = []\n",
    "    for idx, array in enumerate(list(arrays)):\n",
    "        array_name = array_names[idx]\n",
    "        np_array = np.array(array, dtype=float)  # Ensure the array has a float dtype to handle NaNs\n",
    "\n",
    "        mean = np.nanmean(np_array).round(2)\n",
    "        median = np.nanmedian(np_array).round(2)\n",
    "        min_value = np.nanmin(np_array).round(2)\n",
    "        max_value = np.nanmax(np_array).round(2)\n",
    "        std_dev = np.nanstd(np_array).round(2)\n",
    "        q25 = np.nanpercentile(np_array, 25).round(2)\n",
    "        q75 = np.nanpercentile(np_array, 75).round(2)\n",
    "\n",
    "        stats_list.append([ array_name, min_value, q25,mean,  q75, max_value, median, std_dev])\n",
    "\n",
    "    stats_df = pd.DataFrame(stats_list,\n",
    "                            columns=[\n",
    "                                'Article Category', 'Min', '1st Quantile', 'Mean', '3rd Quantile',\n",
    "                                'Max', 'Median', 'Standard Deviation'\n",
    "                            ])\n",
    "\n",
    "    return stats_df\n",
    "\n",
    "# define a function to read JSON file and return data\n",
    "def read_json_file(filename):\n",
    "    with open(filename, 'r') as f:\n",
    "        data = json.load(f)\n",
    "    return data\n",
    "\n"
   ]
  },
  {
   "cell_type": "code",
   "execution_count": 4,
   "metadata": {},
   "outputs": [],
   "source": [
    "\n",
    "\n",
    "# initialize an empty DataFrame\n",
    "df = pd.DataFrame()\n",
    "\n",
    "# specify the directory where JSON files are stored\n",
    "dir_path = \"data/data_files/fang-covid/articles/\"\n",
    "temp_df = pd.DataFrame()\n",
    "source_arr = []\n",
    "date_arr = []\n",
    "article_arr = []\n",
    "label_arr=[]\n",
    "# loop over all JSON files in the directory\n",
    "for filename in os.listdir(dir_path):\n",
    "    if filename.endswith('.json'):\n",
    "        full_filename = os.path.join(dir_path, filename)\n",
    "\n",
    "        f = open(full_filename)\n",
    "        single_fang = json.load(f)\n",
    "        f.close()\n",
    "\n",
    "        # append data to DataFrame\n",
    "        source_arr.append(single_fang['source'])\n",
    "        date_arr.append(single_fang['date'])\n",
    "        article_arr.append(single_fang['article'])\n",
    "        label_arr.append(single_fang['label'])\n",
    "\n",
    "df['Publisher']=source_arr\n",
    "df['Date']=date_arr\n",
    "df['Article']=article_arr\n",
    "df['Veracity']=label_arr\n",
    "df['word_count'] = np.array(df['Article'].apply(lambda x: len(str(x).split())))\n",
    "df['char_count'] = df['Article'].apply(lambda x: len(str(x)))\n",
    "\n",
    "# keep only 'source', 'date', 'label' and 'article'\n",
    "# df = df[['source', 'date', 'label', 'article']]"
   ]
  },
  {
   "attachments": {},
   "cell_type": "markdown",
   "metadata": {},
   "source": [
    "## Data Setup"
   ]
  },
  {
   "cell_type": "code",
   "execution_count": null,
   "metadata": {},
   "outputs": [],
   "source": [
    "whole_dict = {\n",
    "    'protected': {\n",
    "        'df':\n",
    "        pd.read_csv(\n",
    "            f'data/data_files/pipeline_steps/protected_articles/1_all_articles_fetched.csv'),\n",
    "        'titles':\n",
    "        pd.read_csv(f'data/data_files/pipeline_steps/protected_articles/0_protected_titles.csv')\n",
    "    },\n",
    "    'excellent': {\n",
    "        'df':\n",
    "        pd.read_csv(\n",
    "            f'data/data_files/pipeline_steps/excellent_articles/1_all_articles_fetched.csv'),\n",
    "        'titles':\n",
    "        pd.read_csv(f'data/data_files/pipeline_steps/excellent_articles/0_excellent_titles.csv')\n",
    "    },\n",
    "    'readworthy': {\n",
    "        'df':\n",
    "        pd.read_csv(\n",
    "            f'data/data_files/pipeline_steps/readworthy_articles/1_all_articles_fetched.csv'),\n",
    "        'titles':\n",
    "        pd.read_csv(f'data/data_files/pipeline_steps/readworthy_articles/0_readworthy_titles.csv')\n",
    "    },\n",
    "    'random': {\n",
    "        'df':\n",
    "        pd.read_csv(f'data/data_files/pipeline_steps/random_articles/1_all_articles_fetched.csv'),\n",
    "        'titles':\n",
    "        pd.read_csv(f'data/data_files/pipeline_steps/random_articles/0_random_titles.csv')\n",
    "    },\n",
    "}\n"
   ]
  },
  {
   "cell_type": "code",
   "execution_count": 6,
   "metadata": {},
   "outputs": [],
   "source": [
    "excellent_art = pd.read_csv(f'data/data_files/pipeline_steps/excellent_articles/1_all_articles_fetched.csv')\n",
    "readworthy_art = pd.read_csv(f'data/data_files/pipeline_steps/readworthy_articles/1_all_articles_fetched.csv')\n",
    "protected_art = pd.read_csv(f'data/data_files/pipeline_steps/protected_articles/1_all_articles_fetched.csv')\n",
    "random_art = pd.read_csv(\n",
    "    f'data/data_files/pipeline_steps/random_articles/1_all_articles_fetched.csv')\n",
    "\n",
    "\n",
    "\n",
    "max_len = max(len(excellent_art.dropna()), len(readworthy_art.dropna()), len(protected_art.dropna()),\n",
    "              len(random_art.dropna()),len(df.dropna()))\n",
    "new_index = np.arange(max_len)\n",
    "\n",
    "\n",
    "name_list = []\n",
    "category_name_list = ['protected','excellent','readworthy','random']\n",
    "\n",
    "# for key,value in whole_dict.items():\n",
    "#     name_list.append(key+' Articles')\n",
    "#     category_name_list.append(key)\n",
    "\n",
    "char_count_article_df = pd.DataFrame()\n"
   ]
  },
  {
   "cell_type": "code",
   "execution_count": 7,
   "metadata": {},
   "outputs": [],
   "source": [
    "word_count_article_protected = np.array(protected_art['sub_texts'].apply(lambda x: len(str(x).split())))\n",
    "word_count_article_excellent = np.array(excellent_art['sub_texts'].apply(lambda x: len(str(x).split())))\n",
    "word_count_article_readworthy = np.array(readworthy_art['sub_texts'].apply(\n",
    "    lambda x: len(str(x).split())))\n",
    "word_count_article_protected = np.concatenate([word_count_article_protected , np.array([np.nan] * (\n",
    "    max_len - len(word_count_article_protected)))])\n",
    "word_count_article_excellent = np.concatenate([word_count_article_excellent , np.array([np.nan] * (\n",
    "    max_len - len(word_count_article_excellent)))])\n",
    "word_count_article_readworthy = np.concatenate([word_count_article_readworthy , np.array([np.nan] * (\n",
    "    max_len - len(word_count_article_readworthy)))])\n",
    "\n",
    "word_count_article_random = np.array(random_art['sub_texts'].apply(\n",
    "    lambda x: len(str(x).split())))\n",
    "word_count_article_random = np.concatenate([word_count_article_random, np.array([np.nan] * (\n",
    "    max_len - len(word_count_article_random)))])\n",
    "\n"
   ]
  },
  {
   "cell_type": "code",
   "execution_count": 83,
   "metadata": {},
   "outputs": [
    {
     "name": "stdout",
     "output_type": "stream",
     "text": [
      "protected\n",
      "[7.234e+03 4.000e+00 5.000e+00 ...       nan       nan       nan]\n",
      "excellent\n",
      "[2592. 2819. 2522. ...   nan   nan   nan]\n",
      "readworthy\n",
      "[2061. 4194. 1432. ...   nan   nan   nan]\n",
      "random\n",
      "[  6. 166. 337. ...  82. 242. 239.]\n"
     ]
    }
   ],
   "source": [
    "for key,value in whole_dict.items():\n",
    "    curr_df = value['df'].dropna()\n",
    "    whole_dict[key]['word_count'] = np.array(curr_df['sub_texts'].apply(lambda x: len(str(x).split())))\n",
    "    whole_dict[key]['word_count'] = np.concatenate([\n",
    "        whole_dict[key]['word_count'],\n",
    "        np.array([np.nan] * (max_len - len(whole_dict[key]['word_count'])))\n",
    "    ])\n",
    "    print(key)\n",
    "    print(whole_dict[key]['word_count'])\n"
   ]
  },
  {
   "attachments": {},
   "cell_type": "markdown",
   "metadata": {},
   "source": [
    "# Character count"
   ]
  },
  {
   "cell_type": "code",
   "execution_count": 9,
   "metadata": {},
   "outputs": [],
   "source": [
    "char_count_article_protected = protected_art['sub_texts'].apply(lambda x: len(str(x)))\n",
    "char_count_article_excellent = excellent_art['sub_texts'].apply(lambda x: len(str(x)))\n",
    "char_count_article_readworthy = readworthy_art['sub_texts'].apply(lambda x: len(str(x)))\n",
    "char_count_article_random = random_art['sub_texts'].apply(lambda x: len(str(x)))"
   ]
  },
  {
   "cell_type": "code",
   "execution_count": 10,
   "metadata": {},
   "outputs": [],
   "source": [
    "char_count_article_protected = np.concatenate([\n",
    "    char_count_article_protected,\n",
    "    np.array([np.nan] * (max_len - len(char_count_article_protected)))\n",
    "])\n",
    "char_count_article_excellent = np.concatenate([\n",
    "    char_count_article_excellent,\n",
    "    np.array([np.nan] * (max_len - len(char_count_article_excellent)))\n",
    "])\n",
    "char_count_article_readworthy = np.concatenate([\n",
    "    char_count_article_readworthy,\n",
    "    np.array([np.nan] * (max_len - len(char_count_article_readworthy)))\n",
    "])\n",
    "char_count_article_random = np.concatenate([\n",
    "    char_count_article_random,\n",
    "    np.array([np.nan] * (max_len - len(char_count_article_random)))\n",
    "])\n",
    "char_count_article_FANG = np.concatenate([\n",
    "    df['char_count'],\n",
    "    np.array([np.nan] * (max_len - len(df)  ))                                    ])\n"
   ]
  },
  {
   "attachments": {},
   "cell_type": "markdown",
   "metadata": {},
   "source": [
    "## Exploratory stats"
   ]
  },
  {
   "cell_type": "code",
   "execution_count": 11,
   "metadata": {},
   "outputs": [],
   "source": [
    "char_exp = exploratory_stats([\n",
    "    char_count_article_protected, char_count_article_excellent, char_count_article_readworthy,\n",
    "    char_count_article_random\n",
    "], category_name_list)\n"
   ]
  },
  {
   "cell_type": "code",
   "execution_count": 12,
   "metadata": {},
   "outputs": [
    {
     "data": {
      "text/html": [
       "<div>\n",
       "<style scoped>\n",
       "    .dataframe tbody tr th:only-of-type {\n",
       "        vertical-align: middle;\n",
       "    }\n",
       "\n",
       "    .dataframe tbody tr th {\n",
       "        vertical-align: top;\n",
       "    }\n",
       "\n",
       "    .dataframe thead th {\n",
       "        text-align: right;\n",
       "    }\n",
       "</style>\n",
       "<table border=\"1\" class=\"dataframe\">\n",
       "  <thead>\n",
       "    <tr style=\"text-align: right;\">\n",
       "      <th></th>\n",
       "      <th>Article Category</th>\n",
       "      <th>Min</th>\n",
       "      <th>1st Quantile</th>\n",
       "      <th>Mean</th>\n",
       "      <th>3rd Quantile</th>\n",
       "      <th>Max</th>\n",
       "      <th>Median</th>\n",
       "      <th>Standard Deviation</th>\n",
       "    </tr>\n",
       "  </thead>\n",
       "  <tbody>\n",
       "    <tr>\n",
       "      <th>0</th>\n",
       "      <td>protected</td>\n",
       "      <td>2.0</td>\n",
       "      <td>2414.0</td>\n",
       "      <td>18146.57</td>\n",
       "      <td>22191.0</td>\n",
       "      <td>254290.0</td>\n",
       "      <td>7886.0</td>\n",
       "      <td>26578.37</td>\n",
       "    </tr>\n",
       "    <tr>\n",
       "      <th>1</th>\n",
       "      <td>excellent</td>\n",
       "      <td>2.0</td>\n",
       "      <td>18152.0</td>\n",
       "      <td>36844.44</td>\n",
       "      <td>49075.0</td>\n",
       "      <td>362177.0</td>\n",
       "      <td>30935.5</td>\n",
       "      <td>28100.33</td>\n",
       "    </tr>\n",
       "    <tr>\n",
       "      <th>2</th>\n",
       "      <td>readworthy</td>\n",
       "      <td>2.0</td>\n",
       "      <td>12222.5</td>\n",
       "      <td>25872.03</td>\n",
       "      <td>32566.5</td>\n",
       "      <td>254290.0</td>\n",
       "      <td>19899.5</td>\n",
       "      <td>22454.69</td>\n",
       "    </tr>\n",
       "    <tr>\n",
       "      <th>3</th>\n",
       "      <td>random</td>\n",
       "      <td>1.0</td>\n",
       "      <td>640.0</td>\n",
       "      <td>2497.89</td>\n",
       "      <td>2871.0</td>\n",
       "      <td>155929.0</td>\n",
       "      <td>1482.5</td>\n",
       "      <td>4387.88</td>\n",
       "    </tr>\n",
       "  </tbody>\n",
       "</table>\n",
       "</div>"
      ],
      "text/plain": [
       "  Article Category  Min  1st Quantile      Mean  3rd Quantile       Max   \n",
       "0        protected  2.0        2414.0  18146.57       22191.0  254290.0  \\\n",
       "1        excellent  2.0       18152.0  36844.44       49075.0  362177.0   \n",
       "2       readworthy  2.0       12222.5  25872.03       32566.5  254290.0   \n",
       "3           random  1.0         640.0   2497.89        2871.0  155929.0   \n",
       "\n",
       "    Median  Standard Deviation  \n",
       "0   7886.0            26578.37  \n",
       "1  30935.5            28100.33  \n",
       "2  19899.5            22454.69  \n",
       "3   1482.5             4387.88  "
      ]
     },
     "metadata": {},
     "output_type": "display_data"
    }
   ],
   "source": [
    "display(char_exp)"
   ]
  },
  {
   "attachments": {},
   "cell_type": "markdown",
   "metadata": {},
   "source": [
    "## Boxplot"
   ]
  },
  {
   "cell_type": "code",
   "execution_count": 14,
   "metadata": {},
   "outputs": [
    {
     "data": {
      "image/png": "[encoded data removed]",
      "text/plain": [
       "<Figure size 640x480 with 1 Axes>"
      ]
     },
     "metadata": {},
     "output_type": "display_data"
    }
   ],
   "source": [
    "ax = sns.boxplot(data=[\n",
    "    char_count_article_protected, char_count_article_excellent, char_count_article_readworthy,\n",
    "    char_count_article_random\n",
    "],\n",
    "                    showfliers=False)\n",
    "\n",
    "# Set plot title and labels\n",
    "# plt.title('Character Count Distribution by Article Category')\n",
    "plt.xlabel('Dataset')\n",
    "plt.ylabel('Character Count')\n",
    "plt.xticks([0, 1, 2,3], ['Protected ', 'Excellent ', 'Readworthy ','Random'])\n",
    "ax.set_ylim(0, 60000)\n",
    "\n",
    "\n",
    "# Show the plot\n",
    "plt.show()"
   ]
  },
  {
   "attachments": {},
   "cell_type": "markdown",
   "metadata": {},
   "source": [
    "## Characters per Word"
   ]
  },
  {
   "cell_type": "code",
   "execution_count": 15,
   "metadata": {},
   "outputs": [
    {
     "ename": "NameError",
     "evalue": "name 'whole_dict' is not defined",
     "output_type": "error",
     "traceback": [
      "\u001b[0;31m---------------------------------------------------------------------------\u001b[0m",
      "\u001b[0;31mNameError\u001b[0m                                 Traceback (most recent call last)",
      "Cell \u001b[0;32mIn[15], line 2\u001b[0m\n\u001b[1;32m      1\u001b[0m protected_charwords \u001b[39m=\u001b[39m np\u001b[39m.\u001b[39mnansum(char_count_article_protected) \u001b[39m/\u001b[39m np\u001b[39m.\u001b[39mnansum(\n\u001b[0;32m----> 2\u001b[0m     whole_dict[\u001b[39m'\u001b[39m\u001b[39mprotected\u001b[39m\u001b[39m'\u001b[39m][\u001b[39m'\u001b[39m\u001b[39mword_count\u001b[39m\u001b[39m'\u001b[39m])\n\u001b[1;32m      3\u001b[0m excellent_charwords \u001b[39m=\u001b[39m np\u001b[39m.\u001b[39mnansum(char_count_article_excellent) \u001b[39m/\u001b[39m np\u001b[39m.\u001b[39mnansum(\n\u001b[1;32m      4\u001b[0m     whole_dict[\u001b[39m'\u001b[39m\u001b[39mexcellent\u001b[39m\u001b[39m'\u001b[39m][\u001b[39m'\u001b[39m\u001b[39mword_count\u001b[39m\u001b[39m'\u001b[39m])\n\u001b[1;32m      5\u001b[0m readworthy_charwords \u001b[39m=\u001b[39m np\u001b[39m.\u001b[39mnansum(char_count_article_readworthy) \u001b[39m/\u001b[39m np\u001b[39m.\u001b[39mnansum(\n\u001b[1;32m      6\u001b[0m     whole_dict[\u001b[39m'\u001b[39m\u001b[39mreadworthy\u001b[39m\u001b[39m'\u001b[39m][\u001b[39m'\u001b[39m\u001b[39mword_count\u001b[39m\u001b[39m'\u001b[39m])\n",
      "\u001b[0;31mNameError\u001b[0m: name 'whole_dict' is not defined"
     ]
    }
   ],
   "source": [
    "protected_charwords = np.nansum(char_count_article_protected) / np.nansum(\n",
    "    whole_dict['protected']['word_count'])\n",
    "excellent_charwords = np.nansum(char_count_article_excellent) / np.nansum(\n",
    "    whole_dict['excellent']['word_count'])\n",
    "readworthy_charwords = np.nansum(char_count_article_readworthy) / np.nansum(\n",
    "    whole_dict['readworthy']['word_count'])\n",
    "random_charwords = np.nansum(char_count_article_random) / np.nansum(\n",
    "    whole_dict['random']['word_count'])\n"
   ]
  },
  {
   "cell_type": "code",
   "execution_count": 112,
   "metadata": {},
   "outputs": [
    {
     "name": "stdout",
     "output_type": "stream",
     "text": [
      "protected: 7.499411763765956, excellent: 7.447989987832617, readworthy: 7.434207149423708, random: 7.272875224491842\n"
     ]
    }
   ],
   "source": [
    "print(\n",
    "    f\"protected: {protected_charwords}, excellent: {excellent_charwords}, readworthy: {readworthy_charwords}, random: {random_charwords}\"\n",
    ")\n"
   ]
  },
  {
   "attachments": {},
   "cell_type": "markdown",
   "metadata": {},
   "source": [
    "## Boxplot incl. FANG"
   ]
  },
  {
   "cell_type": "code",
   "execution_count": null,
   "metadata": {},
   "outputs": [],
   "source": [
    "ax = sns.boxplot(data=[\n",
    "    char_count_article_protected, char_count_article_excellent, char_count_article_readworthy,\n",
    "    char_count_article_random,char_count_article_FANG\n",
    "],\n",
    "                    showfliers=False)\n",
    "\n",
    "# Set plot title and labels\n",
    "# plt.title('Character Count Distribution by Article Category')\n",
    "plt.xlabel('Dataset')\n",
    "plt.ylabel('Character Count')\n",
    "plt.xticks([0, 1, 2,3,4], ['Protected ', 'Excellent ', 'Readworthy ','Random','FANG'])\n",
    "ax.set_ylim(0, 60000)\n",
    "\n",
    "\n",
    "# Show the plot\n",
    "plt.show()"
   ]
  }
 ],
 "metadata": {
  "kernelspec": {
   "display_name": "jannis-env9",
   "language": "python",
   "name": "python3"
  },
  "language_info": {
   "codemirror_mode": {
    "name": "ipython",
    "version": 3
   },
   "file_extension": ".py",
   "mimetype": "text/x-python",
   "name": "python",
   "nbconvert_exporter": "python",
   "pygments_lexer": "ipython3",
   "version": "3.9.16"
  },
  "orig_nbformat": 4
 },
 "nbformat": 4,
 "nbformat_minor": 2
}
