{
 "cells": [
  {
   "cell_type": "code",
   "execution_count": 1,
   "metadata": {},
   "outputs": [],
   "source": [
    "from bs4 import BeautifulSoup, Tag, NavigableString\n",
    "from collections import defaultdict\n",
    "import re\n",
    "from itertools import islice\n",
    "import pandas as pd\n",
    "import seaborn as sns\n",
    "import matplotlib.pyplot as plt\n",
    "from googletrans import Translator"
   ]
  },
  {
   "cell_type": "markdown",
   "metadata": {},
   "source": []
  },
  {
   "cell_type": "code",
   "execution_count": 2,
   "metadata": {},
   "outputs": [],
   "source": [
    "whole_dict = {\n",
    "    'protected': {\n",
    "        'df':\n",
    "        pd.read_csv(f'data/data_files/pipeline_steps/protected_articles/7.1_maskadded.csv'),\n",
    "        'titles':\n",
    "        pd.read_csv(f'data/data_files/pipeline_steps/protected_articles/0_protected_titles.csv')\n",
    "    },\n",
    "    'excellent': {\n",
    "        'df':\n",
    "        pd.read_csv(f'data/data_files/pipeline_steps/excellent_articles/7.1_maskadded.csv'),\n",
    "        'titles':\n",
    "        pd.read_csv(f'data/data_files/pipeline_steps/excellent_articles/0_excellent_titles.csv')\n",
    "    },\n",
    "    'readworthy': {\n",
    "        'df':\n",
    "        pd.read_csv(\n",
    "            f'data/data_files/pipeline_steps/readworthy_articles/7.1_maskadded.csv'),\n",
    "        'titles':\n",
    "        pd.read_csv(f'data/data_files/pipeline_steps/readworthy_articles/0_readworthy_titles.csv')\n",
    "    },\n",
    "}"
   ]
  },
  {
   "cell_type": "code",
   "execution_count": 4,
   "metadata": {},
   "outputs": [],
   "source": []
  },
  {
   "cell_type": "code",
   "execution_count": 9,
   "metadata": {},
   "outputs": [],
   "source": [
    "def unique_words(sentences):\n",
    "    # Join all sentences into one string\n",
    "    joined_text = ' '.join(sentences)\n",
    "\n",
    "    # Split the string into words\n",
    "    words = joined_text.split()\n",
    "\n",
    "    # Use a set to find unique words\n",
    "    unique_words = set(words)\n",
    "\n",
    "    # Print unique words\n",
    "    for word in unique_words:\n",
    "        print(word)"
   ]
  },
  {
   "cell_type": "code",
   "execution_count": 15,
   "metadata": {},
   "outputs": [
    {
     "data": {
      "text/plain": [
       "'['"
      ]
     },
     "execution_count": 15,
     "metadata": {},
     "output_type": "execute_result"
    }
   ],
   "source": [
    "b[0][0]"
   ]
  },
  {
   "cell_type": "code",
   "execution_count": null,
   "metadata": {},
   "outputs": [],
   "source": []
  },
  {
   "cell_type": "code",
   "execution_count": 14,
   "metadata": {},
   "outputs": [
    {
     "name": "stdout",
     "output_type": "stream",
     "text": [
      "D\n",
      ",\n",
      "R\n",
      "B\n",
      "M\n",
      "]\n",
      "C\n",
      "P\n",
      "A\n",
      "E\n",
      "V\n",
      "T\n",
      "'\n",
      "[\n",
      "U\n",
      "N\n",
      "X\n",
      "J\n",
      "S\n",
      "O\n"
     ]
    }
   ],
   "source": [
    "unique_words(b[0])"
   ]
  },
  {
   "cell_type": "code",
   "execution_count": 7,
   "metadata": {},
   "outputs": [],
   "source": [
    "b=a['pos_resolved_sentence_list'].iloc[0:100]"
   ]
  },
  {
   "cell_type": "code",
   "execution_count": 3,
   "metadata": {},
   "outputs": [
    {
     "data": {
      "text/plain": [
       "Index(['Unnamed: 0', 'article_index', 'nopos_resolved_text',\n",
       "       'nopos_nonresolved_text', 'pos_nonresolved_text', 'pos_resolved_text',\n",
       "       'quot_label', 'link_label', 'namelink_label',\n",
       "       'pos_nonresolved_quot_filter', 'pos_nonresolved_link_filter',\n",
       "       'pos_nonresolved_namelink_filter', 'pos_resolved_quot_filter',\n",
       "       'pos_resolved_link_filter', 'pos_resolved_namelink_filter',\n",
       "       'masked_nonresolved_text', 'masked_resolved_text'],\n",
       "      dtype='object')"
      ]
     },
     "execution_count": 3,
     "metadata": {},
     "output_type": "execute_result"
    }
   ],
   "source": [
    "whole_dict['protected']['df'].columns\n"
   ]
  },
  {
   "cell_type": "code",
   "execution_count": null,
   "metadata": {},
   "outputs": [],
   "source": [
    "whole_dict['protected']['df'][whole_dict['protected']['df']['quot_label']==True]"
   ]
  },
  {
   "cell_type": "code",
   "execution_count": 6,
   "metadata": {},
   "outputs": [
    {
     "data": {
      "text/plain": [
       "Index(['Unnamed: 0', 'article_index', 'nopos_resolved_text',\n",
       "       'nopos_nonresolved_text', 'pos_nonresolved_text', 'pos_resolved_text',\n",
       "       'quot_label', 'link_label', 'namelink_label',\n",
       "       'pos_nonresolved_quot_filter', 'pos_nonresolved_link_filter',\n",
       "       'pos_nonresolved_namelink_filter', 'pos_resolved_quot_filter',\n",
       "       'pos_resolved_link_filter', 'pos_resolved_namelink_filter',\n",
       "       'masked_nonresolved_text', 'masked_resolved_text'],\n",
       "      dtype='object')"
      ]
     },
     "execution_count": 6,
     "metadata": {},
     "output_type": "execute_result"
    }
   ],
   "source": [
    "whole_dict['protected']['df'].columns"
   ]
  },
  {
   "cell_type": "code",
   "execution_count": 7,
   "metadata": {},
   "outputs": [],
   "source": [
    "df = whole_dict['protected']['df']"
   ]
  },
  {
   "cell_type": "code",
   "execution_count": 8,
   "metadata": {},
   "outputs": [
    {
     "name": "stdout",
     "output_type": "stream",
     "text": [
      "For pair ('quot_label', 'pos_nonresolved_quot_filter'), the count is 20971\n",
      "For pair ('link_label', 'pos_nonresolved_link_filter'), the count is 19235\n",
      "For pair ('namelink_label', 'pos_nonresolved_namelink_filter'), the count is 16463\n"
     ]
    }
   ],
   "source": [
    "# defining the corresponding column pairs\n",
    "column_pairs = [(\"quot_label\", \"pos_nonresolved_quot_filter\"),\n",
    "                (\"link_label\", \"pos_nonresolved_link_filter\"),\n",
    "                (\"namelink_label\", \"pos_nonresolved_namelink_filter\")]\n",
    "\n",
    "# initializing a dictionary to store the results\n",
    "results = {}\n",
    "\n",
    "# iterating over the column pairs\n",
    "for col_a, col_b in column_pairs:\n",
    "    # count the number of rows where col_a is False and col_b is True\n",
    "    count = df[(df[col_a] == False) & (df[col_b] == True)].shape[0]\n",
    "    results[(col_a, col_b)] = count\n",
    "\n",
    "# print the results\n",
    "for key, value in results.items():\n",
    "    print(f\"For pair {key}, the count is {value}\")\n"
   ]
  },
  {
   "cell_type": "code",
   "execution_count": 10,
   "metadata": {},
   "outputs": [
    {
     "name": "stdout",
     "output_type": "stream",
     "text": [
      "            col_a  total_size  condition_true  condition_false\n",
      "0      quot_label      289843           20971           268872\n",
      "1      link_label      289843           19235           270608\n",
      "2  namelink_label      289843           16463           273380\n"
     ]
    }
   ],
   "source": [
    "import pandas as pd\n",
    "\n",
    "\n",
    "# defining the corresponding column pairs\n",
    "column_pairs = [(\"quot_label\", \"pos_nonresolved_quot_filter\"),\n",
    "                (\"link_label\", \"pos_nonresolved_link_filter\"),\n",
    "                (\"namelink_label\", \"pos_nonresolved_namelink_filter\")]\n",
    "\n",
    "# initializing a list to store the results\n",
    "results = []\n",
    "\n",
    "# iterating over the column pairs\n",
    "for col_a, col_b in column_pairs:\n",
    "    # count the number of rows where col_a is False and col_b is True\n",
    "    count_true = df[(df[col_a] == False) & (df[col_b] == True)].shape[0]\n",
    "    # count the number of rows where either col_a is not False or col_b is not True\n",
    "    count_false = df.shape[0] - count_true\n",
    "    # append the results to the list\n",
    "    results.append([col_a, df.shape[0], count_true, count_false])\n",
    "\n",
    "# create a DataFrame from the results\n",
    "results_df = pd.DataFrame(results,\n",
    "                          columns=[\"col_a\", \"total_size\", \"condition_true\", \"condition_false\"])\n",
    "\n",
    "# print the results DataFrame\n",
    "print()\n",
    "print(results_df)\n"
   ]
  },
  {
   "cell_type": "code",
   "execution_count": 16,
   "metadata": {},
   "outputs": [
    {
     "name": "stdout",
     "output_type": "stream",
     "text": [
      "protected\n"
     ]
    },
    {
     "data": {
      "text/html": [
       "<div>\n",
       "<style scoped>\n",
       "    .dataframe tbody tr th:only-of-type {\n",
       "        vertical-align: middle;\n",
       "    }\n",
       "\n",
       "    .dataframe tbody tr th {\n",
       "        vertical-align: top;\n",
       "    }\n",
       "\n",
       "    .dataframe thead th {\n",
       "        text-align: right;\n",
       "    }\n",
       "</style>\n",
       "<table border=\"1\" class=\"dataframe\">\n",
       "  <thead>\n",
       "    <tr style=\"text-align: right;\">\n",
       "      <th></th>\n",
       "      <th>Label</th>\n",
       "      <th>Total sentences</th>\n",
       "      <th>Filtered sentences</th>\n",
       "      <th>Remaining sentences</th>\n",
       "      <th>Share filtered</th>\n",
       "      <th>Postive Rate before</th>\n",
       "      <th>Positive rate after</th>\n",
       "      <th>No. matching POS-seqs</th>\n",
       "      <th>Unique POS</th>\n",
       "    </tr>\n",
       "  </thead>\n",
       "  <tbody>\n",
       "    <tr>\n",
       "      <th>0</th>\n",
       "      <td>quot_label</td>\n",
       "      <td>289843</td>\n",
       "      <td>20971</td>\n",
       "      <td>268872</td>\n",
       "      <td>0.072353</td>\n",
       "      <td>0.251412</td>\n",
       "      <td>0.271021</td>\n",
       "      <td>7289</td>\n",
       "      <td>3924</td>\n",
       "    </tr>\n",
       "    <tr>\n",
       "      <th>1</th>\n",
       "      <td>link_label</td>\n",
       "      <td>289843</td>\n",
       "      <td>19235</td>\n",
       "      <td>270608</td>\n",
       "      <td>0.066364</td>\n",
       "      <td>0.622730</td>\n",
       "      <td>0.666994</td>\n",
       "      <td>16064</td>\n",
       "      <td>5829</td>\n",
       "    </tr>\n",
       "    <tr>\n",
       "      <th>2</th>\n",
       "      <td>namelink_label</td>\n",
       "      <td>289843</td>\n",
       "      <td>16463</td>\n",
       "      <td>273380</td>\n",
       "      <td>0.056800</td>\n",
       "      <td>0.741432</td>\n",
       "      <td>0.786082</td>\n",
       "      <td>18374</td>\n",
       "      <td>5679</td>\n",
       "    </tr>\n",
       "  </tbody>\n",
       "</table>\n",
       "</div>"
      ],
      "text/plain": [
       "            Label  Total sentences  Filtered sentences  Remaining sentences   \n",
       "0      quot_label           289843               20971               268872  \\\n",
       "1      link_label           289843               19235               270608   \n",
       "2  namelink_label           289843               16463               273380   \n",
       "\n",
       "   Share filtered  Postive Rate before  Positive rate after   \n",
       "0        0.072353             0.251412             0.271021  \\\n",
       "1        0.066364             0.622730             0.666994   \n",
       "2        0.056800             0.741432             0.786082   \n",
       "\n",
       "   No. matching POS-seqs  Unique POS  \n",
       "0                   7289        3924  \n",
       "1                  16064        5829  \n",
       "2                  18374        5679  "
      ]
     },
     "metadata": {},
     "output_type": "display_data"
    },
    {
     "name": "stdout",
     "output_type": "stream",
     "text": [
      "excellent\n"
     ]
    },
    {
     "data": {
      "text/html": [
       "<div>\n",
       "<style scoped>\n",
       "    .dataframe tbody tr th:only-of-type {\n",
       "        vertical-align: middle;\n",
       "    }\n",
       "\n",
       "    .dataframe tbody tr th {\n",
       "        vertical-align: top;\n",
       "    }\n",
       "\n",
       "    .dataframe thead th {\n",
       "        text-align: right;\n",
       "    }\n",
       "</style>\n",
       "<table border=\"1\" class=\"dataframe\">\n",
       "  <thead>\n",
       "    <tr style=\"text-align: right;\">\n",
       "      <th></th>\n",
       "      <th>Label</th>\n",
       "      <th>Total sentences</th>\n",
       "      <th>Filtered sentences</th>\n",
       "      <th>Remaining sentences</th>\n",
       "      <th>Share filtered</th>\n",
       "      <th>Postive Rate before</th>\n",
       "      <th>Positive rate after</th>\n",
       "      <th>No. matching POS-seqs</th>\n",
       "      <th>Unique POS</th>\n",
       "    </tr>\n",
       "  </thead>\n",
       "  <tbody>\n",
       "    <tr>\n",
       "      <th>0</th>\n",
       "      <td>quot_label</td>\n",
       "      <td>590756</td>\n",
       "      <td>58069</td>\n",
       "      <td>532687</td>\n",
       "      <td>0.098296</td>\n",
       "      <td>0.234428</td>\n",
       "      <td>0.259984</td>\n",
       "      <td>17404</td>\n",
       "      <td>9567</td>\n",
       "    </tr>\n",
       "    <tr>\n",
       "      <th>1</th>\n",
       "      <td>link_label</td>\n",
       "      <td>590756</td>\n",
       "      <td>54588</td>\n",
       "      <td>536168</td>\n",
       "      <td>0.092404</td>\n",
       "      <td>0.553379</td>\n",
       "      <td>0.609719</td>\n",
       "      <td>36996</td>\n",
       "      <td>14253</td>\n",
       "    </tr>\n",
       "    <tr>\n",
       "      <th>2</th>\n",
       "      <td>namelink_label</td>\n",
       "      <td>590756</td>\n",
       "      <td>45896</td>\n",
       "      <td>544860</td>\n",
       "      <td>0.077690</td>\n",
       "      <td>0.704541</td>\n",
       "      <td>0.763888</td>\n",
       "      <td>45699</td>\n",
       "      <td>14149</td>\n",
       "    </tr>\n",
       "  </tbody>\n",
       "</table>\n",
       "</div>"
      ],
      "text/plain": [
       "            Label  Total sentences  Filtered sentences  Remaining sentences   \n",
       "0      quot_label           590756               58069               532687  \\\n",
       "1      link_label           590756               54588               536168   \n",
       "2  namelink_label           590756               45896               544860   \n",
       "\n",
       "   Share filtered  Postive Rate before  Positive rate after   \n",
       "0        0.098296             0.234428             0.259984  \\\n",
       "1        0.092404             0.553379             0.609719   \n",
       "2        0.077690             0.704541             0.763888   \n",
       "\n",
       "   No. matching POS-seqs  Unique POS  \n",
       "0                  17404        9567  \n",
       "1                  36996       14253  \n",
       "2                  45699       14149  "
      ]
     },
     "metadata": {},
     "output_type": "display_data"
    },
    {
     "name": "stdout",
     "output_type": "stream",
     "text": [
      "readworthy\n"
     ]
    },
    {
     "data": {
      "text/html": [
       "<div>\n",
       "<style scoped>\n",
       "    .dataframe tbody tr th:only-of-type {\n",
       "        vertical-align: middle;\n",
       "    }\n",
       "\n",
       "    .dataframe tbody tr th {\n",
       "        vertical-align: top;\n",
       "    }\n",
       "\n",
       "    .dataframe thead th {\n",
       "        text-align: right;\n",
       "    }\n",
       "</style>\n",
       "<table border=\"1\" class=\"dataframe\">\n",
       "  <thead>\n",
       "    <tr style=\"text-align: right;\">\n",
       "      <th></th>\n",
       "      <th>Label</th>\n",
       "      <th>Total sentences</th>\n",
       "      <th>Filtered sentences</th>\n",
       "      <th>Remaining sentences</th>\n",
       "      <th>Share filtered</th>\n",
       "      <th>Postive Rate before</th>\n",
       "      <th>Positive rate after</th>\n",
       "      <th>No. matching POS-seqs</th>\n",
       "      <th>Unique POS</th>\n",
       "    </tr>\n",
       "  </thead>\n",
       "  <tbody>\n",
       "    <tr>\n",
       "      <th>0</th>\n",
       "      <td>quot_label</td>\n",
       "      <td>651668</td>\n",
       "      <td>66078</td>\n",
       "      <td>585590</td>\n",
       "      <td>0.101398</td>\n",
       "      <td>0.214348</td>\n",
       "      <td>0.238535</td>\n",
       "      <td>18439</td>\n",
       "      <td>10145</td>\n",
       "    </tr>\n",
       "    <tr>\n",
       "      <th>1</th>\n",
       "      <td>link_label</td>\n",
       "      <td>651668</td>\n",
       "      <td>62417</td>\n",
       "      <td>589251</td>\n",
       "      <td>0.095780</td>\n",
       "      <td>0.563186</td>\n",
       "      <td>0.622842</td>\n",
       "      <td>42822</td>\n",
       "      <td>15833</td>\n",
       "    </tr>\n",
       "    <tr>\n",
       "      <th>2</th>\n",
       "      <td>namelink_label</td>\n",
       "      <td>651668</td>\n",
       "      <td>52707</td>\n",
       "      <td>598961</td>\n",
       "      <td>0.080880</td>\n",
       "      <td>0.702017</td>\n",
       "      <td>0.763793</td>\n",
       "      <td>52078</td>\n",
       "      <td>15582</td>\n",
       "    </tr>\n",
       "  </tbody>\n",
       "</table>\n",
       "</div>"
      ],
      "text/plain": [
       "            Label  Total sentences  Filtered sentences  Remaining sentences   \n",
       "0      quot_label           651668               66078               585590  \\\n",
       "1      link_label           651668               62417               589251   \n",
       "2  namelink_label           651668               52707               598961   \n",
       "\n",
       "   Share filtered  Postive Rate before  Positive rate after   \n",
       "0        0.101398             0.214348             0.238535  \\\n",
       "1        0.095780             0.563186             0.622842   \n",
       "2        0.080880             0.702017             0.763793   \n",
       "\n",
       "   No. matching POS-seqs  Unique POS  \n",
       "0                  18439       10145  \n",
       "1                  42822       15833  \n",
       "2                  52078       15582  "
      ]
     },
     "metadata": {},
     "output_type": "display_data"
    }
   ],
   "source": [
    "for key, value in whole_dict.items():\n",
    "    df = value['df']\n",
    "    # defining the corresponding column pairs\n",
    "    column_pairs = [(\"quot_label\", \"pos_nonresolved_quot_filter\"),\n",
    "                    (\"link_label\", \"pos_nonresolved_link_filter\"),\n",
    "                    (\"namelink_label\", \"pos_nonresolved_namelink_filter\")]\n",
    "\n",
    "    # initializing a list to store the results\n",
    "    results = []\n",
    "\n",
    "    # iterating over the column pairs\n",
    "    for col_a, col_b in column_pairs:\n",
    "        # count the number of rows where col_a is False and col_b is True\n",
    "        count_true = df[(df[col_a] == False) & (df[col_b] == True)].shape[0]\n",
    "        # count the number of rows where either col_a is not False or col_b is not True\n",
    "        count_false = df.shape[0] - count_true\n",
    "        # append the results to the list\n",
    "        share_true = df[col_a].mean()\n",
    "        # drop rows that match the condition and calculate the share of True values in the remaining rows\n",
    "        count_a_true_b_true = df[(df[col_a] == True) & (df[col_b] == True)].shape[0]\n",
    "        share_true_after_drop = df.drop(df[(df[col_a] == False) & (df[col_b] == True)].index)[col_a].mean()\n",
    "        unique_pos_nonresolved_text = df[(df[col_a] == True)\n",
    "                                         & (df[col_b] == True)]['pos_nonresolved_text'].nunique()\n",
    "        results.append([\n",
    "            col_a, df.shape[0], count_true, count_false, (count_true / df.shape[0]), share_true,\n",
    "            share_true_after_drop, count_a_true_b_true, unique_pos_nonresolved_text\n",
    "        ])\n",
    "\n",
    "    # create a DataFrame from the results\n",
    "    results_df = pd.DataFrame(results,\n",
    "                            columns=[\"Label\", \"Total sentences\", \"Filtered sentences\", \"Remaining sentences\",'Share filtered','Postive Rate before','Positive rate after','No. matching POS-seqs','Unique POS'])\n",
    "\n",
    "    # print the results DataFrame\n",
    "    print(key)\n",
    "    display(results_df)"
   ]
  },
  {
   "cell_type": "code",
   "execution_count": null,
   "metadata": {},
   "outputs": [],
   "source": []
  }
 ],
 "metadata": {
  "kernelspec": {
   "display_name": "jannis-env9",
   "language": "python",
   "name": "python3"
  },
  "language_info": {
   "codemirror_mode": {
    "name": "ipython",
    "version": 3
   },
   "file_extension": ".py",
   "mimetype": "text/x-python",
   "name": "python",
   "nbconvert_exporter": "python",
   "pygments_lexer": "ipython3",
   "version": "3.9.16"
  },
  "orig_nbformat": 4
 },
 "nbformat": 4,
 "nbformat_minor": 2
}
