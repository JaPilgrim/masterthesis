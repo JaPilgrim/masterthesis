{
 "cells": [
  {
   "cell_type": "code",
   "execution_count": 1,
   "id": "8ff2c89a-0e88-46ab-a67c-7bc8feae44bc",
   "metadata": {},
   "outputs": [],
   "source": [
    "import requests\n",
    "from requests.structures import CaseInsensitiveDict\n"
   ]
  },
  {
   "cell_type": "code",
   "execution_count": 2,
   "id": "a5d1a7a1-c06b-4755-9997-cbd1d094e6ff",
   "metadata": {},
   "outputs": [],
   "source": [
    "dev_token=\"2381f4be-ijft-0566-338b-c996e433e4e6\""
   ]
  },
  {
   "cell_type": "code",
   "execution_count": 3,
   "id": "45092171-3da2-4268-be51-ab22690e4b96",
   "metadata": {},
   "outputs": [],
   "source": [
    "import json\n",
    "\n",
    "def create_list_of_dicts(list_texts,advanced=True,split_camel_case=True):\n",
    "    list_of_dicts=[]\n",
    "    for i in range(0,len(list_texts)):\n",
    "        texts_dict = dict()\n",
    "        texts_dict['text'] = list_texts[i]\n",
    "        if advanced:\n",
    "            texts_dict['advanced'] = True  \n",
    "        else:\n",
    "            texts_dict['advanced'] = False  \n",
    "        if split_camel_case:\n",
    "            texts_dict['split_camel_case'] = True\n",
    "        else:\n",
    "            texts_dict['split_camel_case'] = False\n",
    "        list_of_dicts.append(json.dumps(texts_dict))       \n",
    "    return list_of_dicts\n",
    "\n",
    "def jsonify(some_list):\n",
    "    some_list_as_json=[json.dumps(element) for element in some_list]\n",
    "    return some_list_as_json"
   ]
  },
  {
   "cell_type": "code",
   "execution_count": 4,
   "id": "ef39ae0e-782a-42be-8f78-f4f43fbfbdd2",
   "metadata": {},
   "outputs": [],
   "source": [
    "def sent_tok_API(token,text):\n",
    "    token_summ=token\n",
    "    url = \"https://api.trustami.ai/tokn\"\n",
    "    headers = CaseInsensitiveDict()\n",
    "\n",
    "    results=[]\n",
    "    headers[\"Authorization\"] = f\"Bearer {token_summ}\"\n",
    "    headers[\"Content-Type\"] = \"application/json\"\n",
    "\n",
    "    resp = requests.post(url, headers=headers, data=text)        \n",
    "    result = resp.json()\n",
    "    return result"
   ]
  },
  {
   "cell_type": "code",
   "execution_count": 17,
   "id": "6e94657c-0829-403c-a3e4-80e1f080523b",
   "metadata": {},
   "outputs": [],
   "source": [
    "text_1=\"Das ist ein Test-Text. Hier würde ein Artikel stehen. Die Sätze sollen nach der Tokenization in separaten Strings sein.\"\n",
    "text_2=\"Das ist der zweite Text.Falls ein Leerzeichen vergessen wird, ist das kein ProblemAuch wenn ein Punkt vergessen wird, wird das erkannt, wenn split_camel_case aktiviert ist. Oder wenn eine Zahl 1.455 ist. Oder wenn die Zahl 5,23 sein sollte außerdem wird das hier ein Satz wegen Covid-19. Abkürzungen wie ca. etc. sind kein Problem. Beendet wurde der Abend jedoch mit dem Wurf der Nummer 20. Egal wie sehr der Spieler auch gewinnen wollte, er traf einfach keine 20. An einem schönen Sonntagmorgen rief der Prof. Dr. med. bei mir zuhause an. Die große Frage ist jedoch, ob jede Abkürzung ggf. erkannt wird, z.B. bzw. ggf. Ph.D. also auch wenn sie syntaktisch etc. ca. geb. falsch platiert ist. z. T. z. B. usw. ca. Abb. a. D.a. d. Abb. bzw. ca. cf. d. h. Dr. etc. ggf. i.d.R. i.A. Ph.D. Prof. prof. usw. v.a. z. B. z. T. Hast du mal diese Abb. gesehen? Oder kennst du den Hrsg. dieser Zeitung\"\n",
    "texts=[text_1,text_2]"
   ]
  },
  {
   "cell_type": "code",
   "execution_count": 18,
   "id": "0dad2c21-849a-4432-8b65-54306ac5197f",
   "metadata": {},
   "outputs": [],
   "source": [
    "list_of_prepared_texts=create_list_of_dicts(texts,advanced=True,split_camel_case=True) # \"advanced\" kannst du erstmal ignorieren, dass ist sowieso immer aktiviert"
   ]
  },
  {
   "cell_type": "code",
   "execution_count": 19,
   "id": "1ff768c3-4bb7-40b6-86e7-653692e0d689",
   "metadata": {
    "tags": []
   },
   "outputs": [
    {
     "data": {
      "text/plain": [
       "{'sentences': ['Das ist der zweite Text.',\n",
       "  'Falls ein Leerzeichen vergessen wird, ist das kein Problem',\n",
       "  'Auch wenn ein Punkt vergessen wird, wird das erkannt, wenn split_camel_case aktiviert ist.',\n",
       "  'Oder wenn eine Zahl 1.455 ist.',\n",
       "  'Oder wenn die Zahl 5,23 sein sollte außerdem wird das hier ein Satz wegen Covid-19.',\n",
       "  'Abkürzungen wie ca. etc. sind kein Problem.',\n",
       "  'Beendet wurde der Abend jedoch mit dem Wurf der Nummer 20. Egal wie sehr der Spieler auch gewinnen wollte, er traf einfach keine 20. An einem schönen Sonntagmorgen rief der Prof. Dr. med. bei mir zuhause an.',\n",
       "  'Die große Frage ist jedoch, ob jede Abkürzung ggf. erkannt wird, z. B. bzw. ggf..',\n",
       "  'also auch wenn sie syntaktisch etc. ca. geb.',\n",
       "  'falsch platiert ist.',\n",
       "  'z. T. z. B. usw. ca. Abb.',\n",
       "  'a. D. d. Abb.',\n",
       "  'bzw. ca. d. h. Dr. etc. ggf.i.d.i..',\n",
       "  'Prof. prof. usw. v.',\n",
       "  'B. z. T. Hast du mal diese Abb.',\n",
       "  'gesehen?',\n",
       "  'Oder kennst du den Hrsg.',\n",
       "  'dieser Zeitung']}"
      ]
     },
     "execution_count": 19,
     "metadata": {},
     "output_type": "execute_result"
    }
   ],
   "source": [
    "sent_tok_API(dev_token,list_of_prepared_texts[1])"
   ]
  }
 ],
 "metadata": {
  "kernelspec": {
   "display_name": "mac-tens9",
   "language": "python",
   "name": "python3"
  },
  "language_info": {
   "codemirror_mode": {
    "name": "ipython",
    "version": 3
   },
   "file_extension": ".py",
   "mimetype": "text/x-python",
   "name": "python",
   "nbconvert_exporter": "python",
   "pygments_lexer": "ipython3",
   "version": "3.9.16"
  },
  "vscode": {
   "interpreter": {
    "hash": "165501a9f0117b105509117bc31d98a33feff89ebc3b4fa5ccc5352a67b7dfee"
   }
  }
 },
 "nbformat": 4,
 "nbformat_minor": 5
}
