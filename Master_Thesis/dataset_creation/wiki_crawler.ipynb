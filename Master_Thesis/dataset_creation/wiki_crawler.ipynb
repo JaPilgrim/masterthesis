{
 "cells": [
  {
   "cell_type": "code",
   "execution_count": 1,
   "metadata": {},
   "outputs": [],
   "source": [
    "import selenium\n",
    "from selenium import webdriver\n",
    "from selenium.webdriver.chrome.options import Options\n",
    "from selenium.webdriver.common.by import By\n",
    "import pandas as pd\n",
    "import seaborn as sns\n"
   ]
  },
  {
   "cell_type": "markdown",
   "metadata": {},
   "source": [
    "## Crawls Wiki for protected articles: Title & bytes"
   ]
  },
  {
   "cell_type": "code",
   "execution_count": null,
   "metadata": {},
   "outputs": [],
   "source": []
  },
  {
   "cell_type": "code",
   "execution_count": null,
   "metadata": {},
   "outputs": [
    {
     "name": "stderr",
     "output_type": "stream",
     "text": [
      "/var/folders/w8/40_qn26x4k134x3br37zmn5r0000gn/T/ipykernel_18470/2588869798.py:4: DeprecationWarning: headless property is deprecated, instead use add_argument('--headless') or add_argument('--headless=new')\n",
      "  options.headless = True\n",
      "/var/folders/w8/40_qn26x4k134x3br37zmn5r0000gn/T/ipykernel_18470/2588869798.py:6: DeprecationWarning: executable_path has been deprecated, please pass in a Service object\n",
      "  driver = webdriver.Chrome(options=options,executable_path=DRIVER_PATH)\n"
     ]
    },
    {
     "name": "stdout",
     "output_type": "stream",
     "text": [
      "50\n",
      "50\n",
      "100\n",
      "100\n",
      "150\n",
      "150\n",
      "200\n",
      "200\n",
      "250\n",
      "250\n",
      "300\n",
      "300\n",
      "350\n",
      "350\n",
      "400\n",
      "400\n",
      "450\n",
      "450\n",
      "500\n",
      "500\n",
      "550\n",
      "550\n",
      "600\n",
      "600\n",
      "650\n",
      "650\n",
      "700\n",
      "700\n",
      "750\n",
      "750\n",
      "800\n",
      "800\n",
      "850\n",
      "850\n",
      "900\n",
      "900\n",
      "950\n",
      "950\n",
      "1000\n",
      "1000\n",
      "1050\n",
      "1050\n",
      "1100\n",
      "1100\n",
      "1150\n",
      "1150\n",
      "1200\n",
      "1200\n",
      "1250\n",
      "1250\n",
      "1300\n",
      "1300\n",
      "1350\n",
      "1350\n",
      "1400\n",
      "1400\n",
      "1450\n",
      "1450\n",
      "1500\n",
      "1500\n",
      "1550\n",
      "1550\n",
      "1600\n",
      "1600\n",
      "1650\n",
      "1650\n",
      "1700\n",
      "1700\n",
      "1750\n",
      "1750\n",
      "1800\n",
      "1800\n",
      "1850\n",
      "1850\n",
      "1900\n",
      "1900\n",
      "1950\n",
      "1950\n",
      "2000\n",
      "2000\n",
      "2050\n",
      "2050\n",
      "2100\n",
      "2100\n",
      "2150\n",
      "2150\n",
      "2200\n",
      "2200\n",
      "2250\n",
      "2250\n",
      "2300\n",
      "2300\n",
      "2350\n",
      "2350\n",
      "2400\n",
      "2400\n",
      "2450\n",
      "2450\n",
      "2500\n",
      "2500\n",
      "2550\n",
      "2550\n",
      "2600\n",
      "2600\n",
      "2650\n",
      "2650\n",
      "2700\n",
      "2700\n",
      "2750\n",
      "2750\n",
      "2800\n",
      "2800\n",
      "2850\n",
      "2850\n"
     ]
    }
   ],
   "source": [
    "DRIVER_PATH = '/externals/'\n",
    "next_page_class='/html/body/div[3]/div[3]/div[4]/span[2]/span[3]'\n",
    "options = Options()\n",
    "options.headless = True\n",
    "options.add_argument(\"--window-size=1920,1200\")\n",
    "driver = webdriver.Chrome(options=options,executable_path=DRIVER_PATH)\n",
    "driver.get('https://de.wikipedia.org/w/index.php?title=Spezial:Gesch%C3%BCtzte_Seiten&dir=prev&offset=37111&level=0&namespace=0&size=&size-mode=min&type=edit')\n",
    "article_list=[]\n",
    "bytes_list=[]\n",
    "while(1):\n",
    "    table_elements=driver.find_elements(By.CSS_SELECTOR,'td.TablePager_col_pr_page')\n",
    "    for element in table_elements:\n",
    "        article_list.append(element.find_element(By.CSS_SELECTOR, 'a').get_attribute('title'))\n",
    "        bytes_list.append(element.find_element(By.CSS_SELECTOR, 'span > span').get_attribute('data-mw-bytes'))\n",
    "    next_click_element=driver.find_element(By.XPATH,next_page_class)\n",
    "    next_click_element.click()\n",
    "    if(len(table_elements)<50):\n",
    "        break\n",
    "    print(len(article_list))\n",
    "    print(len(bytes_list))\n",
    "driver.quit()"
   ]
  },
  {
   "cell_type": "code",
   "execution_count": 4,
   "metadata": {},
   "outputs": [],
   "source": [
    "full_frame = pd.DataFrame(data={'title':article_list,'bytes':bytes_list})"
   ]
  },
  {
   "cell_type": "code",
   "execution_count": null,
   "metadata": {},
   "outputs": [],
   "source": [
    "full_frame.to_csv('../data/all_protected_wiki_list.csv')"
   ]
  },
  {
   "cell_type": "code",
   "execution_count": 56,
   "metadata": {},
   "outputs": [
    {
     "data": {
      "text/plain": [
       "<AxesSubplot: xlabel='bytes', ylabel='Count'>"
      ]
     },
     "execution_count": 56,
     "metadata": {},
     "output_type": "execute_result"
    },
    {
     "data": {
      "image/png": "[encoded data removed]",
      "text/plain": [
       "<Figure size 640x480 with 1 Axes>"
      ]
     },
     "metadata": {},
     "output_type": "display_data"
    }
   ],
   "source": [
    "sns.histplot(full_frame['bytes'])"
   ]
  },
  {
   "cell_type": "code",
   "execution_count": 59,
   "metadata": {},
   "outputs": [
    {
     "name": "stdout",
     "output_type": "stream",
     "text": [
      "                              title   bytes\n",
      "0                        Rudolf Heß   86509\n",
      "1                              Popo     805\n",
      "2                            Kanake     309\n",
      "3                             Bitch    5369\n",
      "4                           Fisting    7432\n",
      "...                             ...     ...\n",
      "2840  Marie-Agnes Strack-Zimmermann   28388\n",
      "2841                     Mike Tyson   83016\n",
      "2842                       Toilette   51005\n",
      "2843                    Braunwasser    1238\n",
      "2844                   Zirkumzision  223530\n",
      "\n",
      "[2845 rows x 2 columns]\n"
     ]
    }
   ],
   "source": [
    "print(full_frame)\n"
   ]
  },
  {
   "attachments": {},
   "cell_type": "markdown",
   "metadata": {},
   "source": [
    "## Old Code"
   ]
  },
  {
   "cell_type": "code",
   "execution_count": null,
   "metadata": {},
   "outputs": [
    {
     "name": "stderr",
     "output_type": "stream",
     "text": [
      "/var/folders/w8/40_qn26x4k134x3br37zmn5r0000gn/T/ipykernel_11874/3940098104.py:5: DeprecationWarning: headless property is deprecated, instead use add_argument('--headless') or add_argument('--headless=new')\n",
      "  options.headless = True\n",
      "/var/folders/w8/40_qn26x4k134x3br37zmn5r0000gn/T/ipykernel_11874/3940098104.py:7: DeprecationWarning: executable_path has been deprecated, please pass in a Service object\n",
      "  driver = webdriver.Chrome(options=options,executable_path=DRIVER_PATH)\n"
     ]
    },
    {
     "name": "stdout",
     "output_type": "stream",
     "text": [
      "<selenium.webdriver.remote.webelement.WebElement (session=\"cc6f3ec753de82c5260d45c395922809\", element=\"550cd9af-348d-454e-acf9-708c6ab45c40\")>\n",
      "<selenium.webdriver.remote.webelement.WebElement (session=\"a251983b12ec991b0cbe9bfed2ca572a\", element=\"2148b86d-3fa0-4629-8504-0a9b27bb5755\")>\n"
     ]
    }
   ],
   "source": [
    "DRIVER_PATH = '/externals/'\n",
    "next_page_class='/html/body/div[3]/div[3]/div[4]/span[2]/span[3]'\n",
    "last_page_class='/html/body/div[3]/div[3]/div[4]/span[2]/span[4]'\n",
    "options = Options()\n",
    "options.headless = True\n",
    "options.add_argument(\"--window-size=1920,1200\")\n",
    "driver = webdriver.Chrome(options=options,executable_path=DRIVER_PATH)\n",
    "driver.get('https://de.wikipedia.org/w/index.php?title=Spezial:Gesch%C3%BCtzte_Seiten&dir=prev&level=0&namespace=0&size=&size-mode=min&type=edit')\n",
    "last_click_element=driver.find_element(By.XPATH,last_page_class)\n",
    "print(last_click_element)\n",
    "last_click_element.click()\n",
    "print(next_click_element)\n",
    "next_click_element=driver.find_element(By.XPATH,next_page_class)\n",
    "next_click_element.click()\n",
    "driver.quit()\n"
   ]
  },
  {
   "cell_type": "code",
   "execution_count": null,
   "metadata": {},
   "outputs": [
    {
     "name": "stderr",
     "output_type": "stream",
     "text": [
      "/var/folders/w8/40_qn26x4k134x3br37zmn5r0000gn/T/ipykernel_11874/757151822.py:3: DeprecationWarning: headless property is deprecated, instead use add_argument('--headless') or add_argument('--headless=new')\n",
      "  options.headless = True\n",
      "/var/folders/w8/40_qn26x4k134x3br37zmn5r0000gn/T/ipykernel_11874/757151822.py:5: DeprecationWarning: executable_path has been deprecated, please pass in a Service object\n",
      "  driver = webdriver.Chrome(options=options,executable_path=DRIVER_PATH)\n"
     ]
    },
    {
     "name": "stdout",
     "output_type": "stream",
     "text": [
      "805\n"
     ]
    }
   ],
   "source": [
    "DRIVER_PATH = '/externals/'\n",
    "options = Options()\n",
    "options.headless = True\n",
    "options.add_argument(\"--window-size=1920,1200\")\n",
    "driver = webdriver.Chrome(options=options,executable_path=DRIVER_PATH)\n",
    "driver.get('https://de.wikipedia.org/w/index.php?title=Spezial:Gesch%C3%BCtzte_Seiten&dir=prev&offset=37111&level=0&namespace=0&size=&size-mode=min&type=edit')\n",
    "title_list=[]\n",
    "bytes_list=[]\n",
    "\n",
    "table_elements=driver.find_elements(By.CSS_SELECTOR,'td.TablePager_col_pr_page')\n",
    "a= table_elements[1].find_element(By.CSS_SELECTOR, 'a').get_attribute('title')\n",
    "b= table_elements[1].find_element(By.CSS_SELECTOR, 'span > span').get_attribute('data-mw-bytes')\n",
    "print(b)\n",
    "\n",
    "\n",
    "driver.quit()"
   ]
  }
 ],
 "metadata": {
  "kernelspec": {
   "display_name": "sentence10",
   "language": "python",
   "name": "python3"
  },
  "language_info": {
   "codemirror_mode": {
    "name": "ipython",
    "version": 3
   },
   "file_extension": ".py",
   "mimetype": "text/x-python",
   "name": "python",
   "nbconvert_exporter": "python",
   "pygments_lexer": "ipython3",
   "version": "3.9.16"
  },
  "orig_nbformat": 4,
  "vscode": {
   "interpreter": {
    "hash": "0e7d7742248ebe98a33ff874e6710be266d71efe92595a19fbff31a7b4122fe0"
   }
  }
 },
 "nbformat": 4,
 "nbformat_minor": 2
}
