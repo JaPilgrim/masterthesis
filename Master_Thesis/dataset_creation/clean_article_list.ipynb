{
 "cells": [
  {
   "cell_type": "code",
   "execution_count": null,
   "metadata": {},
   "outputs": [],
   "source": [
    "import pandas as pd\n",
    "from utils import *"
   ]
  },
  {
   "cell_type": "code",
   "execution_count": null,
   "metadata": {},
   "outputs": [],
   "source": [
    "all_article_list_full = pd.read_csv('../data/all_articles_list.csv')"
   ]
  },
  {
   "cell_type": "code",
   "execution_count": 2,
   "metadata": {},
   "outputs": [],
   "source": [
    "all_article_list_full = pd.read_csv('../data/all_articles_list.csv',nrows = 5)"
   ]
  },
  {
   "cell_type": "markdown",
   "metadata": {},
   "source": []
  },
  {
   "cell_type": "code",
   "execution_count": 3,
   "metadata": {},
   "outputs": [],
   "source": [
    "all_article_list = all_article_list_full[:5]"
   ]
  },
  {
   "cell_type": "code",
   "execution_count": 15,
   "metadata": {},
   "outputs": [
    {
     "data": {
      "text/plain": [
       "nan"
      ]
     },
     "execution_count": 15,
     "metadata": {},
     "output_type": "execute_result"
    }
   ],
   "source": []
  },
  {
   "cell_type": "code",
   "execution_count": 16,
   "metadata": {},
   "outputs": [],
   "source": [
    "text_list = list(all_article_list.sub_texts)\n",
    "i=0\n",
    "while i< len(text_list):\n",
    "    if isinstance(text_list[i],str):\n",
    "        text_list[i] = re.sub(r\"\\!\\!\", '==', text_list[i])\n",
    "        text_list[i] = re.sub(r\"\\?\\?\", '==', text_list[i])\n",
    "    i +=1"
   ]
  },
  {
   "cell_type": "code",
   "execution_count": 20,
   "metadata": {},
   "outputs": [],
   "source": []
  },
  {
   "cell_type": "code",
   "execution_count": 5,
   "metadata": {},
   "outputs": [],
   "source": [
    "text_list = all_article_list.sub_texts\n",
    "cleaned_text_list = []\n",
    "\n",
    "articles_sen_list = []\n",
    "\n",
    "articles_quot_truth_list = []\n",
    "articles_link_truth_list = []\n",
    "articles_linkname_truth_list = []\n",
    "\n",
    "for text in text_list:\n",
    "    curr_sen_list = []\n",
    "\n",
    "    curr_quot_truth = []\n",
    "    curr_link_truth = []\n",
    "    curr_linkname_truth = []\n",
    "\n",
    "    no_abbr_text = replace_abbreviations(text)\n",
    "    no_spec_text = clean_special_characters(no_abbr_text)\n",
    "\n",
    "    curr_sen_list = no_spec_text.split('. ')\n",
    "\n",
    "    for i, text in enumerate(curr_sen_list):\n",
    "        if(' @@ ' in curr_sen_list[i]):\n",
    "            curr_sen_list[i] = curr_sen_list[i].replace(' @@ ', '')\n",
    "            curr_sen_list[i] = curr_sen_list[i].replace(' == ', '')\n",
    "            curr_sen_list[i] = curr_sen_list[i].replace('==', '')\n",
    "            curr_sen_list[i] = curr_sen_list[i].replace(' ++ ', '')\n",
    "\n",
    "            curr_quot_truth.append(True)\n",
    "            curr_link_truth.append(True)\n",
    "            curr_linkname_truth.append(True)\n",
    "        elif ('==' in curr_sen_list[i]):\n",
    "            curr_sen_list[i] = curr_sen_list[i].replace(' == ', '')\n",
    "            curr_sen_list[i] = curr_sen_list[i].replace('==', '')\n",
    "            curr_sen_list[i] = curr_sen_list[i].replace(' ++ ', '')\n",
    "\n",
    "            curr_quot_truth.append(False)\n",
    "            curr_link_truth.append(True)\n",
    "            curr_linkname_truth.append(True)\n",
    "        elif(' ++ ' in curr_sen_list[i]):\n",
    "            curr_sen_list[i] = curr_sen_list[i].replace(' ++ ', '')\n",
    "\n",
    "            curr_quot_truth.append(False)\n",
    "            curr_link_truth.append(False)\n",
    "            curr_linkname_truth.append(True)\n",
    "        else:\n",
    "            curr_quot_truth.append(False)\n",
    "            curr_link_truth.append(False)\n",
    "            curr_linkname_truth.append(False)\n",
    "        curr_sen_list[i] = curr_sen_list[i].replace(' @@ ', '')\n",
    "        curr_sen_list[i] = curr_sen_list[i].replace(' == ', '')\n",
    "        curr_sen_list[i] = curr_sen_list[i].replace('==', '')\n",
    "        curr_sen_list[i] = curr_sen_list[i].replace(' ++ ', '')\n",
    "    curr_clean_joined_text = \". \".join(curr_sen_list)\n",
    "    cleaned_text_list.append(curr_clean_joined_text)\n",
    "\n",
    "    articles_sen_list.append(curr_sen_list)\n",
    "\n",
    "    articles_quot_truth_list.append(curr_quot_truth)\n",
    "    articles_link_truth_list.append(curr_link_truth)\n",
    "    articles_linkname_truth_list.append(curr_linkname_truth)\n",
    "\n",
    "all_article_list['cleaned_article_text']=cleaned_text_list \n",
    "\n",
    "all_article_list['sentence_list']=articles_sen_list\n",
    "\n",
    "all_article_list['quot_truth_list']=articles_quot_truth_list\n",
    "all_article_list['quot_truth_list']=articles_quot_truth_list\n",
    "all_article_list['quot_truth_list'] = articles_quot_truth_list\n",
    "\n",
    "all_article_list.to_csv('tryout_test.csv')"
   ]
  },
  {
   "cell_type": "code",
   "execution_count": 47,
   "metadata": {},
   "outputs": [
    {
     "name": "stdout",
     "output_type": "stream",
     "text": [
      "Bitch ist ein Begriff aus dem Englischen, der als Tiermetapherauf die Unkontrollierbarkeit und Aggressivität einer läufigen Hündin(ursprüngliche Bedeutung des englischenWorts) verweist\n"
     ]
    }
   ],
   "source": [
    "a=articles_sen_list[3][0].replace(\" == \",'')\n",
    "print(a)"
   ]
  },
  {
   "cell_type": "code",
   "execution_count": 33,
   "metadata": {},
   "outputs": [
    {
     "name": "stdout",
     "output_type": "stream",
     "text": [
      "[False, False, False, False, False]\n",
      "[True, True, True, True, True]\n",
      "[True, True, True, True, True]\n"
     ]
    }
   ],
   "source": [
    "print(articles_quot_truth_list[:5])\n",
    "print(articles_link_truth_list[:5])\n",
    "print(articles_linkname_truth_list[:5])"
   ]
  },
  {
   "cell_type": "code",
   "execution_count": 30,
   "metadata": {},
   "outputs": [
    {
     "name": "stdout",
     "output_type": "stream",
     "text": [
      "Faustverkehr (engl. == Fisting, von fist „Faust“) beziehungsweise Fisten oder Fausten ist eine sexuelle Praktik == , bei der mehrere Finger bis hin zu einer oder mehreren Händen in die Vagina == (brachiovaginal) oder den Anus == (brachioproktisch) eingeführt werden. In der Regel können bei den ersten Fistingversuchen nur einige Finger eingeführt werden. Da der muskuläre Vaginalschlauch als natürlicher Geburtskanal von Natur aus stark dehnbar ist, kann diese Spielart grundsätzlich unabhängig von Alter und Beckenbau praktiziert werden. Der == == Anus ist im Vergleich zu einer == == Vagina anatomisch wesentlich enger und weniger dehnbar. Auch hier ist es möglich, klein anzufangen und langsam zu steigern, wobei die breiteste Stelle mit Mittelhand == und Daumen == am schwierigsten ist. Eventuell kann noch ein Teil des Unterarms folgen. Es empfiehlt sich die Verwendung von viel Gleitmittel == , wobei von solchem mit betäubender Wirkung abzuraten ist, da eventuelle Schmerzen ein sicheres Zeichen sind, aufzuhören. Wegen der starken Auslieferung an den Partner ist diese Sexualpraxis vor allem in der BDSM == -Szene verbreitet. In den 1970er Jahren wurde vor allem in der US-amerikanischen Lederszene == das Backfett Crisco == als == == Gleitmittel populär, da es leicht und in größeren Gebinden verfügbar ist, in die man eine ganze Hand stecken kann. Dies ist das Penetrieren der == == Vagina oder des == == Anus mit beiden Händen. Ebenfalls wird die gleichzeitige Penetration == der == == Vagina mit einer und des == == Anus mit der anderen Hand so bezeichnet. Die unmittelbaren Risiken beim Faustverkehr bestehen bei ruppigem oder gewaltsamem Vorgehen in Verletzungen des == == Anus beziehungsweise der == == Vagina, welche sehr schmerzhaft sein können. In Extremfällen kann es zu einer Perforation des Darms == kommen, die einen medizinischen Notfall darstellt @@ . Ferner besteht die Gefahr einer Infektion mit sexuell übertragbaren Krankheiten, insbesondere solche, die mittels Schmierinfektion durch Hautkontakt entstehen können, wie Tripper == , Herpes == oder Feigwarzen == @@ sowie Pilzinfektionen. Auch eine Infektion mit dem Hepatitis-C-Virus == durch das Fisten ist grundsätzlich möglich @@ @@ . Das Risiko einer HIV-Infektion wird als äußerst gering eingestuft @@ . Bei Frauen kann es darüber hinaus leicht zu einer unspezifischen Scheideninfektionen kommen, wenn Darmbakterien in die == == Vagina übertragen werden. Das Verletzungs- oder Infektionsrisiko kann mittels Verwendung von reichlich == == Gleitmittel und Handschuhen deutlich verringert werden und ist entgegen weitverbreiteter Meinung nur wenig vom Alter der gefisteten Person abhängig @@ . Ungeklärt sind die langfristigen Folgen von analem Fisting und Analdehnung == . Therapeutische == == Analdehnung zur Behandlung von Analfissuren == führt nach klinischen Studien zur Schädigung des Schließmuskels. Diese Schädigung macht sich nicht sofort und in jedem Fall durch Stuhlinkontinenz == bemerkbar. Von Proktologen == wird jedoch der Umstand angeführt, dass im jüngeren und mittleren Alter die Beckenbodenmuskulatur == die Schädigung des Sphinkters == kompensiert und so die Schließfähigkeit sicherstellt. Im fortgeschrittenen Lebensalter schwindet die == Beckenbodenmuskulatur jedoch, sodass der == Schließmuskel keine Unterstützung mehr erhält. In diesem Stadium könnte eine zuvor unerkannte und äußerlich nicht sichtbare Schädigung zur == == Stuhlinkontinenz führen @@ . Eigenständige Untersuchungen zu den Spätfolgen des Analfistings im fortgeschrittenen Alter liegen bislang jedoch nicht vor. Schäden des Schließmuskels lassen sich häufig nur durch eine proktologische Ultraschalluntersuchung erkennen, sodass das subjektive Wohlbefinden und die bestehende Kontinenz keine Gewähr für die Intaktheit des Schließmuskels darstellt. Bild 1 und 2 zeigen kein Fisting, sondern Berührungen und Eindringen mit zwei Fingern, die auch beim Petting == und Fingern == angewandt werden. Bild 3 zeigt den Beginn des als Fisting bezeichneten Eindringens mit der ganzen Hand, welches die oben genannten Gesundheitsrisiken birgt. Bild 1: Achtsames vorsichtiges, sanftes ‚Erwecken‘ der Vulva == und Vagina == Bild 2:Penetration == mit zwei == == Fingern bei nach oben zeigender Handfläche, bei der die G-Zone == mit den Fingerkuppen berührt werden kann. Bild 3:Erreicht die sexuelle Erregung == ein gewissen Grad, kann das periurethrale Schwellkörpersystem == auch mit der ganzen Hand stimuliert werden.\n"
     ]
    }
   ],
   "source": [
    "print(cleaned_text_list[4])"
   ]
  }
 ],
 "metadata": {
  "kernelspec": {
   "display_name": "mac-tens9",
   "language": "python",
   "name": "python3"
  },
  "language_info": {
   "codemirror_mode": {
    "name": "ipython",
    "version": 3
   },
   "file_extension": ".py",
   "mimetype": "text/x-python",
   "name": "python",
   "nbconvert_exporter": "python",
   "pygments_lexer": "ipython3",
   "version": "3.9.16"
  },
  "orig_nbformat": 4
 },
 "nbformat": 4,
 "nbformat_minor": 2
}
