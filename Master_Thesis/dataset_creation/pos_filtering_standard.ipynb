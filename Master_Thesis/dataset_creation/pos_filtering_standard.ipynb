{
 "cells": [
  {
   "cell_type": "code",
   "execution_count": 3,
   "metadata": {},
   "outputs": [
    {
     "name": "stderr",
     "output_type": "stream",
     "text": [
      "[nltk_data] Downloading package stopwords to\n",
      "[nltk_data]     /Users/jannis/nltk_data...\n",
      "[nltk_data]   Package stopwords is already up-to-date!\n"
     ]
    }
   ],
   "source": [
    "import os\n",
    "import sys\n",
    "sys.path.append(\"..\")\n",
    "os.environ['KMP_DUPLICATE_LIB_OK']='True'\n",
    "import pandas as pd\n",
    "from utils import *\n",
    "import string\n",
    "from collections import Counter\n",
    "import spacy\n",
    "import nltk\n",
    "from nltk.tokenize import word_tokenize\n",
    "import importlib.metadata as importlib_metadata\n",
    "importlib_metadata.version('tqdm')\n",
    "import spacy\n",
    "from spacy import Language\n",
    "nlp = spacy.load(\"de_core_news_sm\")\n",
    "import sqldf"
   ]
  },
  {
   "cell_type": "code",
   "execution_count": null,
   "metadata": {},
   "outputs": [],
   "source": []
  },
  {
   "cell_type": "code",
   "execution_count": null,
   "metadata": {},
   "outputs": [],
   "source": [
    "nltk.download('tagsets')\n",
    "nltk.download('averaged_perceptron_tagger')\n",
    "nltk.download('punkt')\n",
    "nltk.download('tagsets')"
   ]
  },
  {
   "attachments": {},
   "cell_type": "markdown",
   "metadata": {},
   "source": [
    "## Actual Code to do initial POS-tagging!"
   ]
  },
  {
   "attachments": {},
   "cell_type": "markdown",
   "metadata": {},
   "source": []
  },
  {
   "cell_type": "code",
   "execution_count": null,
   "metadata": {},
   "outputs": [],
   "source": [
    "words_rem = df.text.map(remove_stopwords)\n",
    "punct_rem = words_rem.map(lambda x:x.translate(str.maketrans('','',string.punctuation)))\n",
    "pos_list=[]\n",
    "for sentence in punct_rem:\n",
    "    sentence_pos = get_sentence_pos_list(sentence,nlp)\n",
    "    pos_list.append(sentence_pos)\n",
    "pos_seqings = list(map(lambda x: ' '.join(x),pos_list))\n",
    "df['pos_seq'] = pos_seqings\n",
    "df['pos_list'] = pos_list"
   ]
  },
  {
   "cell_type": "code",
   "execution_count": null,
   "metadata": {},
   "outputs": [],
   "source": []
  },
  {
   "attachments": {},
   "cell_type": "markdown",
   "metadata": {},
   "source": [
    "## Determining the POS-Union between True / False "
   ]
  },
  {
   "cell_type": "code",
   "execution_count": null,
   "metadata": {},
   "outputs": [],
   "source": [
    "df = pd.read_csv('../data/data_files/all_sentences_w_pos.csv')"
   ]
  },
  {
   "cell_type": "code",
   "execution_count": null,
   "metadata": {},
   "outputs": [],
   "source": [
    "# define a custom aggregation function to calculate the pos_union value\n",
    "def pos_union_func(x):\n",
    "    # count the number of unique labels for this pos_seq\n",
    "    label_count = len(set(x['label']))\n",
    "    # if there is only one unique label, return True\n",
    "    if label_count == 1:\n",
    "        return False\n",
    "    if label_count == 2:\n",
    "        return True\n",
    "    \n",
    "\n",
    "# group by pos_seq and apply the custom aggregation function to calculate pos_union\n",
    "pos_union = df.groupby('pos_seq').apply(pos_union_func).reset_index(name='pos_union')\n",
    "\n",
    "# merge the pos_union back into the original dataframe\n",
    "df_union = df.merge(pos_union, on='pos_seq', how='left')\n",
    "\n",
    "# print the resulting dataframe\n",
    "print(df_union)"
   ]
  },
  {
   "cell_type": "code",
   "execution_count": null,
   "metadata": {},
   "outputs": [],
   "source": [
    "df_union.head()"
   ]
  },
  {
   "cell_type": "code",
   "execution_count": 4,
   "metadata": {},
   "outputs": [
    {
     "ename": "NameError",
     "evalue": "name 'df_union' is not defined",
     "output_type": "error",
     "traceback": [
      "\u001b[0;31m---------------------------------------------------------------------------\u001b[0m",
      "\u001b[0;31mNameError\u001b[0m                                 Traceback (most recent call last)",
      "Cell \u001b[0;32mIn[4], line 1\u001b[0m\n\u001b[0;32m----> 1\u001b[0m df_union\u001b[39m.\u001b[39mto_csv(\u001b[39m'\u001b[39m\u001b[39m../data/data_files/all_sentences_w_pos_unions.csv\u001b[39m\u001b[39m'\u001b[39m)\n",
      "\u001b[0;31mNameError\u001b[0m: name 'df_union' is not defined"
     ]
    }
   ],
   "source": [
    "df_union.to_csv('../data/data_files/all_sentences_w_pos_unions.csv')"
   ]
  },
  {
   "cell_type": "code",
   "execution_count": 5,
   "metadata": {},
   "outputs": [],
   "source": [
    "df_union = pd.read_csv('../data/data_files/all_sentences_w_pos_unions.csv')"
   ]
  },
  {
   "cell_type": "code",
   "execution_count": 7,
   "metadata": {},
   "outputs": [
    {
     "data": {
      "text/plain": [
       "pos_union\n",
       "False    390007\n",
       "True      73658\n",
       "dtype: int64"
      ]
     },
     "execution_count": 7,
     "metadata": {},
     "output_type": "execute_result"
    }
   ],
   "source": [
    "df_union.value_counts('pos_union')"
   ]
  },
  {
   "cell_type": "code",
   "execution_count": 6,
   "metadata": {},
   "outputs": [
    {
     "data": {
      "text/plain": [
       "label\n",
       "False    353068\n",
       "True     110677\n",
       "dtype: int64"
      ]
     },
     "execution_count": 6,
     "metadata": {},
     "output_type": "execute_result"
    }
   ],
   "source": [
    "df_union.value_counts('label')"
   ]
  },
  {
   "attachments": {},
   "cell_type": "markdown",
   "metadata": {},
   "source": [
    "## Filter for pos_union & not Label"
   ]
  },
  {
   "cell_type": "code",
   "execution_count": 8,
   "metadata": {},
   "outputs": [],
   "source": [
    "filtered_df = df_union.query('not (label == False and pos_union == True)')"
   ]
  },
  {
   "cell_type": "code",
   "execution_count": 9,
   "metadata": {},
   "outputs": [
    {
     "data": {
      "text/plain": [
       "pos_union\n",
       "False    390007\n",
       "True      15963\n",
       "dtype: int64"
      ]
     },
     "execution_count": 9,
     "metadata": {},
     "output_type": "execute_result"
    }
   ],
   "source": [
    "filtered_df.value_counts('pos_union')"
   ]
  },
  {
   "cell_type": "code",
   "execution_count": 10,
   "metadata": {},
   "outputs": [
    {
     "data": {
      "text/plain": [
       "label\n",
       "False    295373\n",
       "True     110677\n",
       "dtype: int64"
      ]
     },
     "execution_count": 10,
     "metadata": {},
     "output_type": "execute_result"
    }
   ],
   "source": [
    "filtered_df.value_counts('label')"
   ]
  },
  {
   "cell_type": "code",
   "execution_count": 11,
   "metadata": {},
   "outputs": [],
   "source": [
    "filtered_df.to_csv('../data/data_files/all_sentences_posfilter_standard.csv')"
   ]
  },
  {
   "attachments": {},
   "cell_type": "markdown",
   "metadata": {},
   "source": [
    "## Some insights into what is filtered out:\n"
   ]
  },
  {
   "cell_type": "code",
   "execution_count": 13,
   "metadata": {},
   "outputs": [],
   "source": [
    "filtered_out = df_union.query('(label == False and pos_union == True)')"
   ]
  },
  {
   "cell_type": "code",
   "execution_count": 14,
   "metadata": {},
   "outputs": [
    {
     "name": "stdout",
     "output_type": "stream",
     "text": [
      "6         Er war einer der 24 Angeklagten im Nürnberger ...\n",
      "9                        Die Familie Heß stammte aus Böhmen\n",
      "15                                  Seine Mutter Clara (geb\n",
      "16        Münch) entstammte ebenfalls einer fränkischen ...\n",
      "18                       Daher lernte er auch kein Englisch\n",
      "                                ...                        \n",
      "463720             Die Beschneidungsrate ist stark gesunken\n",
      "463721    Auch in Australien sinkt die Beschneidungsrate...\n",
      "463724        In Israel ist die Beschneidungsrate sehr hoch\n",
      "463728    Japan hat eine der niedrigsten Beschneidungsra...\n",
      "463738       Die Beschneidung solle einen Inzest verhindern\n",
      "Name: text, Length: 57695, dtype: object\n"
     ]
    }
   ],
   "source": [
    "print(filtered_out['text'])"
   ]
  },
  {
   "attachments": {},
   "cell_type": "markdown",
   "metadata": {},
   "source": [
    "## Other stuff"
   ]
  },
  {
   "cell_type": "code",
   "execution_count": null,
   "metadata": {},
   "outputs": [],
   "source": [
    "regex = r\"[^A-Za-z0-9\\s'':;.?()\\[\\]@\\\\\\-/\\$´€`&]+\"\n",
    "df_nan = df_union.copy()\n",
    "df_nan['text'] = df_union['text'].fillna('')\n",
    "df_nan = df_nan.reset_index(drop=True)\n",
    "df_filtered = df_nan[~df_nan['text'].str.contains(regex)]\n"
   ]
  }
 ],
 "metadata": {
  "kernelspec": {
   "display_name": "mac-tens9",
   "language": "python",
   "name": "python3"
  },
  "language_info": {
   "codemirror_mode": {
    "name": "ipython",
    "version": 3
   },
   "file_extension": ".py",
   "mimetype": "text/x-python",
   "name": "python",
   "nbconvert_exporter": "python",
   "pygments_lexer": "ipython3",
   "version": "3.9.16"
  },
  "orig_nbformat": 4,
  "vscode": {
   "interpreter": {
    "hash": "165501a9f0117b105509117bc31d98a33feff89ebc3b4fa5ccc5352a67b7dfee"
   }
  }
 },
 "nbformat": 4,
 "nbformat_minor": 2
}
