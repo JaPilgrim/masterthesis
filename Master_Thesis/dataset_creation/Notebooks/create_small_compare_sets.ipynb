{
 "cells": [
  {
   "cell_type": "code",
   "execution_count": 16,
   "metadata": {},
   "outputs": [],
   "source": [
    "import pandas as pd \n",
    "from utils import *\n",
    "import ast"
   ]
  },
  {
   "cell_type": "code",
   "execution_count": 4,
   "metadata": {},
   "outputs": [],
   "source": [
    "df = pd.read_csv('../../data/4_pos_resolved_truth_cleaned.csv',nrows=5)"
   ]
  },
  {
   "cell_type": "code",
   "execution_count": 5,
   "metadata": {},
   "outputs": [
    {
     "name": "stdout",
     "output_type": "stream",
     "text": [
      "Index(['Unnamed: 0', 'title', 'bytes', 'resolved_text_list',\n",
      "       'cleaned_article_text', 'sub_texts', 'resolved_sentence_list',\n",
      "       'sentence_list', 'quot_truth_list', 'link_truth_list',\n",
      "       'linkname_truth_list', 'pos_sentence_list',\n",
      "       'pos_resolved_sentence_list'],\n",
      "      dtype='object')\n"
     ]
    }
   ],
   "source": [
    "print(df.columns)"
   ]
  },
  {
   "cell_type": "code",
   "execution_count": 18,
   "metadata": {},
   "outputs": [],
   "source": [
    "list_cols=[\n",
    "    'resolved_sentence_list', 'sentence_list', 'quot_truth_list',\n",
    "    'link_truth_list', 'linkname_truth_list', 'pos_sentence_list', 'pos_resolved_sentence_list'\n",
    "]\n",
    "for col in list_cols:\n",
    "    df[col]=df[col].apply(ast.literal_eval)\n"
   ]
  },
  {
   "cell_type": "code",
   "execution_count": null,
   "metadata": {},
   "outputs": [],
   "source": []
  },
  {
   "cell_type": "code",
   "execution_count": 29,
   "metadata": {},
   "outputs": [],
   "source": [
    "df_exploded = df.explode([\n",
    "       'quot_truth_list', 'link_truth_list',\n",
    "       'linkname_truth_list','sentence_list','pos_sentence_list'\n",
    "       ])"
   ]
  },
  {
   "cell_type": "code",
   "execution_count": 43,
   "metadata": {},
   "outputs": [
    {
     "name": "stdout",
     "output_type": "stream",
     "text": [
      "\n",
      "hier\n",
      "   Bild 3:Erreicht die sexuelle Erregung ein gewissen Grad , kann das periurethrale Schwellkörpersystem auch mit der ganzen Hand stimuliert werden \n"
     ]
    }
   ],
   "source": [
    "print(df.sentence_list[4][30])\n",
    "print('hier')\n",
    "print(df.resolved_sentence_list[4][29])"
   ]
  },
  {
   "cell_type": "code",
   "execution_count": 13,
   "metadata": {},
   "outputs": [
    {
     "name": "stdout",
     "output_type": "stream",
     "text": [
      "   Unnamed: 0    title  bytes  \\\n",
      "1           1     Popo    805   \n",
      "2           2   Kanake    309   \n",
      "3           3    Bitch   5369   \n",
      "4           4  Fisting   7432   \n",
      "\n",
      "                                  resolved_text_list  \\\n",
      "1                             Popo ist Siehe auch :    \n",
      "2                   Kanake steht für : Siehe auch :    \n",
      "3  Bitch ist ein Begriff aus dem Englischen , der...   \n",
      "4  Faustverkehr engl Fisting , von fist „ Faust “...   \n",
      "\n",
      "                                cleaned_article_text  \\\n",
      "1                               Popo ist Siehe auch:   \n",
      "2                      Kanake steht für: Siehe auch:   \n",
      "3  Bitch ist ein Begriff aus dem Englischen, der ...   \n",
      "4  Faustverkehr engl Fisting, von fist „Faust“ be...   \n",
      "\n",
      "                                           sub_texts  \\\n",
      "1                           Popo ist \\nSiehe auch:\\n   \n",
      "2                 Kanake steht für:\\n\\nSiehe auch:\\n   \n",
      "3  Bitch  ist ein Begriff aus dem Englischen, der...   \n",
      "4  Faustverkehr (engl== Fisting, von fist „Faust“...   \n",
      "\n",
      "                              resolved_sentence_list  \\\n",
      "1                         ['Popo ist Siehe auch : ']   \n",
      "2               ['Kanake steht für : Siehe auch : ']   \n",
      "3  ['Bitch ist ein Begriff aus dem Englischen , d...   \n",
      "4  ['Faustverkehr engl Fisting , von fist „ Faust...   \n",
      "\n",
      "                                       sentence_list  \\\n",
      "1                           ['Popo ist Siehe auch:']   \n",
      "2                  ['Kanake steht für: Siehe auch:']   \n",
      "3  ['Bitch ist ein Begriff aus dem Englischen, de...   \n",
      "4  ['Faustverkehr engl Fisting, von fist „Faust“ ...   \n",
      "\n",
      "                                     quot_truth_list  \\\n",
      "1                                            [False]   \n",
      "2                                            [False]   \n",
      "3  [False, False, False, True, True, False, True,...   \n",
      "4  [False, False, False, False, False, False, Fal...   \n",
      "\n",
      "                                     link_truth_list  \\\n",
      "1                                            [False]   \n",
      "2                                            [False]   \n",
      "3  [True, True, True, True, True, False, True, Tr...   \n",
      "4  [True, False, False, False, True, False, True,...   \n",
      "\n",
      "                                 linkname_truth_list  \\\n",
      "1                                            [False]   \n",
      "2                                            [False]   \n",
      "3  [True, True, True, True, True, False, True, Tr...   \n",
      "4  [True, False, False, True, True, False, True, ...   \n",
      "\n",
      "                                   pos_sentence_list  \\\n",
      "1                                 [' NOUN VERB ADV']   \n",
      "2                       [' PROPN VERB ADP VERB ADV']   \n",
      "3  [' PROPN NOUN ADJ ADJ NOUN NOUN VERB NOUN ADJ ...   \n",
      "4  [' NOUN PROPN PROPN PROPN PUNCT NOUN PUNCT CCO...   \n",
      "\n",
      "                          pos_resolved_sentence_list  \n",
      "1                                     [' NOUN VERB']  \n",
      "2                         [' PROPN VERB SPACE VERB']  \n",
      "3  [' PROPN NOUN ADJ SPACE ADJ NOUN NOUN VERB NOU...  \n",
      "4  [' NOUN PROPN PROPN SPACE PROPN PUNCT NOUN PUN...  \n"
     ]
    }
   ],
   "source": [
    "print(df_exploded)"
   ]
  }
 ],
 "metadata": {
  "kernelspec": {
   "display_name": "mac-tens9",
   "language": "python",
   "name": "python3"
  },
  "language_info": {
   "codemirror_mode": {
    "name": "ipython",
    "version": 3
   },
   "file_extension": ".py",
   "mimetype": "text/x-python",
   "name": "python",
   "nbconvert_exporter": "python",
   "pygments_lexer": "ipython3",
   "version": "3.9.16"
  },
  "orig_nbformat": 4
 },
 "nbformat": 4,
 "nbformat_minor": 2
}
