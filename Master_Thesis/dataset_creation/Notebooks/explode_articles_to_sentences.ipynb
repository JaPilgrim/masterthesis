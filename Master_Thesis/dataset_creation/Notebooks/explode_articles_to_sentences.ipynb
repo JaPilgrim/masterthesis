{
 "cells": [
  {
   "cell_type": "code",
   "execution_count": 26,
   "metadata": {},
   "outputs": [],
   "source": [
    "import pandas as pd\n",
    "from utils import *\n",
    "import ast\n",
    "import seaborn as sns"
   ]
  },
  {
   "cell_type": "code",
   "execution_count": 22,
   "metadata": {},
   "outputs": [],
   "source": [
    "df = pd.read_csv('../../data/4_pos_resolved_truth_cleaned.csv')\n",
    "\n",
    "\n",
    "\n"
   ]
  },
  {
   "cell_type": "code",
   "execution_count": 7,
   "metadata": {},
   "outputs": [
    {
     "data": {
      "text/plain": [
       "Index(['title', 'bytes', 'resolved_text_list', 'cleaned_article_text',\n",
       "       'sub_texts', 'resolved_sentence_list', 'sentence_list',\n",
       "       'quot_truth_list', 'link_truth_list', 'linkname_truth_list',\n",
       "       'pos_sentence_list', 'pos_resolved_sentence_list'],\n",
       "      dtype='object')"
      ]
     },
     "execution_count": 7,
     "metadata": {},
     "output_type": "execute_result"
    }
   ],
   "source": [
    "df.columns"
   ]
  },
  {
   "cell_type": "code",
   "execution_count": 45,
   "metadata": {},
   "outputs": [],
   "source": [
    "list_cols=['resolved_sentence_list','sentence_list',\n",
    "       'quot_truth_list', 'link_truth_list', 'linkname_truth_list','pos_resolved_sentence_list',\n",
    "       'pos_sentence_list']\n",
    "\n"
   ]
  },
  {
   "cell_type": "code",
   "execution_count": 42,
   "metadata": {},
   "outputs": [],
   "source": [
    "df=df.drop([458,1239,1807,2184])"
   ]
  },
  {
   "cell_type": "code",
   "execution_count": 43,
   "metadata": {},
   "outputs": [],
   "source": [
    "df=df.reset_index(drop=True)"
   ]
  },
  {
   "cell_type": "code",
   "execution_count": null,
   "metadata": {},
   "outputs": [],
   "source": [
    "for col in list_cols:\n",
    "    df[col] = df[col].apply(ast.literal_eval)"
   ]
  },
  {
   "cell_type": "code",
   "execution_count": 41,
   "metadata": {},
   "outputs": [
    {
     "name": "stdout",
     "output_type": "stream",
     "text": [
      "458\n",
      "1239\n",
      "1807\n",
      "2184\n"
     ]
    }
   ],
   "source": [
    "df['no_sen']=df.sentence_list.map(len)\n",
    "df['res_no_sen']=df.resolved_sentence_list.map(len)\n",
    "for i in range(len(df)):\n",
    "    if df.no_sen[i] != df.res_no_sen[i]:\n",
    "        print(i)"
   ]
  },
  {
   "cell_type": "code",
   "execution_count": null,
   "metadata": {},
   "outputs": [],
   "source": [
    "df.to_csv('../../data/4_pos_resolved_truth_cleaned.csv',index=False)"
   ]
  },
  {
   "cell_type": "code",
   "execution_count": 27,
   "metadata": {},
   "outputs": [
    {
     "data": {
      "text/plain": [
       "<AxesSubplot: xlabel='no_sen', ylabel='Count'>"
      ]
     },
     "execution_count": 27,
     "metadata": {},
     "output_type": "execute_result"
    },
    {
     "data": {
      "image/png": "[encoded data removed]",
      "text/plain": [
       "<Figure size 640x480 with 1 Axes>"
      ]
     },
     "metadata": {},
     "output_type": "display_data"
    }
   ],
   "source": [
    "sns.histplot(df['no_sen'])"
   ]
  },
  {
   "cell_type": "code",
   "execution_count": 15,
   "metadata": {},
   "outputs": [
    {
     "name": "stdout",
     "output_type": "stream",
     "text": [
      "          title  bytes                                 resolved_text_list  \\\n",
      "0    Rudolf Heß  86302  Rudolf Walter Richard Heß    26 April 1894 in ...   \n",
      "0    Rudolf Heß  86302  Rudolf Walter Richard Heß    26 April 1894 in ...   \n",
      "0    Rudolf Heß  86302  Rudolf Walter Richard Heß    26 April 1894 in ...   \n",
      "0    Rudolf Heß  86302  Rudolf Walter Richard Heß    26 April 1894 in ...   \n",
      "0    Rudolf Heß  86302  Rudolf Walter Richard Heß    26 April 1894 in ...   \n",
      "..          ...    ...                                                ...   \n",
      "49  Analdehnung   4751  Analdehnung ist ein Sammelbegriff für Übungste...   \n",
      "49  Analdehnung   4751  Analdehnung ist ein Sammelbegriff für Übungste...   \n",
      "49  Analdehnung   4751  Analdehnung ist ein Sammelbegriff für Übungste...   \n",
      "49  Analdehnung   4751  Analdehnung ist ein Sammelbegriff für Übungste...   \n",
      "49  Analdehnung   4751  Analdehnung ist ein Sammelbegriff für Übungste...   \n",
      "\n",
      "                                 cleaned_article_text  \\\n",
      "0   Rudolf Walter Richard Heß   26 April 1894 in A...   \n",
      "0   Rudolf Walter Richard Heß   26 April 1894 in A...   \n",
      "0   Rudolf Walter Richard Heß   26 April 1894 in A...   \n",
      "0   Rudolf Walter Richard Heß   26 April 1894 in A...   \n",
      "0   Rudolf Walter Richard Heß   26 April 1894 in A...   \n",
      "..                                                ...   \n",
      "49  Analdehnung ist ein Sammelbegriff für Übungste...   \n",
      "49  Analdehnung ist ein Sammelbegriff für Übungste...   \n",
      "49  Analdehnung ist ein Sammelbegriff für Übungste...   \n",
      "49  Analdehnung ist ein Sammelbegriff für Übungste...   \n",
      "49  Analdehnung ist ein Sammelbegriff für Übungste...   \n",
      "\n",
      "                                            sub_texts  \\\n",
      "0   Rudolf Walter Richard Heß [] (* 26 April== 189...   \n",
      "0   Rudolf Walter Richard Heß [] (* 26 April== 189...   \n",
      "0   Rudolf Walter Richard Heß [] (* 26 April== 189...   \n",
      "0   Rudolf Walter Richard Heß [] (* 26 April== 189...   \n",
      "0   Rudolf Walter Richard Heß [] (* 26 April== 189...   \n",
      "..                                                ...   \n",
      "49  Analdehnung ist ein Sammelbegriff für Übungste...   \n",
      "49  Analdehnung ist ein Sammelbegriff für Übungste...   \n",
      "49  Analdehnung ist ein Sammelbegriff für Übungste...   \n",
      "49  Analdehnung ist ein Sammelbegriff für Übungste...   \n",
      "49  Analdehnung ist ein Sammelbegriff für Übungste...   \n",
      "\n",
      "                               resolved_sentence_list  \\\n",
      "0   Rudolf Walter Richard Heß    26 April 1894 in ...   \n",
      "0   Heß war ab 1933 Reichsminister ohne Geschäftsb...   \n",
      "0   Öffentlich tat Heß Heß als fanatischer Anhänge...   \n",
      "0   1933 ernannte Heß Adolf Hitler zu Hitler Stell...   \n",
      "0   Am 1 Mai 1941 flog Heß in das Vereinigte König...   \n",
      "..                                                ...   \n",
      "49                             Ruhetonus verzeichnet    \n",
      "49  Die Herabsetzung des Ruhetonus wird teilweise ...   \n",
      "49  Nach anderer Ansicht ist die Herabminderung de...   \n",
      "49  Spezifische Untersuchungen zu den Spätfolgen v...   \n",
      "49  Eine bestehende Schädigung des Schließmuskels ...   \n",
      "\n",
      "                                        sentence_list quot_truth_list  \\\n",
      "0   Rudolf Walter Richard Heß   26 April 1894 in A...           False   \n",
      "0   Heß war ab 1933 Reichsminister ohne Geschäftsb...           False   \n",
      "0   Öffentlich tat sich Heß als fanatischer Anhäng...           False   \n",
      "0   1933 ernannte ihn Adolf Hitler zu seinem Stell...           False   \n",
      "0   Am 1 Mai 1941 flog Heß in das Vereinigte König...           False   \n",
      "..                                                ...             ...   \n",
      "49                              Ruhetonus verzeichnet            True   \n",
      "49  Die Herabsetzung des Ruhetonus wird teilweise ...           False   \n",
      "49  Nach anderer Ansicht ist die Herabminderung de...            True   \n",
      "49  Spezifische Untersuchungen zu den Spätfolgen v...           False   \n",
      "49  Eine bestehende Schädigung des Schließmuskels ...            True   \n",
      "\n",
      "   link_truth_list linkname_truth_list  \\\n",
      "0             True                True   \n",
      "0             True                True   \n",
      "0             True                True   \n",
      "0             True                True   \n",
      "0             True                True   \n",
      "..             ...                 ...   \n",
      "49            True                True   \n",
      "49           False               False   \n",
      "49            True                True   \n",
      "49           False               False   \n",
      "49            True                True   \n",
      "\n",
      "                                    pos_sentence_list  \\\n",
      "0    PROPN PROPN PROPN PROPN NUM NOUN NUM ADV ADJ ...   \n",
      "0        PROPN ADP NUM NOUN ADV ADP NUM NOUN ADJ NOUN   \n",
      "0                    ADV VERB PROPN ADJ NOUN NOUN ADV   \n",
      "0                       NUM VERB PROPN PROPN ADJ NOUN   \n",
      "0    NUM NOUN NUM VERB PROPN ADJ ADV ADJ NOUN ADV ...   \n",
      "..                                                ...   \n",
      "49                                         PROPN VERB   \n",
      "49   NOUN PROPN ADV VERB NOUN ADJ NOUN ADP NOUN NO...   \n",
      "49                NOUN NOUN PROPN ADV NOUN NOUN PROPN   \n",
      "49   ADJ ADJ NOUN PROPN ADV ADJ NOUN ADV ADJ NOUN ...   \n",
      "49         ADJ NOUN PROPN ADJ NOUN VERB ADV VERB NOUN   \n",
      "\n",
      "                           pos_resolved_sentence_list  \n",
      "0    PROPN PROPN PROPN PROPN NUM NOUN NUM PRON SPA...  \n",
      "0        PROPN ADP NUM NOUN ADV ADP NUM NOUN ADJ NOUN  \n",
      "0              ADV VERB PROPN PROPN ADJ NOUN NOUN ADV  \n",
      "0           NUM VERB PROPN PROPN PROPN PROPN ADJ NOUN  \n",
      "0    NUM NOUN NUM VERB PROPN ADJ ADV SPACE ADJ NOU...  \n",
      "..                                                ...  \n",
      "49                                         PROPN VERB  \n",
      "49   NOUN PROPN ADV NOUN VERB SPACE NOUN ADJ ADJ N...  \n",
      "49               NOUN NOUN PROPN NOUN NOUN NOUN PROPN  \n",
      "49   ADJ ADJ NOUN PROPN ADV ADJ NOUN ADV ADJ NOUN ...  \n",
      "49   ADJ NOUN PROPN ADJ NOUN VERB ADV SPACE VERB NOUN  \n",
      "\n",
      "[4479 rows x 12 columns]\n"
     ]
    }
   ],
   "source": [
    "print(df_exploded)"
   ]
  },
  {
   "cell_type": "code",
   "execution_count": 46,
   "metadata": {},
   "outputs": [],
   "source": [
    "df_exploded = df.explode(list_cols)"
   ]
  }
 ],
 "metadata": {
  "kernelspec": {
   "display_name": "mac-tens9",
   "language": "python",
   "name": "python3"
  },
  "language_info": {
   "codemirror_mode": {
    "name": "ipython",
    "version": 3
   },
   "file_extension": ".py",
   "mimetype": "text/x-python",
   "name": "python",
   "nbconvert_exporter": "python",
   "pygments_lexer": "ipython3",
   "version": "3.9.16"
  },
  "orig_nbformat": 4
 },
 "nbformat": 4,
 "nbformat_minor": 2
}
