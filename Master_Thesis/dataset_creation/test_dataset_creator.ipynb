{
 "cells": [
  {
   "cell_type": "code",
   "execution_count": 1,
   "metadata": {},
   "outputs": [
    {
     "name": "stderr",
     "output_type": "stream",
     "text": [
      "[nltk_data] Downloading package stopwords to\n",
      "[nltk_data]     /Users/jannis/nltk_data...\n",
      "[nltk_data]   Package stopwords is already up-to-date!\n"
     ]
    }
   ],
   "source": [
    "from utils import *\n",
    "import pandas as pd\n"
   ]
  },
  {
   "cell_type": "code",
   "execution_count": 2,
   "metadata": {},
   "outputs": [
    {
     "data": {
      "text/html": [
       "<div>\n",
       "<style scoped>\n",
       "    .dataframe tbody tr th:only-of-type {\n",
       "        vertical-align: middle;\n",
       "    }\n",
       "\n",
       "    .dataframe tbody tr th {\n",
       "        vertical-align: top;\n",
       "    }\n",
       "\n",
       "    .dataframe thead th {\n",
       "        text-align: right;\n",
       "    }\n",
       "</style>\n",
       "<table border=\"1\" class=\"dataframe\">\n",
       "  <thead>\n",
       "    <tr style=\"text-align: right;\">\n",
       "      <th></th>\n",
       "      <th>url</th>\n",
       "      <th>date</th>\n",
       "      <th>source</th>\n",
       "      <th>label</th>\n",
       "      <th>header</th>\n",
       "      <th>article</th>\n",
       "      <th>twitter-history</th>\n",
       "    </tr>\n",
       "  </thead>\n",
       "  <tbody>\n",
       "    <tr>\n",
       "      <th>count</th>\n",
       "      <td>41240</td>\n",
       "      <td>41240</td>\n",
       "      <td>41240</td>\n",
       "      <td>41240</td>\n",
       "      <td>41240</td>\n",
       "      <td>41240</td>\n",
       "      <td>41240</td>\n",
       "    </tr>\n",
       "    <tr>\n",
       "      <th>unique</th>\n",
       "      <td>41107</td>\n",
       "      <td>38100</td>\n",
       "      <td>13</td>\n",
       "      <td>2</td>\n",
       "      <td>40345</td>\n",
       "      <td>41091</td>\n",
       "      <td>33743</td>\n",
       "    </tr>\n",
       "    <tr>\n",
       "      <th>top</th>\n",
       "      <td>https://de.rt.com/inland/106402-lauterbach-ex-...</td>\n",
       "      <td>2021-03-27T19:17:00+01:00</td>\n",
       "      <td>tagesspiegel.de</td>\n",
       "      <td>real</td>\n",
       "      <td>Nachrichten am Morgen - die Übersicht für Eilige</td>\n",
       "      <td>Nach seiner unbelegten Äußerun...</td>\n",
       "      <td>[]</td>\n",
       "    </tr>\n",
       "    <tr>\n",
       "      <th>freq</th>\n",
       "      <td>23</td>\n",
       "      <td>23</td>\n",
       "      <td>11623</td>\n",
       "      <td>28056</td>\n",
       "      <td>124</td>\n",
       "      <td>23</td>\n",
       "      <td>7405</td>\n",
       "    </tr>\n",
       "  </tbody>\n",
       "</table>\n",
       "</div>"
      ],
      "text/plain": [
       "                                                      url  \\\n",
       "count                                               41240   \n",
       "unique                                              41107   \n",
       "top     https://de.rt.com/inland/106402-lauterbach-ex-...   \n",
       "freq                                                   23   \n",
       "\n",
       "                             date           source  label  \\\n",
       "count                       41240            41240  41240   \n",
       "unique                      38100               13      2   \n",
       "top     2021-03-27T19:17:00+01:00  tagesspiegel.de   real   \n",
       "freq                           23            11623  28056   \n",
       "\n",
       "                                                  header  \\\n",
       "count                                              41240   \n",
       "unique                                             40345   \n",
       "top     Nachrichten am Morgen - die Übersicht für Eilige   \n",
       "freq                                                 124   \n",
       "\n",
       "                                                  article twitter-history  \n",
       "count                                               41240           41240  \n",
       "unique                                              41091           33743  \n",
       "top                     Nach seiner unbelegten Äußerun...              []  \n",
       "freq                                                   23            7405  "
      ]
     },
     "execution_count": 2,
     "metadata": {},
     "output_type": "execute_result"
    }
   ],
   "source": [
    "df_full = fetch_full_FANG_dataset()\n",
    "df_full.describe()"
   ]
  },
  {
   "cell_type": "code",
   "execution_count": 3,
   "metadata": {},
   "outputs": [
    {
     "name": "stdout",
     "output_type": "stream",
     "text": [
      "Group anonymousnews.ru\n",
      "fake    229\n",
      "Name: label, dtype: int64\n",
      "Group compact-online.de\n",
      "fake    1077\n",
      "Name: label, dtype: int64\n",
      "Group contra-magazin.com\n",
      "fake    998\n",
      "Name: label, dtype: int64\n",
      "Group de.rt.com\n",
      "fake    2442\n",
      "Name: label, dtype: int64\n",
      "Group freiewelt.net\n",
      "fake    1403\n",
      "Name: label, dtype: int64\n",
      "Group journalistenwatch.com\n",
      "fake    3675\n",
      "Name: label, dtype: int64\n",
      "Group kopp-report.de\n",
      "fake    204\n",
      "Name: label, dtype: int64\n",
      "Group politikstube.com\n",
      "fake    601\n",
      "Name: label, dtype: int64\n",
      "Group pravda-tv.com\n",
      "fake    1116\n",
      "Name: label, dtype: int64\n",
      "Group rubikon.news\n",
      "fake    1439\n",
      "Name: label, dtype: int64\n",
      "Group sueddeutsche.de\n",
      "real    6749\n",
      "Name: label, dtype: int64\n",
      "Group tagesspiegel.de\n",
      "real    11623\n",
      "Name: label, dtype: int64\n",
      "Group zeit.de\n",
      "real    9684\n",
      "Name: label, dtype: int64\n",
      "                         url   date  label  header  article  twitter-history\n",
      "source                                                                      \n",
      "anonymousnews.ru         229    229    229     229      229              229\n",
      "compact-online.de       1077   1077   1077    1077     1077             1077\n",
      "contra-magazin.com       998    998    998     998      998              998\n",
      "de.rt.com               2442   2442   2442    2442     2442             2442\n",
      "freiewelt.net           1403   1403   1403    1403     1403             1403\n",
      "journalistenwatch.com   3675   3675   3675    3675     3675             3675\n",
      "kopp-report.de           204    204    204     204      204              204\n",
      "politikstube.com         601    601    601     601      601              601\n",
      "pravda-tv.com           1116   1116   1116    1116     1116             1116\n",
      "rubikon.news            1439   1439   1439    1439     1439             1439\n",
      "sueddeutsche.de         6749   6749   6749    6749     6749             6749\n",
      "tagesspiegel.de        11623  11623  11623   11623    11623            11623\n",
      "zeit.de                 9684   9684   9684    9684     9684             9684\n"
     ]
    }
   ],
   "source": [
    "grouped = df_full.groupby('source')\n",
    "for name, group in grouped:\n",
    "    print(f\"Group {name}\")\n",
    "    print(group['label'].value_counts())\n",
    "verlage_aggr = grouped.aggregate('count')\n",
    "print(verlage_aggr)"
   ]
  },
  {
   "cell_type": "code",
   "execution_count": 4,
   "metadata": {},
   "outputs": [
    {
     "name": "stdout",
     "output_type": "stream",
     "text": [
      "anonymousnews.ru\n",
      "1\n",
      "compact-online.de\n",
      "3\n",
      "contra-magazin.com\n",
      "3\n",
      "de.rt.com\n",
      "6\n",
      "freiewelt.net\n",
      "4\n",
      "journalistenwatch.com\n",
      "9\n",
      "kopp-report.de\n",
      "1\n",
      "politikstube.com\n",
      "2\n",
      "pravda-tv.com\n",
      "3\n",
      "rubikon.news\n",
      "4\n",
      "sueddeutsche.de\n",
      "17\n",
      "tagesspiegel.de\n",
      "29\n",
      "zeit.de\n",
      "24\n"
     ]
    }
   ],
   "source": [
    "total_sentence_list = draw_proportional_randomsample_from_FANG_df(df_full)"
   ]
  },
  {
   "cell_type": "code",
   "execution_count": 13,
   "metadata": {},
   "outputs": [
    {
     "name": "stdout",
     "output_type": "stream",
     "text": [
      "['Ärger über Gasmasken-Eklat Samstag, 1 Juli, 122 Uhr: In der AfD regt sich Unmut über den provozierenden Gasmasken-Auftritt des Landtagsabgeordneten Stefan Löw im Plenum', 'Dabei hatte die Projektleitung eigentlich ein paar Erfolge seit dem vergangenen Treffen im September zu berichten', 'Trotz der beiden Bike-Lanes ist der Verkehr auf den verbliebenen vier Fahrspuren so heftig und laut, dass die von Husein befürchtete Autofreiheit der Stadt weder unmittelbar droht noch überhaupt als Drohung erscheint', 'Interessant ist, dass es der Civey-Umfrage zufolge für mögliche neue Restriktionen quer durch alle Altersgruppen Zustimmung gäbe', 'Die Salzburger Festspiele aber haben sich zumindest in ihrem ersten Pas de deux mit der Seuche glänzend geschlagen']\n"
     ]
    }
   ],
   "source": [
    "random.shuffle(total_sentence_list)"
   ]
  },
  {
   "cell_type": "code",
   "execution_count": 10,
   "metadata": {},
   "outputs": [
    {
     "name": "stdout",
     "output_type": "stream",
     "text": [
      "['Unsere Newsletter aus diesen drei Berliner Bezirken können Sie, wie auch alle anderen Bezirksnewsletter vom Tagesspiegel, hier kostenlos bestellen: leute.tagesspiegel.de Madlen Haarbach schreibt aus NEUKÖLLN: Aus dem Bezirk MITTE berichtet Julia Weiss: Aus REINICKENDORF meldet sich Gerd Appenzeller: Gerade in diesen Zeiten ist es wichtig, lieben Menschen zu gratulieren', 'Die ersten Niederlagen illustrieren das ganz gut', '\"Die wichtigsten Wochen im Jahr sind im Dezember schon weggebrochen und jetzt geht es weiter', 'Wir haben uns sogar auf einer Pilgerreise quer durch Spanien kennengelernt', 'So muss man etwa davon ausgehen, dass sehr viele Menschen, die keine oder leichte Symptome zeigen oder zeigten, infiziert sind oder waren, aber nicht in diese Statistik eingehen, weil sie nicht getestet werden beziehungsweise wurden']\n"
     ]
    }
   ],
   "source": [
    "print(total_sentence_list[0:5])"
   ]
  },
  {
   "cell_type": "code",
   "execution_count": 17,
   "metadata": {},
   "outputs": [],
   "source": [
    "df_annotate = pd.DataFrame(columns=['sentence','is_claim','to_exclude'])\n",
    "df_annotate['sentence'] = total_sentence_list\n",
    "df_annotate['is_claim'] = 2\n",
    "df_annotate['to_exclude'] = 0"
   ]
  },
  {
   "cell_type": "code",
   "execution_count": 5,
   "metadata": {},
   "outputs": [
    {
     "ename": "NameError",
     "evalue": "name 'df_annotate' is not defined",
     "output_type": "error",
     "traceback": [
      "\u001b[0;31m---------------------------------------------------------------------------\u001b[0m",
      "\u001b[0;31mNameError\u001b[0m                                 Traceback (most recent call last)",
      "Cell \u001b[0;32mIn[5], line 1\u001b[0m\n\u001b[0;32m----> 1\u001b[0m df_annotate\u001b[39m.\u001b[39mto_csv(\u001b[39mf\u001b[39m\u001b[39m\"\u001b[39m\u001b[39mfinal_annotation_\u001b[39m\u001b[39m{\u001b[39;00m\u001b[39mlen\u001b[39m(total_sentence_list)\u001b[39m}\u001b[39;00m\u001b[39m.csv\u001b[39m\u001b[39m\"\u001b[39m,\u001b[39m'\u001b[39m\u001b[39m!\u001b[39m\u001b[39m'\u001b[39m)\n",
      "\u001b[0;31mNameError\u001b[0m: name 'df_annotate' is not defined"
     ]
    }
   ],
   "source": [
    "df_annotate.to_csv(f\"/data/final_annotation_{len(total_sentence_list)}.csv\",'!')"
   ]
  },
  {
   "cell_type": "code",
   "execution_count": 9,
   "metadata": {},
   "outputs": [
    {
     "data": {
      "text/html": [
       "<div>\n",
       "<style scoped>\n",
       "    .dataframe tbody tr th:only-of-type {\n",
       "        vertical-align: middle;\n",
       "    }\n",
       "\n",
       "    .dataframe tbody tr th {\n",
       "        vertical-align: top;\n",
       "    }\n",
       "\n",
       "    .dataframe thead th {\n",
       "        text-align: right;\n",
       "    }\n",
       "</style>\n",
       "<table border=\"1\" class=\"dataframe\">\n",
       "  <thead>\n",
       "    <tr style=\"text-align: right;\">\n",
       "      <th></th>\n",
       "      <th>Unnamed: 0</th>\n",
       "      <th>sentence</th>\n",
       "      <th>is_claim</th>\n",
       "      <th>to_exclude</th>\n",
       "    </tr>\n",
       "  </thead>\n",
       "  <tbody>\n",
       "    <tr>\n",
       "      <th>0</th>\n",
       "      <td>0</td>\n",
       "      <td>Ärger über Gasmasken-Eklat Samstag, 1 Juli, 12...</td>\n",
       "      <td>1</td>\n",
       "      <td>0</td>\n",
       "    </tr>\n",
       "    <tr>\n",
       "      <th>1</th>\n",
       "      <td>1</td>\n",
       "      <td>Dabei hatte die Projektleitung eigentlich ein ...</td>\n",
       "      <td>0</td>\n",
       "      <td>0</td>\n",
       "    </tr>\n",
       "    <tr>\n",
       "      <th>2</th>\n",
       "      <td>2</td>\n",
       "      <td>Trotz der beiden Bike-Lanes ist der Verkehr au...</td>\n",
       "      <td>1</td>\n",
       "      <td>0</td>\n",
       "    </tr>\n",
       "    <tr>\n",
       "      <th>3</th>\n",
       "      <td>3</td>\n",
       "      <td>Interessant ist, dass es der Civey-Umfrage zuf...</td>\n",
       "      <td>1</td>\n",
       "      <td>0</td>\n",
       "    </tr>\n",
       "    <tr>\n",
       "      <th>4</th>\n",
       "      <td>4</td>\n",
       "      <td>Die Salzburger Festspiele aber haben sich zumi...</td>\n",
       "      <td>0</td>\n",
       "      <td>0</td>\n",
       "    </tr>\n",
       "  </tbody>\n",
       "</table>\n",
       "</div>"
      ],
      "text/plain": [
       "   Unnamed: 0                                           sentence  is_claim  \\\n",
       "0           0  Ärger über Gasmasken-Eklat Samstag, 1 Juli, 12...         1   \n",
       "1           1  Dabei hatte die Projektleitung eigentlich ein ...         0   \n",
       "2           2  Trotz der beiden Bike-Lanes ist der Verkehr au...         1   \n",
       "3           3  Interessant ist, dass es der Civey-Umfrage zuf...         1   \n",
       "4           4  Die Salzburger Festspiele aber haben sich zumi...         0   \n",
       "\n",
       "   to_exclude  \n",
       "0           0  \n",
       "1           0  \n",
       "2           0  \n",
       "3           0  \n",
       "4           0  "
      ]
     },
     "execution_count": 9,
     "metadata": {},
     "output_type": "execute_result"
    }
   ],
   "source": []
  },
  {
   "cell_type": "code",
   "execution_count": 8,
   "metadata": {},
   "outputs": [],
   "source": [
    "df=pd.read_csv(\"/data/FullAnnotated1.csv\",sep=';')"
   ]
  }
 ],
 "metadata": {
  "kernelspec": {
   "display_name": "Python 3",
   "language": "python",
   "name": "python3"
  },
  "language_info": {
   "codemirror_mode": {
    "name": "ipython",
    "version": 3
   },
   "file_extension": ".py",
   "mimetype": "text/x-python",
   "name": "python",
   "nbconvert_exporter": "python",
   "pygments_lexer": "ipython3",
   "version": "3.11.1"
  },
  "orig_nbformat": 4,
  "vscode": {
   "interpreter": {
    "hash": "aee8b7b246df8f9039afb4144a1f6fd8d2ca17a180786b69acc140d282b71a49"
   }
  }
 },
 "nbformat": 4,
 "nbformat_minor": 2
}
