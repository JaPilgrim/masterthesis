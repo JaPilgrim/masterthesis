{
 "cells": [
  {
   "cell_type": "markdown",
   "metadata": {},
   "source": []
  },
  {
   "cell_type": "code",
   "execution_count": 1,
   "metadata": {},
   "outputs": [
    {
     "name": "stderr",
     "output_type": "stream",
     "text": [
      "[nltk_data] Downloading package stopwords to\n",
      "[nltk_data]     /Users/jannis/nltk_data...\n",
      "[nltk_data]   Package stopwords is already up-to-date!\n"
     ]
    }
   ],
   "source": [
    "import pandas as pd\n",
    "import requests\n",
    "import re\n",
    "import random\n",
    "from random import sample\n",
    "import json\n",
    "import math\n",
    "from utils import *\n",
    "from sentence_classifier import SentenceClassifier\n",
    "from tokenizer_class import TokenizerClass\n",
    "from sklearn.linear_model import LogisticRegression\n",
    "from sklearn import metrics\n",
    "import matplotlib.pyplot as plt\n",
    "import csv\n",
    "import keras\n",
    "from keras.callbacks import EarlyStopping\n",
    "from tensorflow import keras\n",
    "from tensorflow.keras import callbacks, layers\n",
    "from tensorflow.keras.preprocessing.sequence import pad_sequences\n",
    "from tensorflow.keras.preprocessing.text import Tokenizer\n",
    "from sklearn.model_selection import train_test_split\n",
    "from sklearn.linear_model import LogisticRegression\n",
    "from sklearn import metrics\n",
    "import matplotlib.pyplot as plt\n",
    "import wandb"
   ]
  },
  {
   "cell_type": "code",
   "execution_count": 2,
   "metadata": {},
   "outputs": [
    {
     "name": "stderr",
     "output_type": "stream",
     "text": [
      "\u001b[34m\u001b[1mwandb\u001b[0m: Currently logged in as: \u001b[33mether-meter\u001b[0m. Use \u001b[1m`wandb login --relogin`\u001b[0m to force relogin\n"
     ]
    },
    {
     "data": {
      "text/html": [
       "Tracking run with wandb version 0.13.10"
      ],
      "text/plain": [
       "<IPython.core.display.HTML object>"
      ]
     },
     "metadata": {},
     "output_type": "display_data"
    },
    {
     "data": {
      "text/html": [
       "Run data is saved locally in <code>/Users/jannis/Desktop/GitRepos/Master/masterthesis/Master_Thesis/wandb/run-20230215_222621-svejr3uq</code>"
      ],
      "text/plain": [
       "<IPython.core.display.HTML object>"
      ]
     },
     "metadata": {},
     "output_type": "display_data"
    },
    {
     "data": {
      "text/html": [
       "Syncing run <strong><a href='https://wandb.ai/ether-meter/LSTM-sweep/runs/svejr3uq' target=\"_blank\">euphoric-crush-2</a></strong> to <a href='https://wandb.ai/ether-meter/LSTM-sweep' target=\"_blank\">Weights & Biases</a> (<a href='https://wandb.me/run' target=\"_blank\">docs</a>)<br/>"
      ],
      "text/plain": [
       "<IPython.core.display.HTML object>"
      ]
     },
     "metadata": {},
     "output_type": "display_data"
    },
    {
     "data": {
      "text/html": [
       " View project at <a href='https://wandb.ai/ether-meter/LSTM-sweep' target=\"_blank\">https://wandb.ai/ether-meter/LSTM-sweep</a>"
      ],
      "text/plain": [
       "<IPython.core.display.HTML object>"
      ]
     },
     "metadata": {},
     "output_type": "display_data"
    },
    {
     "data": {
      "text/html": [
       " View run at <a href='https://wandb.ai/ether-meter/LSTM-sweep/runs/svejr3uq' target=\"_blank\">https://wandb.ai/ether-meter/LSTM-sweep/runs/svejr3uq</a>"
      ],
      "text/plain": [
       "<IPython.core.display.HTML object>"
      ]
     },
     "metadata": {},
     "output_type": "display_data"
    }
   ],
   "source": [
    "wandb.init(\n",
    "    project='LSTM-sweep',\n",
    "    config={\n",
    "    'class_size':25000,\n",
    "    'random_state':2,\n",
    "    'compile_metric':'accuracy',\n",
    "    'dense_activation':'relu',\n",
    "    'ES_metric':'val_loss',\n",
    "    'eval_share':0.3,\n",
    "    'LSTM_dropout':0.1,\n",
    "    'hidden_layer_size':256, #256\n",
    "    'epochs':4,\n",
    "    'huggingface_model':'distilbert-base-german-cased',\n",
    "    'loss_function':None,\n",
    "    'learning_rate':0.00032,\n",
    "    }\n",
    ")\n",
    "config=wandb.config"
   ]
  },
  {
   "cell_type": "code",
   "execution_count": null,
   "metadata": {},
   "outputs": [],
   "source": [
    "sweep_configuration = {\n",
    "    'method': 'bayes',\n",
    "    'name': 'sweep-first',\n",
    "    'metric': {\n",
    "        'goal': 'maximize', \n",
    "        'name': 'AUC'\n",
    "\t\t},\n",
    "    'parameters': {\n",
    "    'class_size':25000,\n",
    "    'random_state':2,\n",
    "    'compile_metric':['accuracy','binary_accuracy','f1-score','AUC'],\n",
    "    'dense_activation':['relu','tanh','relu','softmax','elu','selu','softplus','softsign','swish'],\n",
    "    'ES_metric':['loss','val_loss','accuracy','val_accuracy'],\n",
    "    'eval_share':{max:0.5,min:0.1},\n",
    "    'LSTM_dropout':{max:0.5,min:0.001},\n",
    "    'hidden_layer_size':{max:512,min:16}, #256\n",
    "    'epochs':{max:20,min:2},\n",
    "    'loss_function':None,\n",
    "    'learning_rate':{max:0.1,'min':0.00001},\n",
    "    }\n",
    "     }\n"
   ]
  },
  {
   "cell_type": "code",
   "execution_count": null,
   "metadata": {},
   "outputs": [],
   "source": []
  },
  {
   "cell_type": "code",
   "execution_count": 4,
   "metadata": {},
   "outputs": [],
   "source": [
    "def fetch_prep_wiki_dataset(path='fulltext_wiki_protected.csv'):\n",
    "    all_articles=pd.read_csv(path,sep=',')[['title','bytes','full_text']]\n",
    "    i=1\n",
    "    df=preprocess_classify_wiki_text(all_articles['full_text'].iloc[0])\n",
    "    while i<len(all_articles):\n",
    "        working_df=preprocess_classify_wiki_text(all_articles['full_text'].iloc[i])\n",
    "        df=pd.concat([df,working_df])\n",
    "        i+=1\n",
    "    return df\n",
    "\n",
    "def evaluate_model(model,claim_extract):\n",
    "    annotated=pd.read_csv('FullAnnotated1.csv',sep=';',dtype={'sentence':'str'})\n",
    "    annotated=(annotated[annotated['to_exclude']==0])\n",
    "    annotated_text=list(annotated['sentence'])\n",
    "    annotated_padded = claim_extract.raw_text_to_padded_sequences(list(annotated_text))\n",
    "    annotated['predictions']=list(model.predict(annotated_padded))\n",
    "    plot,auc=plot_compute_AUC(annotated['is_claim'],annotated['predictions'])\n",
    "    return plot,auc\n",
    "\n",
    "def init_classes(df_train,eval_share):\n",
    "    tokenizer=TokenizerClass()\n",
    "    claim_extract=SentenceClassifier(tokenizer_class=tokenizer)\n",
    "    claim_extract.preprocess_train_val(df_train,eval_share)\n",
    "    return claim_extract\n"
   ]
  },
  {
   "cell_type": "code",
   "execution_count": 5,
   "metadata": {},
   "outputs": [],
   "source": []
  },
  {
   "cell_type": "code",
   "execution_count": 5,
   "metadata": {},
   "outputs": [
    {
     "name": "stdout",
     "output_type": "stream",
     "text": [
      "Metal device set to: Apple M2\n",
      "\n",
      "systemMemory: 16.00 GB\n",
      "maxCacheSize: 5.33 GB\n",
      "\n"
     ]
    },
    {
     "name": "stderr",
     "output_type": "stream",
     "text": [
      "2023-02-15 22:27:01.096498: I tensorflow/core/common_runtime/pluggable_device/pluggable_device_factory.cc:305] Could not identify NUMA node of platform GPU ID 0, defaulting to 0. Your kernel may not have been built with NUMA support.\n",
      "2023-02-15 22:27:01.096604: I tensorflow/core/common_runtime/pluggable_device/pluggable_device_factory.cc:271] Created TensorFlow device (/job:localhost/replica:0/task:0/device:GPU:0 with 0 MB memory) -> physical PluggableDevice (device: 0, name: METAL, pci bus id: <undefined>)\n"
     ]
    },
    {
     "name": "stdout",
     "output_type": "stream",
     "text": [
      "Model: \"sequential\"\n",
      "_________________________________________________________________\n",
      " Layer (type)                Output Shape              Param #   \n",
      "=================================================================\n",
      " embedding (Embedding)       (None, 32, 32)            3049312   \n",
      "                                                                 \n",
      " lstm (LSTM)                 (None, 256)               295936    \n",
      "                                                                 \n",
      " dense (Dense)               (None, 1)                 257       \n",
      "                                                                 \n",
      "=================================================================\n",
      "Total params: 3,345,505\n",
      "Trainable params: 3,345,505\n",
      "Non-trainable params: 0\n",
      "_________________________________________________________________\n",
      "Epoch 1/4\n"
     ]
    },
    {
     "name": "stderr",
     "output_type": "stream",
     "text": [
      "2023-02-15 22:27:01.370492: W tensorflow/core/platform/profile_utils/cpu_utils.cc:128] Failed to get CPU frequency: 0 Hz\n",
      "2023-02-15 22:27:02.061462: I tensorflow/core/grappler/optimizers/custom_graph_optimizer_registry.cc:113] Plugin optimizer for device_type GPU is enabled.\n",
      "2023-02-15 22:27:02.254805: I tensorflow/core/grappler/optimizers/custom_graph_optimizer_registry.cc:113] Plugin optimizer for device_type GPU is enabled.\n",
      "2023-02-15 22:27:02.450119: I tensorflow/core/grappler/optimizers/custom_graph_optimizer_registry.cc:113] Plugin optimizer for device_type GPU is enabled.\n"
     ]
    },
    {
     "name": "stdout",
     "output_type": "stream",
     "text": [
      "520/520 [==============================] - ETA: 0s - loss: 0.7190 - accuracy: 0.5267"
     ]
    },
    {
     "name": "stderr",
     "output_type": "stream",
     "text": [
      "2023-02-15 22:27:17.706183: I tensorflow/core/grappler/optimizers/custom_graph_optimizer_registry.cc:113] Plugin optimizer for device_type GPU is enabled.\n",
      "2023-02-15 22:27:17.780195: I tensorflow/core/grappler/optimizers/custom_graph_optimizer_registry.cc:113] Plugin optimizer for device_type GPU is enabled.\n"
     ]
    },
    {
     "name": "stdout",
     "output_type": "stream",
     "text": [
      "520/520 [==============================] - 18s 33ms/step - loss: 0.7190 - accuracy: 0.5267 - val_loss: 0.6720 - val_accuracy: 0.5794\n",
      "Epoch 2/4\n",
      "520/520 [==============================] - 15s 28ms/step - loss: 0.6627 - accuracy: 0.6368 - val_loss: 0.7075 - val_accuracy: 0.4140\n",
      "Epoch 3/4\n",
      "520/520 [==============================] - 14s 27ms/step - loss: 0.6472 - accuracy: 0.6659 - val_loss: 1.0083 - val_accuracy: 0.5725\n",
      "Epoch 3: early stopping\n",
      "1/4 [======>.......................] - ETA: 0s"
     ]
    },
    {
     "name": "stderr",
     "output_type": "stream",
     "text": [
      "2023-02-15 22:27:48.621855: I tensorflow/core/grappler/optimizers/custom_graph_optimizer_registry.cc:113] Plugin optimizer for device_type GPU is enabled.\n",
      "2023-02-15 22:27:48.671979: I tensorflow/core/grappler/optimizers/custom_graph_optimizer_registry.cc:113] Plugin optimizer for device_type GPU is enabled.\n"
     ]
    },
    {
     "name": "stdout",
     "output_type": "stream",
     "text": [
      "4/4 [==============================] - 0s 38ms/step\n"
     ]
    },
    {
     "data": {
      "image/png": "[encoded data removed]",
      "text/plain": [
       "<Figure size 640x480 with 1 Axes>"
      ]
     },
     "metadata": {},
     "output_type": "display_data"
    }
   ],
   "source": [
    "df = fetch_prep_wiki_dataset()\n",
    "df_train=df.sample(50000,random_state=2)\n",
    "claim_extract = init_classes(df_train,config.eval_share)\n",
    "model = keras.models.Sequential()\n",
    "model.add(layers.Embedding(claim_extract.tokenizer_class.num_unique_words, 32, input_length=32))\n",
    "model.add(layers.LSTM(config.hidden_layer_size, dropout=config.LSTM_dropout))\n",
    "model.add(layers.Dense(1, activation=config.dense_activation))\n",
    "model.summary()\n",
    "loss = keras.losses.BinaryCrossentropy(from_logits=False)\n",
    "optim = keras.optimizers.Adam(learning_rate=config.learning_rate)\n",
    "metrics = [config.compile_metric]\n",
    "\n",
    "model.compile(loss=loss, optimizer=optim, metrics=metrics)\n",
    "es = EarlyStopping(config.ES_metric, mode='min', verbose=1, patience=2)\n",
    "model.fit(claim_extract.train_padded,\n",
    "                       claim_extract.train_df['target'],\n",
    "                       validation_data=(claim_extract.val_padded, claim_extract.val_df['target']),\n",
    "                       callbacks=[es],\n",
    "                       epochs=config.epochs)\n",
    "plot,auc = evaluate_model(model,claim_extract)\n",
    "wandb.log({'AUC':auc,'whole_size':len(claim_extract.whole_df),'train_size':len(claim_extract.train_df)})\n"
   ]
  },
  {
   "cell_type": "code",
   "execution_count": 11,
   "metadata": {},
   "outputs": [],
   "source": [
    "\n"
   ]
  },
  {
   "cell_type": "code",
   "execution_count": 14,
   "metadata": {},
   "outputs": [
    {
     "name": "stdout",
     "output_type": "stream",
     "text": [
      "4/4 [==============================] - 0s 19ms/step\n"
     ]
    },
    {
     "data": {
      "image/png": "[encoded data removed]",
      "text/plain": [
       "<Figure size 640x480 with 1 Axes>"
      ]
     },
     "metadata": {},
     "output_type": "display_data"
    }
   ],
   "source": []
  },
  {
   "cell_type": "code",
   "execution_count": 15,
   "metadata": {},
   "outputs": [],
   "source": []
  }
 ],
 "metadata": {
  "kernelspec": {
   "display_name": "Python 3",
   "language": "python",
   "name": "python3"
  },
  "language_info": {
   "codemirror_mode": {
    "name": "ipython",
    "version": 3
   },
   "file_extension": ".py",
   "mimetype": "text/x-python",
   "name": "python",
   "nbconvert_exporter": "python",
   "pygments_lexer": "ipython3",
   "version": "3.9.16"
  },
  "orig_nbformat": 4,
  "vscode": {
   "interpreter": {
    "hash": "165501a9f0117b105509117bc31d98a33feff89ebc3b4fa5ccc5352a67b7dfee"
   }
  }
 },
 "nbformat": 4,
 "nbformat_minor": 2
}
