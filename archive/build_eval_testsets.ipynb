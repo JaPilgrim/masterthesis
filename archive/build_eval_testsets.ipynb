{
 "cells": [
  {
   "cell_type": "code",
   "execution_count": 21,
   "metadata": {},
   "outputs": [],
   "source": [
    "import pandas as pd\n",
    "from utils import *\n",
    "import ast"
   ]
  },
  {
   "cell_type": "code",
   "execution_count": 30,
   "metadata": {},
   "outputs": [],
   "source": [
    "full_df = pd.read_csv('../../data/5.1_sentences_exploded.csv')"
   ]
  },
  {
   "cell_type": "code",
   "execution_count": 3,
   "metadata": {},
   "outputs": [
    {
     "data": {
      "text/plain": [
       "346682"
      ]
     },
     "execution_count": 3,
     "metadata": {},
     "output_type": "execute_result"
    }
   ],
   "source": [
    "len(full_df)"
   ]
  },
  {
   "cell_type": "code",
   "execution_count": 4,
   "metadata": {},
   "outputs": [
    {
     "data": {
      "text/html": [
       "<div>\n",
       "<style scoped>\n",
       "    .dataframe tbody tr th:only-of-type {\n",
       "        vertical-align: middle;\n",
       "    }\n",
       "\n",
       "    .dataframe tbody tr th {\n",
       "        vertical-align: top;\n",
       "    }\n",
       "\n",
       "    .dataframe thead th {\n",
       "        text-align: right;\n",
       "    }\n",
       "</style>\n",
       "<table border=\"1\" class=\"dataframe\">\n",
       "  <thead>\n",
       "    <tr style=\"text-align: right;\">\n",
       "      <th></th>\n",
       "      <th>Unnamed: 0</th>\n",
       "      <th>article_index</th>\n",
       "      <th>resolved_sentence_list</th>\n",
       "      <th>sentence_list</th>\n",
       "      <th>pos_sentence_list</th>\n",
       "      <th>pos_resolved_sentence_list</th>\n",
       "      <th>quot_truth_list</th>\n",
       "      <th>link_truth_list</th>\n",
       "      <th>linkname_truth_list</th>\n",
       "      <th>pos_sentence_strings</th>\n",
       "      <th>pos_resolved_sentence_strings</th>\n",
       "    </tr>\n",
       "  </thead>\n",
       "  <tbody>\n",
       "    <tr>\n",
       "      <th>0</th>\n",
       "      <td>0</td>\n",
       "      <td>0</td>\n",
       "      <td>nan</td>\n",
       "      <td>NaN</td>\n",
       "      <td>[]</td>\n",
       "      <td>['X']</td>\n",
       "      <td>False</td>\n",
       "      <td>True</td>\n",
       "      <td>True</td>\n",
       "      <td>NaN</td>\n",
       "      <td>X</td>\n",
       "    </tr>\n",
       "    <tr>\n",
       "      <th>1</th>\n",
       "      <td>1</td>\n",
       "      <td>1</td>\n",
       "      <td>René ist ein männlicher Vorname , der auch als...</td>\n",
       "      <td>René ist ein männlicher Vorname, der auch als ...</td>\n",
       "      <td>['PROPN', 'ADJ', 'ADJ', 'NOUN', 'VERB']</td>\n",
       "      <td>['PROPN', 'ADJ', 'NOUN', 'SPACE', 'NOUN', 'VERB']</td>\n",
       "      <td>False</td>\n",
       "      <td>True</td>\n",
       "      <td>True</td>\n",
       "      <td>PROPN ADJ ADJ NOUN VERB</td>\n",
       "      <td>PROPN ADJ NOUN SPACE NOUN VERB</td>\n",
       "    </tr>\n",
       "    <tr>\n",
       "      <th>2</th>\n",
       "      <td>2</td>\n",
       "      <td>2</td>\n",
       "      <td>Depp ist : Depp ist der Familienname folgender...</td>\n",
       "      <td>Depp ist: Depp ist der Familienname folgender ...</td>\n",
       "      <td>['NOUN', 'AUX', 'NOUN', 'NOUN', 'ADJ', 'NOUN',...</td>\n",
       "      <td>['NOUN', 'SPACE', 'NOUN', 'NOUN', 'ADJ', 'NOUN...</td>\n",
       "      <td>False</td>\n",
       "      <td>False</td>\n",
       "      <td>False</td>\n",
       "      <td>NOUN AUX NOUN NOUN ADJ NOUN VERB ADV</td>\n",
       "      <td>NOUN SPACE NOUN NOUN ADJ NOUN SPACE VERB</td>\n",
       "    </tr>\n",
       "    <tr>\n",
       "      <th>3</th>\n",
       "      <td>3</td>\n",
       "      <td>3</td>\n",
       "      <td>HAVA oder Hava steht als Abkürzung oder Künstl...</td>\n",
       "      <td>HAVA oder Hava steht als Abkürzung oder Künstl...</td>\n",
       "      <td>['PROPN', 'PROPN', 'VERB', 'ADJ', 'NOUN', 'ADP...</td>\n",
       "      <td>['PROPN', 'PROPN', 'VERB', 'NOUN', 'NOUN', 'SP...</td>\n",
       "      <td>False</td>\n",
       "      <td>False</td>\n",
       "      <td>False</td>\n",
       "      <td>PROPN PROPN VERB ADJ NOUN ADP VERB ADV</td>\n",
       "      <td>PROPN PROPN VERB NOUN NOUN SPACE VERB</td>\n",
       "    </tr>\n",
       "    <tr>\n",
       "      <th>4</th>\n",
       "      <td>4</td>\n",
       "      <td>4</td>\n",
       "      <td>SPD steht für : Parteien : SPD steht für : Spd...</td>\n",
       "      <td>SPD steht für: Parteien: SpD steht für: Spd st...</td>\n",
       "      <td>['PROPN', 'VERB', 'ADP', 'NOUN', 'PROPN', 'VER...</td>\n",
       "      <td>['PROPN', 'VERB', 'SPACE', 'NOUN', 'SPACE', 'P...</td>\n",
       "      <td>False</td>\n",
       "      <td>False</td>\n",
       "      <td>False</td>\n",
       "      <td>PROPN VERB ADP NOUN PROPN VERB ADP PROPN VERB...</td>\n",
       "      <td>PROPN VERB SPACE NOUN SPACE PROPN VERB SPACE ...</td>\n",
       "    </tr>\n",
       "  </tbody>\n",
       "</table>\n",
       "</div>"
      ],
      "text/plain": [
       "   Unnamed: 0  article_index  \\\n",
       "0           0              0   \n",
       "1           1              1   \n",
       "2           2              2   \n",
       "3           3              3   \n",
       "4           4              4   \n",
       "\n",
       "                              resolved_sentence_list  \\\n",
       "0                                               nan    \n",
       "1  René ist ein männlicher Vorname , der auch als...   \n",
       "2  Depp ist : Depp ist der Familienname folgender...   \n",
       "3  HAVA oder Hava steht als Abkürzung oder Künstl...   \n",
       "4  SPD steht für : Parteien : SPD steht für : Spd...   \n",
       "\n",
       "                                       sentence_list  \\\n",
       "0                                                NaN   \n",
       "1  René ist ein männlicher Vorname, der auch als ...   \n",
       "2  Depp ist: Depp ist der Familienname folgender ...   \n",
       "3  HAVA oder Hava steht als Abkürzung oder Künstl...   \n",
       "4  SPD steht für: Parteien: SpD steht für: Spd st...   \n",
       "\n",
       "                                   pos_sentence_list  \\\n",
       "0                                                 []   \n",
       "1            ['PROPN', 'ADJ', 'ADJ', 'NOUN', 'VERB']   \n",
       "2  ['NOUN', 'AUX', 'NOUN', 'NOUN', 'ADJ', 'NOUN',...   \n",
       "3  ['PROPN', 'PROPN', 'VERB', 'ADJ', 'NOUN', 'ADP...   \n",
       "4  ['PROPN', 'VERB', 'ADP', 'NOUN', 'PROPN', 'VER...   \n",
       "\n",
       "                          pos_resolved_sentence_list  quot_truth_list  \\\n",
       "0                                              ['X']            False   \n",
       "1  ['PROPN', 'ADJ', 'NOUN', 'SPACE', 'NOUN', 'VERB']            False   \n",
       "2  ['NOUN', 'SPACE', 'NOUN', 'NOUN', 'ADJ', 'NOUN...            False   \n",
       "3  ['PROPN', 'PROPN', 'VERB', 'NOUN', 'NOUN', 'SP...            False   \n",
       "4  ['PROPN', 'VERB', 'SPACE', 'NOUN', 'SPACE', 'P...            False   \n",
       "\n",
       "   link_truth_list  linkname_truth_list  \\\n",
       "0             True                 True   \n",
       "1             True                 True   \n",
       "2            False                False   \n",
       "3            False                False   \n",
       "4            False                False   \n",
       "\n",
       "                                pos_sentence_strings  \\\n",
       "0                                                NaN   \n",
       "1                            PROPN ADJ ADJ NOUN VERB   \n",
       "2               NOUN AUX NOUN NOUN ADJ NOUN VERB ADV   \n",
       "3             PROPN PROPN VERB ADJ NOUN ADP VERB ADV   \n",
       "4   PROPN VERB ADP NOUN PROPN VERB ADP PROPN VERB...   \n",
       "\n",
       "                       pos_resolved_sentence_strings  \n",
       "0                                                  X  \n",
       "1                     PROPN ADJ NOUN SPACE NOUN VERB  \n",
       "2           NOUN SPACE NOUN NOUN ADJ NOUN SPACE VERB  \n",
       "3              PROPN PROPN VERB NOUN NOUN SPACE VERB  \n",
       "4   PROPN VERB SPACE NOUN SPACE PROPN VERB SPACE ...  "
      ]
     },
     "execution_count": 4,
     "metadata": {},
     "output_type": "execute_result"
    }
   ],
   "source": [
    "full_df.head()"
   ]
  },
  {
   "cell_type": "code",
   "execution_count": 12,
   "metadata": {},
   "outputs": [
    {
     "data": {
      "text/plain": [
       "Unnamed: 0                        int64\n",
       "article_index                     int64\n",
       "resolved_sentence_list           object\n",
       "sentence_list                    object\n",
       "pos_sentence_list                object\n",
       "pos_resolved_sentence_list       object\n",
       "quot_truth_list                    bool\n",
       "link_truth_list                    bool\n",
       "linkname_truth_list                bool\n",
       "pos_sentence_strings             object\n",
       "pos_resolved_sentence_strings    object\n",
       "dtype: object"
      ]
     },
     "execution_count": 12,
     "metadata": {},
     "output_type": "execute_result"
    }
   ],
   "source": [
    "full_df.dtypes"
   ]
  },
  {
   "cell_type": "code",
   "execution_count": 33,
   "metadata": {},
   "outputs": [
    {
     "name": "stdout",
     "output_type": "stream",
     "text": [
      "Index(['Unnamed: 0', 'article_index', 'nopos_resolved_text',\n",
      "       'nopos_nonresolved_text', 'pos_sentence_list',\n",
      "       'pos_resolved_sentence_list', 'quot_label', 'link_label',\n",
      "       'namelink_label', 'pos_nonresolved_text', 'pos_resolved_text'],\n",
      "      dtype='object')\n"
     ]
    }
   ],
   "source": [
    "print(full_df.columns)"
   ]
  },
  {
   "cell_type": "code",
   "execution_count": 31,
   "metadata": {},
   "outputs": [],
   "source": [
    "full_df=full_df.rename(columns=rename)"
   ]
  },
  {
   "cell_type": "code",
   "execution_count": 29,
   "metadata": {},
   "outputs": [],
   "source": [
    "rename = {\n",
    "    'resolved_sentence_list': 'nopos_resolved_text',\n",
    "    'sentence_list': 'nopos_nonresolved_text',\n",
    "    'quot_truth_list': 'quot_label',\n",
    "    'link_truth_list': 'link_label',\n",
    "    'linkname_truth_list': 'namelink_label',\n",
    "    'pos_sentence_strings': 'pos_nonresolved_text',\n",
    "    'pos_resolved_sentence_strings': 'pos_resolved_text',\n",
    "}\n"
   ]
  },
  {
   "cell_type": "code",
   "execution_count": 20,
   "metadata": {},
   "outputs": [],
   "source": [
    "sample= 25000\n",
    "labels = ['quot_truth_list', 'link_truth_list',\n",
    "    'linkname_truth_list']\n",
    "texts = ['sentence_list','resolved_sentence_list', 'pos_sentence_strings',\n",
    "       'pos_resolved_sentence_strings']\n",
    "\n",
    "df_equal_sample = df.copy()\n",
    "df_equal_sample = df_equal_sample.sample(n=(sample*2))\n",
    "\n",
    "for label in labels:\n",
    "    df_random = pd.DataFrame()\n",
    "    df_equal = pd.DataFrame()\n",
    "\n",
    "    df_equal['label'] = df_equal_sample[label]\n",
    "\n",
    "    df_grouped = df.groupby(label)\n",
    "    df_random_sample = df_grouped.apply(lambda x: x.sample(n=sample)).reset_index(drop=True)\n",
    "    df_random['label'] = df_random_sample[label]\n",
    "    for text in texts:\n",
    "        df_random['text'] = ''\n",
    "        df_equal['text'] = ''\n",
    "        \n",
    "        df_random['text'] = df_random_sample[text]\n",
    "        df_equal['text'] = df_equal_sample[text]\n",
    "        \n",
    "        df_random.to_csv(f'../../data/test_dataset_samples/{text}__{label}__random.csv')\n",
    "        df_equal.to_csv(f'../../data/test_dataset_samples/{text}__{label}__equal.csv')\n"
   ]
  },
  {
   "cell_type": "code",
   "execution_count": null,
   "metadata": {},
   "outputs": [],
   "source": []
  }
 ],
 "metadata": {
  "kernelspec": {
   "display_name": "mac-tens9",
   "language": "python",
   "name": "python3"
  },
  "language_info": {
   "codemirror_mode": {
    "name": "ipython",
    "version": 3
   },
   "file_extension": ".py",
   "mimetype": "text/x-python",
   "name": "python",
   "nbconvert_exporter": "python",
   "pygments_lexer": "ipython3",
   "version": "3.9.16"
  },
  "orig_nbformat": 4
 },
 "nbformat": 4,
 "nbformat_minor": 2
}
