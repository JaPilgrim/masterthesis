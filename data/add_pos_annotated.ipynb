{
 "cells": [
  {
   "cell_type": "code",
   "execution_count": 1,
   "metadata": {},
   "outputs": [
    {
     "name": "stderr",
     "output_type": "stream",
     "text": [
      "2023-05-23 16:44:38.454229: I tensorflow/core/platform/cpu_feature_guard.cc:193] This TensorFlow binary is optimized with oneAPI Deep Neural Network Library (oneDNN) to use the following CPU instructions in performance-critical operations:  SSE4.1 SSE4.2 AVX AVX2 FMA\n",
      "To enable them in other operations, rebuild TensorFlow with the appropriate compiler flags.\n",
      "[nltk_data] Downloading package stopwords to /root/nltk_data...\n",
      "[nltk_data]   Package stopwords is already up-to-date!\n"
     ]
    }
   ],
   "source": [
    "import spacy\n",
    "import pandas as pd\n",
    "from utilities.utils import *\n",
    "nlp = spacy.load(\"de_core_news_sm\")\n",
    "import sys\n"
   ]
  },
  {
   "cell_type": "code",
   "execution_count": 2,
   "metadata": {},
   "outputs": [],
   "source": [
    "a = pd.read_csv('data/data_files/transfer_data/thriple_annotator_702.csv')"
   ]
  },
  {
   "cell_type": "code",
   "execution_count": 3,
   "metadata": {},
   "outputs": [
    {
     "data": {
      "text/html": [
       "<div>\n",
       "<style scoped>\n",
       "    .dataframe tbody tr th:only-of-type {\n",
       "        vertical-align: middle;\n",
       "    }\n",
       "\n",
       "    .dataframe tbody tr th {\n",
       "        vertical-align: top;\n",
       "    }\n",
       "\n",
       "    .dataframe thead th {\n",
       "        text-align: right;\n",
       "    }\n",
       "</style>\n",
       "<table border=\"1\" class=\"dataframe\">\n",
       "  <thead>\n",
       "    <tr style=\"text-align: right;\">\n",
       "      <th></th>\n",
       "      <th>text</th>\n",
       "      <th>label</th>\n",
       "      <th>pos_string</th>\n",
       "      <th>pos_list</th>\n",
       "    </tr>\n",
       "  </thead>\n",
       "  <tbody>\n",
       "    <tr>\n",
       "      <th>0</th>\n",
       "      <td>Insbesondere die flächendeckende Ausstattung m...</td>\n",
       "      <td>0</td>\n",
       "      <td>ADV DET ADJ NOUN ADP DET ADJ NOUN AUX ADV PUN...</td>\n",
       "      <td>['ADV', 'DET', 'ADJ', 'NOUN', 'ADP', 'DET', 'A...</td>\n",
       "    </tr>\n",
       "    <tr>\n",
       "      <th>1</th>\n",
       "      <td>Jedoch stand noch ein paar Tage davor nicht fe...</td>\n",
       "      <td>1</td>\n",
       "      <td>ADV VERB ADV DET DET NOUN ADV PART ADV PUNCT ...</td>\n",
       "      <td>['ADV', 'VERB', 'ADV', 'DET', 'DET', 'NOUN', '...</td>\n",
       "    </tr>\n",
       "    <tr>\n",
       "      <th>2</th>\n",
       "      <td>Immer mehr Menschen scheinen aufzuwachen und w...</td>\n",
       "      <td>0</td>\n",
       "      <td>ADV DET NOUN VERB VERB CCONJ VERB PRON ADP DE...</td>\n",
       "      <td>['ADV', 'DET', 'NOUN', 'VERB', 'VERB', 'CCONJ'...</td>\n",
       "    </tr>\n",
       "    <tr>\n",
       "      <th>3</th>\n",
       "      <td>Prof. Jay Bhattacharya, Direktor am Institut f...</td>\n",
       "      <td>1</td>\n",
       "      <td>NOUN PROPN PROPN PUNCT NOUN ADP NOUN ADP PROP...</td>\n",
       "      <td>['NOUN', 'PROPN', 'PROPN', 'PUNCT', 'NOUN', 'A...</td>\n",
       "    </tr>\n",
       "    <tr>\n",
       "      <th>4</th>\n",
       "      <td>In den großen Städten mussten Kneipen und Loka...</td>\n",
       "      <td>1</td>\n",
       "      <td>ADP DET ADJ NOUN ADJ NOUN CCONJ NOUN VERB PUN...</td>\n",
       "      <td>['ADP', 'DET', 'ADJ', 'NOUN', 'ADJ', 'NOUN', '...</td>\n",
       "    </tr>\n",
       "    <tr>\n",
       "      <th>...</th>\n",
       "      <td>...</td>\n",
       "      <td>...</td>\n",
       "      <td>...</td>\n",
       "      <td>...</td>\n",
       "    </tr>\n",
       "    <tr>\n",
       "      <th>784</th>\n",
       "      <td>In Quarantäne befinden sich zudem der Tagungst...</td>\n",
       "      <td>1</td>\n",
       "      <td>ADP NOUN VERB PRON ADV DET NOUN CCONJ NOUN DE...</td>\n",
       "      <td>['ADP', 'NOUN', 'VERB', 'PRON', 'ADV', 'DET', ...</td>\n",
       "    </tr>\n",
       "    <tr>\n",
       "      <th>785</th>\n",
       "      <td>Immerhin klopft Merkel dem „kompetenten“ Bunde...</td>\n",
       "      <td>1</td>\n",
       "      <td>ADV VERB PROPN DET PUNCT ADJ PUNCT NOUN PROPN...</td>\n",
       "      <td>['ADV', 'VERB', 'PROPN', 'DET', 'PUNCT', 'ADJ'...</td>\n",
       "    </tr>\n",
       "    <tr>\n",
       "      <th>786</th>\n",
       "      <td>„Weil sie keine einfache Schanze ist“ und „Feh...</td>\n",
       "      <td>0</td>\n",
       "      <td>PUNCT SCONJ PRON DET ADJ NOUN AUX PUNCT CCONJ...</td>\n",
       "      <td>['PUNCT', 'SCONJ', 'PRON', 'DET', 'ADJ', 'NOUN...</td>\n",
       "    </tr>\n",
       "    <tr>\n",
       "      <th>787</th>\n",
       "      <td>„Wir versuchen seit Wochen verzweifelt, irgend...</td>\n",
       "      <td>1</td>\n",
       "      <td>PUNCT PRON VERB ADP NOUN ADV PUNCT ADV ADP DE...</td>\n",
       "      <td>['PUNCT', 'PRON', 'VERB', 'ADP', 'NOUN', 'ADV'...</td>\n",
       "    </tr>\n",
       "    <tr>\n",
       "      <th>788</th>\n",
       "      <td>– die ersten einflussreichen Kalten Krieger mu...</td>\n",
       "      <td>1</td>\n",
       "      <td>PUNCT DET ADJ ADJ NOUN NOUN VERB ADV DET ADJ ...</td>\n",
       "      <td>['PUNCT', 'DET', 'ADJ', 'ADJ', 'NOUN', 'NOUN',...</td>\n",
       "    </tr>\n",
       "  </tbody>\n",
       "</table>\n",
       "<p>789 rows × 4 columns</p>\n",
       "</div>"
      ],
      "text/plain": [
       "                                                  text  label   \n",
       "0    Insbesondere die flächendeckende Ausstattung m...      0  \\\n",
       "1    Jedoch stand noch ein paar Tage davor nicht fe...      1   \n",
       "2    Immer mehr Menschen scheinen aufzuwachen und w...      0   \n",
       "3    Prof. Jay Bhattacharya, Direktor am Institut f...      1   \n",
       "4    In den großen Städten mussten Kneipen und Loka...      1   \n",
       "..                                                 ...    ...   \n",
       "784  In Quarantäne befinden sich zudem der Tagungst...      1   \n",
       "785  Immerhin klopft Merkel dem „kompetenten“ Bunde...      1   \n",
       "786  „Weil sie keine einfache Schanze ist“ und „Feh...      0   \n",
       "787  „Wir versuchen seit Wochen verzweifelt, irgend...      1   \n",
       "788  – die ersten einflussreichen Kalten Krieger mu...      1   \n",
       "\n",
       "                                            pos_string   \n",
       "0     ADV DET ADJ NOUN ADP DET ADJ NOUN AUX ADV PUN...  \\\n",
       "1     ADV VERB ADV DET DET NOUN ADV PART ADV PUNCT ...   \n",
       "2     ADV DET NOUN VERB VERB CCONJ VERB PRON ADP DE...   \n",
       "3     NOUN PROPN PROPN PUNCT NOUN ADP NOUN ADP PROP...   \n",
       "4     ADP DET ADJ NOUN ADJ NOUN CCONJ NOUN VERB PUN...   \n",
       "..                                                 ...   \n",
       "784   ADP NOUN VERB PRON ADV DET NOUN CCONJ NOUN DE...   \n",
       "785   ADV VERB PROPN DET PUNCT ADJ PUNCT NOUN PROPN...   \n",
       "786   PUNCT SCONJ PRON DET ADJ NOUN AUX PUNCT CCONJ...   \n",
       "787   PUNCT PRON VERB ADP NOUN ADV PUNCT ADV ADP DE...   \n",
       "788   PUNCT DET ADJ ADJ NOUN NOUN VERB ADV DET ADJ ...   \n",
       "\n",
       "                                              pos_list  \n",
       "0    ['ADV', 'DET', 'ADJ', 'NOUN', 'ADP', 'DET', 'A...  \n",
       "1    ['ADV', 'VERB', 'ADV', 'DET', 'DET', 'NOUN', '...  \n",
       "2    ['ADV', 'DET', 'NOUN', 'VERB', 'VERB', 'CCONJ'...  \n",
       "3    ['NOUN', 'PROPN', 'PROPN', 'PUNCT', 'NOUN', 'A...  \n",
       "4    ['ADP', 'DET', 'ADJ', 'NOUN', 'ADJ', 'NOUN', '...  \n",
       "..                                                 ...  \n",
       "784  ['ADP', 'NOUN', 'VERB', 'PRON', 'ADV', 'DET', ...  \n",
       "785  ['ADV', 'VERB', 'PROPN', 'DET', 'PUNCT', 'ADJ'...  \n",
       "786  ['PUNCT', 'SCONJ', 'PRON', 'DET', 'ADJ', 'NOUN...  \n",
       "787  ['PUNCT', 'PRON', 'VERB', 'ADP', 'NOUN', 'ADV'...  \n",
       "788  ['PUNCT', 'DET', 'ADJ', 'ADJ', 'NOUN', 'NOUN',...  \n",
       "\n",
       "[789 rows x 4 columns]"
      ]
     },
     "execution_count": 3,
     "metadata": {},
     "output_type": "execute_result"
    }
   ],
   "source": [
    "a"
   ]
  },
  {
   "cell_type": "code",
   "execution_count": 5,
   "metadata": {},
   "outputs": [
    {
     "data": {
      "text/plain": [
       "0.45373891001267425"
      ]
     },
     "execution_count": 5,
     "metadata": {},
     "output_type": "execute_result"
    }
   ],
   "source": [
    "358/(431 + 358) "
   ]
  },
  {
   "cell_type": "code",
   "execution_count": 4,
   "metadata": {},
   "outputs": [
    {
     "data": {
      "text/plain": [
       "label\n",
       "1    431\n",
       "0    358\n",
       "Name: count, dtype: int64"
      ]
     },
     "execution_count": 4,
     "metadata": {},
     "output_type": "execute_result"
    }
   ],
   "source": [
    "a.value_counts('label')"
   ]
  },
  {
   "cell_type": "code",
   "execution_count": 65,
   "metadata": {},
   "outputs": [],
   "source": [
    "from back_classes.sentence_classifier import LSTMDataset"
   ]
  },
  {
   "cell_type": "code",
   "execution_count": 67,
   "metadata": {},
   "outputs": [],
   "source": [
    "test_df = pd.read_csv(\n",
    "    'test_dataset_samples/sentence_list__link_truth_list__random.csv'\n",
    ")"
   ]
  },
  {
   "cell_type": "code",
   "execution_count": 69,
   "metadata": {},
   "outputs": [
    {
     "name": "stdout",
     "output_type": "stream",
     "text": [
      "label\n",
      "False    22500\n",
      "True     22500\n",
      "dtype: int64\n",
      "label\n",
      "False    2500\n",
      "True     2500\n",
      "dtype: int64\n"
     ]
    }
   ],
   "source": [
    "split_1,split_2 = split_train_val(test_df)\n",
    "print(split_1.value_counts('label'))\n",
    "print(split_2.value_counts('label'))"
   ]
  },
  {
   "cell_type": "code",
   "execution_count": 68,
   "metadata": {},
   "outputs": [
    {
     "data": {
      "text/plain": [
       "label\n",
       "False    25000\n",
       "True     25000\n",
       "dtype: int64"
      ]
     },
     "execution_count": 68,
     "metadata": {},
     "output_type": "execute_result"
    }
   ],
   "source": [
    "test_df.value_counts('label')"
   ]
  },
  {
   "cell_type": "code",
   "execution_count": 55,
   "metadata": {},
   "outputs": [
    {
     "data": {
      "text/html": [
       "<div>\n",
       "<style scoped>\n",
       "    .dataframe tbody tr th:only-of-type {\n",
       "        vertical-align: middle;\n",
       "    }\n",
       "\n",
       "    .dataframe tbody tr th {\n",
       "        vertical-align: top;\n",
       "    }\n",
       "\n",
       "    .dataframe thead th {\n",
       "        text-align: right;\n",
       "    }\n",
       "</style>\n",
       "<table border=\"1\" class=\"dataframe\">\n",
       "  <thead>\n",
       "    <tr style=\"text-align: right;\">\n",
       "      <th></th>\n",
       "      <th>Unnamed: 0</th>\n",
       "      <th>sentence</th>\n",
       "      <th>is_claim</th>\n",
       "      <th>to_exclude</th>\n",
       "    </tr>\n",
       "  </thead>\n",
       "  <tbody>\n",
       "    <tr>\n",
       "      <th>0</th>\n",
       "      <td>0</td>\n",
       "      <td>Ärger über Gasmasken-Eklat Samstag, 1 Juli, 12...</td>\n",
       "      <td>1</td>\n",
       "      <td>0</td>\n",
       "    </tr>\n",
       "    <tr>\n",
       "      <th>1</th>\n",
       "      <td>1</td>\n",
       "      <td>Dabei hatte die Projektleitung eigentlich ein ...</td>\n",
       "      <td>0</td>\n",
       "      <td>0</td>\n",
       "    </tr>\n",
       "    <tr>\n",
       "      <th>2</th>\n",
       "      <td>2</td>\n",
       "      <td>Trotz der beiden Bike-Lanes ist der Verkehr au...</td>\n",
       "      <td>1</td>\n",
       "      <td>0</td>\n",
       "    </tr>\n",
       "    <tr>\n",
       "      <th>3</th>\n",
       "      <td>3</td>\n",
       "      <td>Interessant ist, dass es der Civey-Umfrage zuf...</td>\n",
       "      <td>1</td>\n",
       "      <td>0</td>\n",
       "    </tr>\n",
       "    <tr>\n",
       "      <th>4</th>\n",
       "      <td>4</td>\n",
       "      <td>Die Salzburger Festspiele aber haben sich zumi...</td>\n",
       "      <td>0</td>\n",
       "      <td>0</td>\n",
       "    </tr>\n",
       "  </tbody>\n",
       "</table>\n",
       "</div>"
      ],
      "text/plain": [
       "   Unnamed: 0                                           sentence  is_claim  \\\n",
       "0           0  Ärger über Gasmasken-Eklat Samstag, 1 Juli, 12...         1   \n",
       "1           1  Dabei hatte die Projektleitung eigentlich ein ...         0   \n",
       "2           2  Trotz der beiden Bike-Lanes ist der Verkehr au...         1   \n",
       "3           3  Interessant ist, dass es der Civey-Umfrage zuf...         1   \n",
       "4           4  Die Salzburger Festspiele aber haben sich zumi...         0   \n",
       "\n",
       "   to_exclude  \n",
       "0           0  \n",
       "1           0  \n",
       "2           0  \n",
       "3           0  \n",
       "4           0  "
      ]
     },
     "execution_count": 55,
     "metadata": {},
     "output_type": "execute_result"
    }
   ],
   "source": [
    "annotation = pd.read_csv(\n",
    "    'data_files/FullAnnotated1.csv',sep=';'\n",
    ")\n",
    "annotation.head()"
   ]
  },
  {
   "cell_type": "code",
   "execution_count": 20,
   "metadata": {},
   "outputs": [
    {
     "data": {
      "text/plain": [
       "106"
      ]
     },
     "execution_count": 20,
     "metadata": {},
     "output_type": "execute_result"
    }
   ],
   "source": [
    "len(annotation)"
   ]
  },
  {
   "cell_type": "code",
   "execution_count": 24,
   "metadata": {},
   "outputs": [],
   "source": [
    "annotation = pd.read_csv('data_files/annotated_pos_test.csv')\n"
   ]
  },
  {
   "cell_type": "code",
   "execution_count": 31,
   "metadata": {},
   "outputs": [
    {
     "data": {
      "text/plain": [
       "97"
      ]
     },
     "execution_count": 31,
     "metadata": {},
     "output_type": "execute_result"
    }
   ],
   "source": [
    "len(annotation)"
   ]
  },
  {
   "cell_type": "code",
   "execution_count": 57,
   "metadata": {},
   "outputs": [],
   "source": [
    "annotation.to_csv('data_files/annotated_pos_test.csv',index=False)"
   ]
  },
  {
   "cell_type": "code",
   "execution_count": 56,
   "metadata": {},
   "outputs": [],
   "source": [
    "annotation['text']=annotation['sentence']\n",
    "annotation['label']=annotation['is_claim']\n",
    "\n",
    "sentence_list = annotation['text']\n",
    "pos_list = []\n",
    "pos_strings = []\n",
    "for sentence in sentence_list:\n",
    "    pos_string = get_sentence_pos_str(sentence,nlp)\n",
    "    pos_ls = get_sentence_pos_list(sentence,nlp)\n",
    "    pos_list.append(pos_ls)\n",
    "    pos_strings.append(pos_string)\n",
    "annotation['pos_string']=pos_strings\n",
    "annotation['pos_list']=pos_list\n",
    "\n",
    "annotation = annotation[annotation['to_exclude']==0]\n",
    "annotation = annotation[['text','label','pos_string','pos_list']]"
   ]
  },
  {
   "cell_type": "code",
   "execution_count": 50,
   "metadata": {},
   "outputs": [],
   "source": [
    "lstm_set = LSTMDataset()\n",
    "\n",
    "a=lstm_set.tokenizer_class.fit_tokenizer_on_train(annotation['pos_string'].tolist())"
   ]
  },
  {
   "cell_type": "code",
   "execution_count": 53,
   "metadata": {},
   "outputs": [
    {
     "data": {
      "text/plain": [
       "str"
      ]
     },
     "execution_count": 53,
     "metadata": {},
     "output_type": "execute_result"
    }
   ],
   "source": [
    "type(annotation['pos_string'][0])"
   ]
  },
  {
   "cell_type": "code",
   "execution_count": 62,
   "metadata": {},
   "outputs": [
    {
     "data": {
      "text/plain": [
       "0.44329896907216493"
      ]
     },
     "execution_count": 62,
     "metadata": {},
     "output_type": "execute_result"
    }
   ],
   "source": [
    "a[0] / (a[1]+a[0])"
   ]
  },
  {
   "cell_type": "code",
   "execution_count": 58,
   "metadata": {},
   "outputs": [],
   "source": [
    "a = annotation.value_counts('label')"
   ]
  }
 ],
 "metadata": {
  "kernelspec": {
   "display_name": "mac-tens9",
   "language": "python",
   "name": "python3"
  },
  "language_info": {
   "codemirror_mode": {
    "name": "ipython",
    "version": 3
   },
   "file_extension": ".py",
   "mimetype": "text/x-python",
   "name": "python",
   "nbconvert_exporter": "python",
   "pygments_lexer": "ipython3",
   "version": "3.9.16"
  },
  "orig_nbformat": 4
 },
 "nbformat": 4,
 "nbformat_minor": 2
}
