{
 "cells": [
  {
   "cell_type": "code",
   "execution_count": 1,
   "metadata": {},
   "outputs": [],
   "source": [
    "import selenium\n",
    "from selenium import webdriver\n",
    "from selenium.webdriver.chrome.options import Options\n",
    "from selenium.webdriver.common.by import By\n",
    "import pandas as pd\n",
    "import seaborn as sns\n"
   ]
  },
  {
   "cell_type": "markdown",
   "metadata": {},
   "source": [
    "## Crawls Wiki for protected articles: Title & bytes"
   ]
  },
  {
   "cell_type": "code",
   "execution_count": 24,
   "metadata": {},
   "outputs": [
    {
     "name": "stderr",
     "output_type": "stream",
     "text": [
      "/var/folders/w8/40_qn26x4k134x3br37zmn5r0000gn/T/ipykernel_20493/2416572542.py:4: DeprecationWarning: headless property is deprecated, instead use add_argument('--headless') or add_argument('--headless=new')\n",
      "  options.headless = True\n",
      "/var/folders/w8/40_qn26x4k134x3br37zmn5r0000gn/T/ipykernel_20493/2416572542.py:6: DeprecationWarning: executable_path has been deprecated, please pass in a Service object\n",
      "  driver = webdriver.Chrome(options=options, executable_path=DRIVER_PATH)\n"
     ]
    },
    {
     "name": "stdout",
     "output_type": "stream",
     "text": [
      "<selenium.webdriver.remote.webelement.WebElement (session=\"ec35c7a216306adf7b377c6a504c9d72\", element=\"771573b4-0bf1-435c-8e3d-d109eccdef58\")>\n"
     ]
    }
   ],
   "source": [
    "DRIVER_PATH = 'externals/'\n",
    "options = Options()\n",
    "options.headless = True\n",
    "options.add_argument(\"--window-size=1920,1200\")\n",
    "driver = webdriver.Chrome(options=options, executable_path=DRIVER_PATH)\n",
    "driver.get('https://de.wikipedia.org/wiki/Wikipedia:Exzellente_Artikel')\n",
    "article_list = []\n",
    "bytes_list = []\n",
    "\n",
    "table_element = driver.find_element(By.XPATH,\n",
    "                                     '/html/body/div[3]/div[3]/div[5]/div[1]/table/tbody')\n",
    "child_elements = table_element.find_elements(By.CSS_SELECTOR, 'p > a')[16:]\n",
    "for i, child in enumerate(child_elements):\n",
    "    # Perform operations on each child element\n",
    "    title = child.get_attribute('title')\n",
    "    print(title)  # Prints the text content of each\n",
    "    print(i)\n",
    "    article_list.append(title)\n"
   ]
  },
  {
   "cell_type": "code",
   "execution_count": 36,
   "metadata": {},
   "outputs": [],
   "source": [
    "df = pd.DataFrame()\n",
    "df['title'] = article_list\n",
    "df['bytes'] = 0"
   ]
  },
  {
   "cell_type": "code",
   "execution_count": 38,
   "metadata": {},
   "outputs": [],
   "source": [
    "df.to_csv('article_namelist_excellent.csv')"
   ]
  },
  {
   "attachments": {},
   "cell_type": "markdown",
   "metadata": {},
   "source": [
    "## Old Code"
   ]
  },
  {
   "cell_type": "code",
   "execution_count": null,
   "metadata": {},
   "outputs": [
    {
     "name": "stderr",
     "output_type": "stream",
     "text": [
      "/var/folders/w8/40_qn26x4k134x3br37zmn5r0000gn/T/ipykernel_11874/3940098104.py:5: DeprecationWarning: headless property is deprecated, instead use add_argument('--headless') or add_argument('--headless=new')\n",
      "  options.headless = True\n",
      "/var/folders/w8/40_qn26x4k134x3br37zmn5r0000gn/T/ipykernel_11874/3940098104.py:7: DeprecationWarning: executable_path has been deprecated, please pass in a Service object\n",
      "  driver = webdriver.Chrome(options=options,executable_path=DRIVER_PATH)\n"
     ]
    },
    {
     "name": "stdout",
     "output_type": "stream",
     "text": [
      "<selenium.webdriver.remote.webelement.WebElement (session=\"cc6f3ec753de82c5260d45c395922809\", element=\"550cd9af-348d-454e-acf9-708c6ab45c40\")>\n",
      "<selenium.webdriver.remote.webelement.WebElement (session=\"a251983b12ec991b0cbe9bfed2ca572a\", element=\"2148b86d-3fa0-4629-8504-0a9b27bb5755\")>\n"
     ]
    }
   ],
   "source": [
    "DRIVER_PATH = '/externals/'\n",
    "next_page_class='/html/body/div[3]/div[3]/div[4]/span[2]/span[3]'\n",
    "last_page_class='/html/body/div[3]/div[3]/div[4]/span[2]/span[4]'\n",
    "options = Options()\n",
    "options.headless = True\n",
    "options.add_argument(\"--window-size=1920,1200\")\n",
    "driver = webdriver.Chrome(options=options,executable_path=DRIVER_PATH)\n",
    "driver.get('https://de.wikipedia.org/w/index.php?title=Spezial:Gesch%C3%BCtzte_Seiten&dir=prev&level=0&namespace=0&size=&size-mode=min&type=edit')\n",
    "last_click_element=driver.find_element(By.XPATH,last_page_class)\n",
    "print(last_click_element)\n",
    "last_click_element.click()\n",
    "print(next_click_element)\n",
    "next_click_element=driver.find_element(By.XPATH,next_page_class)\n",
    "next_click_element.click()\n",
    "driver.quit()\n"
   ]
  },
  {
   "cell_type": "code",
   "execution_count": null,
   "metadata": {},
   "outputs": [
    {
     "name": "stderr",
     "output_type": "stream",
     "text": [
      "/var/folders/w8/40_qn26x4k134x3br37zmn5r0000gn/T/ipykernel_11874/757151822.py:3: DeprecationWarning: headless property is deprecated, instead use add_argument('--headless') or add_argument('--headless=new')\n",
      "  options.headless = True\n",
      "/var/folders/w8/40_qn26x4k134x3br37zmn5r0000gn/T/ipykernel_11874/757151822.py:5: DeprecationWarning: executable_path has been deprecated, please pass in a Service object\n",
      "  driver = webdriver.Chrome(options=options,executable_path=DRIVER_PATH)\n"
     ]
    },
    {
     "name": "stdout",
     "output_type": "stream",
     "text": [
      "805\n"
     ]
    }
   ],
   "source": [
    "DRIVER_PATH = '/externals/'\n",
    "options = Options()\n",
    "options.headless = True\n",
    "options.add_argument(\"--window-size=1920,1200\")\n",
    "driver = webdriver.Chrome(options=options,executable_path=DRIVER_PATH)\n",
    "driver.get('https://de.wikipedia.org/w/index.php?title=Spezial:Gesch%C3%BCtzte_Seiten&dir=prev&offset=37111&level=0&namespace=0&size=&size-mode=min&type=edit')\n",
    "title_list=[]\n",
    "bytes_list=[]\n",
    "\n",
    "table_elements=driver.find_elements(By.CSS_SELECTOR,'td.TablePager_col_pr_page')\n",
    "a= table_elements[1].find_element(By.CSS_SELECTOR, 'a').get_attribute('title')\n",
    "b= table_elements[1].find_element(By.CSS_SELECTOR, 'span > span').get_attribute('data-mw-bytes')\n",
    "print(b)\n",
    "\n",
    "\n",
    "driver.quit()"
   ]
  }
 ],
 "metadata": {
  "kernelspec": {
   "display_name": "sentence10",
   "language": "python",
   "name": "python3"
  },
  "language_info": {
   "codemirror_mode": {
    "name": "ipython",
    "version": 3
   },
   "file_extension": ".py",
   "mimetype": "text/x-python",
   "name": "python",
   "nbconvert_exporter": "python",
   "pygments_lexer": "ipython3",
   "version": "3.9.16"
  },
  "orig_nbformat": 4,
  "vscode": {
   "interpreter": {
    "hash": "0e7d7742248ebe98a33ff874e6710be266d71efe92595a19fbff31a7b4122fe0"
   }
  }
 },
 "nbformat": 4,
 "nbformat_minor": 2
}
