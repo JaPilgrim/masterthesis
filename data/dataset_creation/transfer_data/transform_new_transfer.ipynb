{
 "cells": [
  {
   "cell_type": "code",
   "execution_count": 2,
   "metadata": {},
   "outputs": [
    {
     "name": "stderr",
     "output_type": "stream",
     "text": [
      "2023-05-19 16:54:37.436083: I tensorflow/core/platform/cpu_feature_guard.cc:193] This TensorFlow binary is optimized with oneAPI Deep Neural Network Library (oneDNN) to use the following CPU instructions in performance-critical operations:  SSE4.1 SSE4.2 AVX AVX2 FMA\n",
      "To enable them in other operations, rebuild TensorFlow with the appropriate compiler flags.\n",
      "[nltk_data] Downloading package stopwords to /root/nltk_data...\n",
      "[nltk_data]   Package stopwords is already up-to-date!\n"
     ]
    }
   ],
   "source": [
    "import pandas as pd\n",
    "import spacy\n",
    "import pandas as pd\n",
    "from utilities.utils import *\n",
    "\n",
    "nlp = spacy.load(\"de_core_news_sm\")"
   ]
  },
  {
   "cell_type": "code",
   "execution_count": 4,
   "metadata": {},
   "outputs": [],
   "source": [
    "annotation = pd.read_csv('data/data_files/transfer_data/filtered_data_JP.csv')"
   ]
  },
  {
   "cell_type": "code",
   "execution_count": 5,
   "metadata": {},
   "outputs": [
    {
     "data": {
      "text/plain": [
       "Index(['position', 'article_id', 'sentence', 'Claim', 'Überprüfbarkeit'], dtype='object')"
      ]
     },
     "execution_count": 5,
     "metadata": {},
     "output_type": "execute_result"
    }
   ],
   "source": [
    "annotation.columns"
   ]
  },
  {
   "cell_type": "code",
   "execution_count": 7,
   "metadata": {},
   "outputs": [
    {
     "data": {
      "text/plain": [
       "is_claim\n",
       "1    431\n",
       "0    358\n",
       "Name: count, dtype: int64"
      ]
     },
     "execution_count": 7,
     "metadata": {},
     "output_type": "execute_result"
    }
   ],
   "source": [
    "\n",
    "annotation.value_counts('is_claim')"
   ]
  },
  {
   "cell_type": "code",
   "execution_count": 8,
   "metadata": {},
   "outputs": [],
   "source": [
    "annotation['text'] = annotation['sentence']\n",
    "annotation['label'] = annotation.apply(lambda row: 1\n",
    "                                         if row['Claim'] == 1 and row['Überprüfbarkeit'] == 1 else 0,\n",
    "                                         axis=1)\n",
    "\n",
    "sentence_list = annotation['text']\n",
    "pos_list = []\n",
    "pos_strings = []\n",
    "for sentence in sentence_list:\n",
    "    pos_string = get_sentence_pos_str(sentence, nlp)\n",
    "    pos_ls = get_sentence_pos_list(sentence, nlp)\n",
    "    pos_list.append(pos_ls)\n",
    "    pos_strings.append(pos_string)\n",
    "annotation['pos_string'] = pos_strings\n",
    "annotation['pos_list'] = pos_list\n",
    "\n",
    "\n",
    "annotation = annotation[['text', 'label', 'pos_string', 'pos_list']]\n"
   ]
  },
  {
   "cell_type": "code",
   "execution_count": 9,
   "metadata": {},
   "outputs": [],
   "source": [
    "annotation_sampled = annotation.groupby('label').apply(lambda x: x.sample(n=351, random_state=1)).reset_index(\n",
    "    drop=True)\n"
   ]
  },
  {
   "cell_type": "code",
   "execution_count": 10,
   "metadata": {},
   "outputs": [],
   "source": [
    "annotation.to_csv('data/data_files/transfer_data/thriple_annotator_702.csv',index=False)"
   ]
  }
 ],
 "metadata": {
  "kernelspec": {
   "display_name": "jannis-env9",
   "language": "python",
   "name": "python3"
  },
  "language_info": {
   "codemirror_mode": {
    "name": "ipython",
    "version": 3
   },
   "file_extension": ".py",
   "mimetype": "text/x-python",
   "name": "python",
   "nbconvert_exporter": "python",
   "pygments_lexer": "ipython3",
   "version": "3.9.16"
  },
  "orig_nbformat": 4
 },
 "nbformat": 4,
 "nbformat_minor": 2
}
