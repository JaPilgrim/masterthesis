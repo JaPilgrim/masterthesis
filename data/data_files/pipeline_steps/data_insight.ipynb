{
 "cells": [
  {
   "cell_type": "code",
   "execution_count": 1,
   "metadata": {},
   "outputs": [],
   "source": [
    "import pandas as pd"
   ]
  },
  {
   "cell_type": "code",
   "execution_count": 34,
   "metadata": {},
   "outputs": [],
   "source": [
    "df = pd.read_csv('6.1_sentences_filtersadded.csv',nrows=2000)"
   ]
  },
  {
   "cell_type": "code",
   "execution_count": 37,
   "metadata": {},
   "outputs": [
    {
     "name": "stdout",
     "output_type": "stream",
     "text": [
      "0                                                       X\n",
      "1                                 PROPN ADJ NOUNNOUN VERB\n",
      "2                              NOUNNOUN NOUN ADJ NOUNVERB\n",
      "3                          PROPN PROPN VERB NOUN NOUNVERB\n",
      "4            PROPN VERBNOUNPROPN VERBPROPN VERBPROPN VERB\n",
      "                              ...                        \n",
      "1995                                 PROPN PROPN VERB ADV\n",
      "1996     PROPN ADJ NOUN PROPN PROPN PROPN PROPN PROPN ...\n",
      "1997                         PROPN ADJ NOUN PROPN NUM ADP\n",
      "1998                ADV VERB PROPN PROPN PROPN NOUN PROPN\n",
      "1999     NUM ADJ PROPN PROPN X NOUN NOUN VERB ADV ADV ...\n",
      "Name: pos_resolved_text, Length: 2000, dtype: object\n"
     ]
    }
   ],
   "source": [
    "print(df.pos_resolved_text)"
   ]
  },
  {
   "cell_type": "code",
   "execution_count": 36,
   "metadata": {},
   "outputs": [],
   "source": [
    "columns=['pos_nonresolved_text', 'pos_resolved_text']\n",
    "for name in columns:\n",
    "    if name[:4]=='pos_':\n",
    "        df[name] = df[name].str.replace('SPACE','')\n",
    "        df[name] = df[name].str.replace('  ','')"
   ]
  },
  {
   "cell_type": "code",
   "execution_count": 28,
   "metadata": {},
   "outputs": [
    {
     "name": "stdout",
     "output_type": "stream",
     "text": [
      "Das Unternehmen mit Sitz in Prag hat 1300 Mitarbeiter an 17 Standorten in Deutschland, Polen, Tschechien, der Slowakei und Ungarn und operiert in sieben Ländern\n",
      "Das Group mit Sitz in Prag hat 1300 Mitarbeiter an 17 Standorten in Deutschland , Polen , Tschechien , der Slowakei und Ungarn und operiert in sieben Ländern \n"
     ]
    }
   ],
   "source": [
    "i=1831\n",
    "print(df['nopos_nonresolved_text'].iloc[i])\n",
    "print(df['nopos_resolved_text'].iloc[i])"
   ]
  }
 ],
 "metadata": {
  "kernelspec": {
   "display_name": "mac-tens9",
   "language": "python",
   "name": "python3"
  },
  "language_info": {
   "codemirror_mode": {
    "name": "ipython",
    "version": 3
   },
   "file_extension": ".py",
   "mimetype": "text/x-python",
   "name": "python",
   "nbconvert_exporter": "python",
   "pygments_lexer": "ipython3",
   "version": "3.9.16"
  },
  "orig_nbformat": 4
 },
 "nbformat": 4,
 "nbformat_minor": 2
}
