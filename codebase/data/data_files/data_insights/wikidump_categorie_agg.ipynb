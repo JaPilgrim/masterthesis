{
 "cells": [
  {
   "cell_type": "code",
   "execution_count": 8,
   "metadata": {},
   "outputs": [],
   "source": [
    "import re\n",
    "from collections import defaultdict\n",
    "import os\n",
    "\n",
    "\n"
   ]
  },
  {
   "cell_type": "code",
   "execution_count": 17,
   "metadata": {},
   "outputs": [],
   "source": [
    "def extract_categories(filename):\n",
    "    category_pattern = re.compile(r'<http://de.dbpedia.org/resource/Kategorie:(.*?)>')\n",
    "    article_pattern = re.compile(r'<http://de.dbpedia.org/resource/(.*?)> <http://purl.org/dc/terms/subject>')\n",
    "    category_counter = defaultdict(int)\n",
    "    article_set = set()\n",
    "\n",
    "    with open(filename, 'r', encoding='utf-8') as file:\n",
    "        for line in file:\n",
    "            # Extract and count categories\n",
    "            category_matches = category_pattern.findall(line)\n",
    "            for match in category_matches:\n",
    "                category_counter[match] += 1\n",
    "\n",
    "            # Extract articles\n",
    "            article_match = article_pattern.search(line)\n",
    "            if article_match:\n",
    "                article_set.add(article_match.group(1))\n",
    "\n",
    "    # Sort the categories by count in descending order\n",
    "    sorted_categories = sorted(category_counter.items(), key=lambda x: x[1], reverse=True)\n",
    "\n",
    "    # Calculate category shares\n",
    "    total_categories = sum(category_counter.values())\n",
    "    category_shares = [(category, count / total_categories) for category, count in sorted_categories]\n",
    "\n",
    "    # Count the number of different articles\n",
    "    unique_article_count = len(article_set)\n",
    "\n",
    "    return sorted_categories, category_shares, unique_article_count"
   ]
  },
  {
   "cell_type": "code",
   "execution_count": 11,
   "metadata": {},
   "outputs": [
    {
     "data": {
      "text/plain": [
       "'/root/projects/jpthesis/keygens/masterthesis/codebase'"
      ]
     },
     "execution_count": 11,
     "metadata": {},
     "output_type": "execute_result"
    }
   ],
   "source": [
    "os.getcwd()"
   ]
  },
  {
   "cell_type": "code",
   "execution_count": 18,
   "metadata": {},
   "outputs": [
    {
     "name": "stdout",
     "output_type": "stream",
     "text": [
      "2443797\n"
     ]
    }
   ],
   "source": [
    "filename = os.getcwd() + '/data/data_files/wikidump_cats/german_cats.ttl'\n",
    "absolute_cats,share_cats,total_art = extract_categories(filename)\n",
    "print(total_art)\n"
   ]
  }
 ],
 "metadata": {
  "kernelspec": {
   "display_name": "jannis-env9",
   "language": "python",
   "name": "python3"
  },
  "language_info": {
   "codemirror_mode": {
    "name": "ipython",
    "version": 3
   },
   "file_extension": ".py",
   "mimetype": "text/x-python",
   "name": "python",
   "nbconvert_exporter": "python",
   "pygments_lexer": "ipython3",
   "version": "3.9.16"
  },
  "orig_nbformat": 4
 },
 "nbformat": 4,
 "nbformat_minor": 2
}
