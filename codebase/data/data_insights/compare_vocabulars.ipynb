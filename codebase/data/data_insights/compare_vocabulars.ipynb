{
 "cells": [
  {
   "cell_type": "code",
   "execution_count": 9,
   "metadata": {},
   "outputs": [],
   "source": [
    "import pandas as pd\n",
    "import random\n",
    "import spacy\n",
    "from utilities.utils import *\n",
    "import concurrent.futures\n",
    "nlp = spacy.load(\"de_core_news_lg\")\n",
    "import matplotlib.pyplot as plt\n",
    "from matplotlib_venn import venn2\n",
    "from typing import List, Tuple\n",
    "import re\n",
    "import collections\n",
    "from multiprocessing import Pool\n",
    "import nltk\n",
    "from nltk.corpus import stopwords\n",
    "from collections import Counter\n",
    "import string\n",
    "import re\n",
    "from concurrent.futures import ProcessPoolExecutor\n",
    "import numpy as np\n",
    "import re\n",
    "from collections import defaultdict\n",
    "import pandas as pd\n",
    "import numpy as np\n",
    "import seaborn as sns\n",
    "from sklearn.metrics.pairwise import cosine_similarity"
   ]
  },
  {
   "attachments": {},
   "cell_type": "markdown",
   "metadata": {},
   "source": [
    "## Compare vocabs"
   ]
  },
  {
   "cell_type": "code",
   "execution_count": 2,
   "metadata": {},
   "outputs": [],
   "source": [
    "def process_sentence(sentence):\n",
    "    # Remove punctuation and digits\n",
    "    sentence = re.sub(r'[^\\w\\s]', '', str(sentence))  # Remove punctuation\n",
    "    sentence = re.sub(r'\\d', '', sentence)  # Remove digits\n",
    "\n",
    "    # Lowercase and split the sentence into words\n",
    "    words = sentence.lower().split()\n",
    "\n",
    "    return words\n",
    "\n",
    "\n",
    "def top_words(sentences):\n",
    "    # Initialize a list to hold all words\n",
    "    all_words = []\n",
    "\n",
    "    with Pool() as p:\n",
    "        # Process sentences concurrently\n",
    "        words_lists = p.map(process_sentence, sentences)\n",
    "\n",
    "        # Add words to the list\n",
    "        for words in words_lists:\n",
    "            all_words.extend(words)\n",
    "\n",
    "    # Use collections.Counter to get word frequencies\n",
    "    word_counts = collections.Counter(all_words)\n",
    "\n",
    "    # Get the top 25 words\n",
    "    top_25_words = word_counts.most_common(25)\n",
    "\n",
    "    # Calculate the total number of words\n",
    "    total_words = len(all_words)\n",
    "\n",
    "    # Convert the word counts to shares\n",
    "    top_25_words_shares = [(word, count / total_words) for word, count in top_25_words]\n",
    "\n",
    "    return top_25_words_shares"
   ]
  },
  {
   "cell_type": "code",
   "execution_count": 16,
   "metadata": {},
   "outputs": [
    {
     "name": "stderr",
     "output_type": "stream",
     "text": [
      "[nltk_data] Downloading package stopwords to /root/nltk_data...\n",
      "[nltk_data]   Package stopwords is already up-to-date!\n"
     ]
    }
   ],
   "source": [
    "nltk.download('stopwords')\n",
    "german_stop_words = set(stopwords.words('german'))\n",
    "\n",
    "\n",
    "def count_words_parallel(sentences):\n",
    "    # Splitting sentences into words and removing punctuation, special characters and digits\n",
    "    words_lists = [re.sub('[^A-Za-zäöüßÄÖÜ]+', ' ', str(sentence)).lower().split() for sentence in sentences]\n",
    "    \n",
    "    # Flatten the list of words and remove stopwords\n",
    "    words = [\n",
    "        word for words_list in words_lists for word in words_list if word not in german_stop_words\n",
    "    ]\n",
    "\n",
    "    # Count the occurrences of each word\n",
    "    word_counts = Counter(words)\n",
    "\n",
    "    # Get the most common 25 words\n",
    "    top_25_words = word_counts.most_common(25)\n",
    "\n",
    "    # Calculate the share of these words in all words\n",
    "    total_word_count = len(words)\n",
    "    word_shares = [(word, count / total_word_count) for word, count in top_25_words]\n",
    "\n",
    "    return word_shares\n",
    "\n",
    "\n",
    "def parallel_count_words(sentences, n_jobs=4):\n",
    "    with ProcessPoolExecutor(max_workers=n_jobs) as executor:\n",
    "        # split sentences into n_jobs parts\n",
    "        sentence_parts = np.array_split(sentences, n_jobs)\n",
    "        results = list(executor.map(count_words_parallel, sentence_parts))\n",
    "    # combine the results\n",
    "    all_word_shares = [word_share for result in results for word_share in result]\n",
    "    df = pd.DataFrame(all_word_shares,columns=['Word','Share'])\n",
    "    return df"
   ]
  },
  {
   "cell_type": "code",
   "execution_count": 4,
   "metadata": {},
   "outputs": [
    {
     "data": {
      "image/png": "[encoded data removed]",
      "text/plain": [
       "<Figure size 640x480 with 1 Axes>"
      ]
     },
     "metadata": {},
     "output_type": "display_data"
    },
    {
     "name": "stdout",
     "output_type": "stream",
     "text": [
      "Similarity: 0.36\n",
      "Intersection size: 4\n"
     ]
    }
   ],
   "source": [
    "\n",
    "def preprocess_string(s: str) -> List[str]:\n",
    "    # Split the string into sentences, then split each sentence into words\n",
    "    words = re.findall(r'\\b\\w+\\b', s)\n",
    "    return words\n",
    "\n",
    "\n",
    "def similarity_and_venn_diagram(strings_a: List[str], strings_b: List[str]) -> Tuple[float, float]:\n",
    "    words_a = {word for s in strings_a for word in preprocess_string(s)}\n",
    "    words_b = {word for s in strings_b for word in preprocess_string(s)}\n",
    "\n",
    "    intersection = words_a.intersection(words_b)\n",
    "    union = words_a.union(words_b)\n",
    "\n",
    "    similarity = len(intersection) / len(union)\n",
    "\n",
    "    plt.figure()\n",
    "    venn2([words_a, words_b], set_labels=('A', 'B'))\n",
    "    plt.title(f\"Similarity: {similarity:.2f}\")\n",
    "    plt.show()\n",
    "\n",
    "    return similarity, len(intersection)\n",
    "\n",
    "    return data\n",
    "\n",
    "# Example lists of strings\n",
    "strings_a = [\"This is the first sentence. Here is another sentence.\"]\n",
    "strings_b = [\"This is a different sentence. And another different one.\"]\n",
    "\n",
    "similarity, intersection_size = similarity_and_venn_diagram(strings_a, strings_b)\n",
    "print(f\"Similarity: {similarity:.2f}\")\n",
    "print(f\"Intersection size: {intersection_size}\")\n"
   ]
  },
  {
   "cell_type": "code",
   "execution_count": 6,
   "metadata": {},
   "outputs": [],
   "source": [
    "\n",
    "def plot_similarity_heatmap(similarity_matrix, labels):\n",
    "    # Make a copy of the similarity matrix to avoid modifying the original\n",
    "    similarity_matrix_copy = np.copy(similarity_matrix)\n",
    "\n",
    "    # Set diagonal elements to NaN\n",
    "    np.fill_diagonal(similarity_matrix_copy, np.nan)\n",
    "\n",
    "    # Create the heatmap\n",
    "    plt.figure(figsize=(8, 6))\n",
    "    ax = sns.heatmap(similarity_matrix_copy,\n",
    "                     annot=True,\n",
    "                     cmap=\"YlGnBu\",\n",
    "                     linewidths=0.5,\n",
    "                     xticklabels=labels,\n",
    "                     yticklabels=labels,\n",
    "                     mask=np.isnan(similarity_matrix_copy))\n",
    "    ax.set_title(\"Cosine Similarity\")\n",
    "    plt.show()"
   ]
  },
  {
   "cell_type": "code",
   "execution_count": 19,
   "metadata": {},
   "outputs": [],
   "source": [
    "def calculate_cosine_similarity(df1, df2, df3, df4):\n",
    "    # Combine the dataframes into a list\n",
    "    dfs = [df1, df2, df3, df4]\n",
    "    \n",
    "    # Merge the dataframes and fill missing values with zeros\n",
    "    merged_df = pd.concat(dfs, axis=0, keys=range(len(dfs)), names=[\"df_idx\"])\n",
    "    merged_df = merged_df.reset_index(level=\"df_idx\").pivot_table(values=\"Share\",\n",
    "                                                                  index=\"Word\",\n",
    "                                                                  columns=\"df_idx\",\n",
    "                                                                  fill_value=0)\n",
    "\n",
    "    # Calculate the pairwise cosine similarity\n",
    "    similarities = cosine_similarity(merged_df.T)\n",
    "\n",
    "    return similarities"
   ]
  },
  {
   "cell_type": "code",
   "execution_count": 7,
   "metadata": {},
   "outputs": [],
   "source": [
    "# define a function to read JSON file and return data\n",
    "def read_json_file(filename):\n",
    "    with open(filename, 'r') as f:\n",
    "        data = json.load(f)\n",
    "    return data\n",
    "\n",
    "\n",
    "# initialize an empty DataFrame\n",
    "df = pd.DataFrame()\n",
    "\n",
    "# specify the directory where JSON files are stored\n",
    "dir_path = \"data/data_files/fang-covid/articles/\"\n",
    "temp_df = pd.DataFrame()\n",
    "source_arr = []\n",
    "date_arr = []\n",
    "article_arr = []\n",
    "label_arr = []\n",
    "# loop over all JSON files in the directory\n",
    "for filename in os.listdir(dir_path):\n",
    "    if filename.endswith('.json'):\n",
    "        full_filename = os.path.join(dir_path, filename)\n",
    "\n",
    "        f = open(full_filename)\n",
    "        single_fang = json.load(f)\n",
    "        f.close()\n",
    "\n",
    "        # append data to DataFrame\n",
    "        source_arr.append(single_fang['source'])\n",
    "        date_arr.append(single_fang['date'])\n",
    "        article_arr.append(single_fang['article'])\n",
    "        label_arr.append(single_fang['label'])\n",
    "\n",
    "df['Publisher'] = source_arr\n",
    "df['Date'] = date_arr\n",
    "df['Article'] = article_arr\n",
    "df['Veracity'] = label_arr\n",
    "df['word_count'] = np.array(df['Article'].apply(lambda x: len(str(x).split())))\n",
    "\n",
    "# keep only 'source', 'date', 'label' and 'article'\n",
    "# df = df[['source', 'date', 'label', 'article']]"
   ]
  },
  {
   "cell_type": "code",
   "execution_count": 8,
   "metadata": {},
   "outputs": [],
   "source": [
    "whole_dict = {\n",
    "    'protected': {\n",
    "        'df':\n",
    "        pd.read_csv(\n",
    "            f'data/data_files/pipeline_steps/protected_articles/1_all_articles_fetched.csv'),\n",
    "        'titles':\n",
    "        pd.read_csv(f'data/data_files/pipeline_steps/protected_articles/0_protected_titles.csv')\n",
    "    },\n",
    "    'excellent': {\n",
    "        'df':\n",
    "        pd.read_csv(\n",
    "            f'data/data_files/pipeline_steps/excellent_articles/1_all_articles_fetched.csv'),\n",
    "        'titles':\n",
    "        pd.read_csv(f'data/data_files/pipeline_steps/excellent_articles/0_excellent_titles.csv')\n",
    "    },\n",
    "    'readworthy': {\n",
    "        'df':\n",
    "        pd.read_csv(\n",
    "            f'data/data_files/pipeline_steps/readworthy_articles/1_all_articles_fetched.csv'),\n",
    "        'titles':\n",
    "        pd.read_csv(f'data/data_files/pipeline_steps/readworthy_articles/0_readworthy_titles.csv')\n",
    "    },\n",
    "}\n"
   ]
  },
  {
   "cell_type": "code",
   "execution_count": null,
   "metadata": {},
   "outputs": [],
   "source": [
    "for key, value in whole_dict.items():\n",
    "\n",
    "    whole_dict['word_count']=(parallel_count_words(value['df']['sub_texts']))"
   ]
  },
  {
   "cell_type": "code",
   "execution_count": 17,
   "metadata": {},
   "outputs": [],
   "source": [
    "a = parallel_count_words(whole_dict['protected']['df']['sub_texts'])\n"
   ]
  },
  {
   "cell_type": "code",
   "execution_count": 18,
   "metadata": {},
   "outputs": [
    {
     "data": {
      "text/html": [
       "<div>\n",
       "<style scoped>\n",
       "    .dataframe tbody tr th:only-of-type {\n",
       "        vertical-align: middle;\n",
       "    }\n",
       "\n",
       "    .dataframe tbody tr th {\n",
       "        vertical-align: top;\n",
       "    }\n",
       "\n",
       "    .dataframe thead th {\n",
       "        text-align: right;\n",
       "    }\n",
       "</style>\n",
       "<table border=\"1\" class=\"dataframe\">\n",
       "  <thead>\n",
       "    <tr style=\"text-align: right;\">\n",
       "      <th></th>\n",
       "      <th>Word</th>\n",
       "      <th>Share</th>\n",
       "    </tr>\n",
       "  </thead>\n",
       "  <tbody>\n",
       "    <tr>\n",
       "      <th>0</th>\n",
       "      <td>wurde</td>\n",
       "      <td>0.007979</td>\n",
       "    </tr>\n",
       "    <tr>\n",
       "      <th>1</th>\n",
       "      <td>wurden</td>\n",
       "      <td>0.003935</td>\n",
       "    </tr>\n",
       "    <tr>\n",
       "      <th>2</th>\n",
       "      <td>etwa</td>\n",
       "      <td>0.002305</td>\n",
       "    </tr>\n",
       "    <tr>\n",
       "      <th>3</th>\n",
       "      <td>jedoch</td>\n",
       "      <td>0.002203</td>\n",
       "    </tr>\n",
       "    <tr>\n",
       "      <th>4</th>\n",
       "      <td>ab</td>\n",
       "      <td>0.002019</td>\n",
       "    </tr>\n",
       "    <tr>\n",
       "      <th>...</th>\n",
       "      <td>...</td>\n",
       "      <td>...</td>\n",
       "    </tr>\n",
       "    <tr>\n",
       "      <th>95</th>\n",
       "      <td>beim</td>\n",
       "      <td>0.001269</td>\n",
       "    </tr>\n",
       "    <tr>\n",
       "      <th>96</th>\n",
       "      <td>dabei</td>\n",
       "      <td>0.001259</td>\n",
       "    </tr>\n",
       "    <tr>\n",
       "      <th>97</th>\n",
       "      <td>teil</td>\n",
       "      <td>0.001223</td>\n",
       "    </tr>\n",
       "    <tr>\n",
       "      <th>98</th>\n",
       "      <td>später</td>\n",
       "      <td>0.001166</td>\n",
       "    </tr>\n",
       "    <tr>\n",
       "      <th>99</th>\n",
       "      <td>drei</td>\n",
       "      <td>0.001164</td>\n",
       "    </tr>\n",
       "  </tbody>\n",
       "</table>\n",
       "<p>100 rows × 2 columns</p>\n",
       "</div>"
      ],
      "text/plain": [
       "      Word     Share\n",
       "0    wurde  0.007979\n",
       "1   wurden  0.003935\n",
       "2     etwa  0.002305\n",
       "3   jedoch  0.002203\n",
       "4       ab  0.002019\n",
       "..     ...       ...\n",
       "95    beim  0.001269\n",
       "96   dabei  0.001259\n",
       "97    teil  0.001223\n",
       "98  später  0.001166\n",
       "99    drei  0.001164\n",
       "\n",
       "[100 rows x 2 columns]"
      ]
     },
     "execution_count": 18,
     "metadata": {},
     "output_type": "execute_result"
    }
   ],
   "source": [
    "a"
   ]
  },
  {
   "cell_type": "code",
   "execution_count": 33,
   "metadata": {},
   "outputs": [],
   "source": [
    "def create_dataframe(list1, list2, list3, list4):\n",
    "    # Create DataFrame from each list\n",
    "\n",
    "    df2 = pd.DataFrame(list2, columns=['Protected', 'share2'])\n",
    "    df3 = pd.DataFrame(list3, columns=['Excellent', 'share3'])\n",
    "    df4 = pd.DataFrame(list4, columns=['Readworthy', 'share4'])\n",
    "    df1 = pd.DataFrame(list1, columns=['FANG', 'share1'])\n",
    "    # Concatenate all dataframes along the column axis\n",
    "    df = pd.concat([df1, df2, df3, df4], axis=1)\n",
    "\n",
    "    return df"
   ]
  },
  {
   "cell_type": "code",
   "execution_count": 38,
   "metadata": {},
   "outputs": [
    {
     "data": {
      "text/plain": [
       "100"
      ]
     },
     "execution_count": 38,
     "metadata": {},
     "output_type": "execute_result"
    }
   ],
   "source": [
    "a =parallel_count_words(whole_dict['protected']['df']['sub_texts'])\n",
    "len(a)"
   ]
  },
  {
   "cell_type": "code",
   "execution_count": 30,
   "metadata": {},
   "outputs": [
    {
     "name": "stdout",
     "output_type": "stream",
     "text": [
      "[('corona', 0.005965045719823745), ('mehr', 0.005105631250299725), ('menschen', 0.004305771326159278), ('sei', 0.0031084349979981197), ('schon', 0.0029360167823370585), ('zeit', 0.0025331871607537776), ('viele', 0.0025249342836781512), ('wurde', 0.0025017370075736877), ('immer', 0.0024129628163277596), ('gibt', 0.00240270248266617), ('pandemie', 0.002384858424124275), ('prozent', 0.0023786130036346116), ('sagte', 0.002337571668988253), ('sagt', 0.00228961576165691), ('deutschland', 0.0022684259421384095), ('seit', 0.002256158151890857), ('müssen', 0.0019171210395948505), ('virus', 0.0018221014278592595), ('zwei', 0.0017732533176008218), ('krise', 0.0017612085780850425), ('bereits', 0.001740910961493637), ('wurden', 0.001727974019050763), ('coronavirus', 0.0016847021770866675), ('etwa', 0.001681579466841836), ('geht', 0.0016739957419615304), ('corona', 0.005828480016559588), ('mehr', 0.005010625360694153), ('menschen', 0.004311342755348961), ('sei', 0.003101097860190728), ('schon', 0.002951251587616758), ('wurde', 0.0025332119863518397), ('viele', 0.0024947379433936582), ('immer', 0.002436014404141697), ('zeit', 0.002431064527269884), ('gibt', 0.002385390663407248), ('deutschland', 0.0023511915141110865), ('pandemie', 0.0023365668778989124), ('prozent', 0.0023295920513977213), ('sagte', 0.002284143181938349), ('sagt', 0.002277618344243687), ('seit', 0.0022290195531386157), ('müssen', 0.0018998527411630635), ('virus', 0.0017788057522069138), ('zwei', 0.001738981742829147), ('bereits', 0.0017207571961647453), ('etwa', 0.001703882615919929), ('krise', 0.0016953328285958886), ('coronavirus', 0.0016744083490923163), ('geht', 0.0016588837352670852), ('wurden', 0.001655508819218122), ('corona', 0.005798082767884329), ('mehr', 0.005061835737109906), ('menschen', 0.004302285575471916), ('sei', 0.0031747218188753162), ('schon', 0.002997530087969319), ('wurde', 0.0025378428555568626), ('zeit', 0.0025244325632674505), ('viele', 0.002511022270978039), ('gibt', 0.002456721579248782), ('sagte', 0.0024015415240907106), ('sagt', 0.0023850534598004506), ('pandemie', 0.002382415369514009), ('immer', 0.002372302690082649), ('prozent', 0.002340865447502553), ('seit', 0.0022553473540504027), ('deutschland', 0.0022080815697516566), ('müssen', 0.001898325801951967), ('krise', 0.0017738958767748027), ('virus', 0.0017367427719074161), ('bereits', 0.0017184959807595283), ('coronavirus', 0.0017035468024696923), ('zwei', 0.0017028872798980819), ('etwa', 0.0016870587381794318), ('geht', 0.0016426508850243308), ('wurden', 0.0016299001153065296), ('corona', 0.00582737231731906), ('mehr', 0.005089945489480481), ('menschen', 0.004228346365085346), ('sei', 0.003078354285264261), ('schon', 0.002978792714151346), ('viele', 0.00254944742209363), ('zeit', 0.0025241654950469796), ('wurde', 0.002509175325913125), ('immer', 0.0024469773107010117), ('gibt', 0.002382989424547543), ('pandemie', 0.002375382473046781), ('sagt', 0.0023339917075279287), ('prozent', 0.002311394586893312), ('sagte', 0.002284322788905306), ('seit', 0.002276268369669205), ('deutschland', 0.0022538949829022576), ('müssen', 0.0019030802783965262), ('bereits', 0.0017493751113075993), ('zwei', 0.0017059707409797216), ('virus', 0.0017055232732443827), ('krise', 0.0016988112572142986), ('coronavirus', 0.0016822549510067577), ('etwa', 0.001659210362636802), ('jahr', 0.0016556306207540904), ('geht', 0.001654959419151082)]\n"
     ]
    }
   ],
   "source": [
    "parallel_count_words(df['Article'])\n",
    "print(parallel_count_words(df['Article']))"
   ]
  },
  {
   "cell_type": "code",
   "execution_count": 34,
   "metadata": {},
   "outputs": [],
   "source": [
    "result_df = create_dataframe(\n",
    "    parallel_count_words(whole_dict['protected']['df']['sub_texts']), \n",
    "    parallel_count_words(whole_dict['excellent']['df']['sub_texts']),\n",
    "    parallel_count_words(whole_dict['readworthy']['df']['sub_texts']),\n",
    "    parallel_count_words(df['Article'])\n",
    "    )\n"
   ]
  },
  {
   "cell_type": "code",
   "execution_count": null,
   "metadata": {},
   "outputs": [],
   "source": [
    "parallel_count_words(whole_dict['protected']['df']['sub_texts']), \n",
    "parallel_count_words(whole_dict['excellent']['df']['sub_texts']),\n",
    "parallel_count_words(whole_dict['readworthy']['df']['sub_texts']),\n",
    "parallel_count_words(df['Article'])"
   ]
  },
  {
   "cell_type": "code",
   "execution_count": 36,
   "metadata": {},
   "outputs": [
    {
     "ename": "PyperclipException",
     "evalue": "\n    Pyperclip could not find a copy/paste mechanism for your system.\n    For more information, please visit\n    https://pyperclip.readthedocs.io/en/latest/#not-implemented-error\n    ",
     "output_type": "error",
     "traceback": [
      "\u001b[0;31m---------------------------------------------------------------------------\u001b[0m",
      "\u001b[0;31mPyperclipException\u001b[0m                        Traceback (most recent call last)",
      "Cell \u001b[0;32mIn[36], line 1\u001b[0m\n\u001b[0;32m----> 1\u001b[0m result_df\u001b[39m.\u001b[39;49mto_clipboard()\n",
      "File \u001b[0;32m~/miniconda3/envs/jannis-env9/lib/python3.9/site-packages/pandas/core/generic.py:3034\u001b[0m, in \u001b[0;36mNDFrame.to_clipboard\u001b[0;34m(self, excel, sep, **kwargs)\u001b[0m\n\u001b[1;32m   2967\u001b[0m \u001b[39m\u001b[39m\u001b[39mr\u001b[39m\u001b[39m\"\"\"\u001b[39;00m\n\u001b[1;32m   2968\u001b[0m \u001b[39mCopy object to the system clipboard.\u001b[39;00m\n\u001b[1;32m   2969\u001b[0m \n\u001b[0;32m   (...)\u001b[0m\n\u001b[1;32m   3030\u001b[0m \u001b[39m   pyperclip.copy(html)\u001b[39;00m\n\u001b[1;32m   3031\u001b[0m \u001b[39m\"\"\"\u001b[39;00m\n\u001b[1;32m   3032\u001b[0m \u001b[39mfrom\u001b[39;00m \u001b[39mpandas\u001b[39;00m\u001b[39m.\u001b[39;00m\u001b[39mio\u001b[39;00m \u001b[39mimport\u001b[39;00m clipboards\n\u001b[0;32m-> 3034\u001b[0m clipboards\u001b[39m.\u001b[39;49mto_clipboard(\u001b[39mself\u001b[39;49m, excel\u001b[39m=\u001b[39;49mexcel, sep\u001b[39m=\u001b[39;49msep, \u001b[39m*\u001b[39;49m\u001b[39m*\u001b[39;49mkwargs)\n",
      "File \u001b[0;32m~/miniconda3/envs/jannis-env9/lib/python3.9/site-packages/pandas/io/clipboards.py:159\u001b[0m, in \u001b[0;36mto_clipboard\u001b[0;34m(obj, excel, sep, **kwargs)\u001b[0m\n\u001b[1;32m    156\u001b[0m     obj\u001b[39m.\u001b[39mto_csv(buf, sep\u001b[39m=\u001b[39msep, encoding\u001b[39m=\u001b[39m\u001b[39m\"\u001b[39m\u001b[39mutf-8\u001b[39m\u001b[39m\"\u001b[39m, \u001b[39m*\u001b[39m\u001b[39m*\u001b[39mkwargs)\n\u001b[1;32m    157\u001b[0m     text \u001b[39m=\u001b[39m buf\u001b[39m.\u001b[39mgetvalue()\n\u001b[0;32m--> 159\u001b[0m     clipboard_set(text)\n\u001b[1;32m    160\u001b[0m     \u001b[39mreturn\u001b[39;00m\n\u001b[1;32m    161\u001b[0m \u001b[39mexcept\u001b[39;00m \u001b[39mTypeError\u001b[39;00m:\n",
      "File \u001b[0;32m~/miniconda3/envs/jannis-env9/lib/python3.9/site-packages/pandas/io/clipboard/__init__.py:639\u001b[0m, in \u001b[0;36mlazy_load_stub_copy\u001b[0;34m(text)\u001b[0m\n\u001b[1;32m    637\u001b[0m \u001b[39mglobal\u001b[39;00m copy, paste\n\u001b[1;32m    638\u001b[0m copy, paste \u001b[39m=\u001b[39m determine_clipboard()\n\u001b[0;32m--> 639\u001b[0m \u001b[39mreturn\u001b[39;00m copy(text)\n",
      "File \u001b[0;32m~/miniconda3/envs/jannis-env9/lib/python3.9/site-packages/pandas/io/clipboard/__init__.py:299\u001b[0m, in \u001b[0;36minit_no_clipboard.<locals>.ClipboardUnavailable.__call__\u001b[0;34m(self, *args, **kwargs)\u001b[0m\n\u001b[1;32m    298\u001b[0m \u001b[39mdef\u001b[39;00m \u001b[39m__call__\u001b[39m(\u001b[39mself\u001b[39m, \u001b[39m*\u001b[39margs, \u001b[39m*\u001b[39m\u001b[39m*\u001b[39mkwargs):\n\u001b[0;32m--> 299\u001b[0m     \u001b[39mraise\u001b[39;00m PyperclipException(EXCEPT_MSG)\n",
      "\u001b[0;31mPyperclipException\u001b[0m: \n    Pyperclip could not find a copy/paste mechanism for your system.\n    For more information, please visit\n    https://pyperclip.readthedocs.io/en/latest/#not-implemented-error\n    "
     ]
    }
   ],
   "source": [
    "result_df.to_clipboard()"
   ]
  },
  {
   "cell_type": "code",
   "execution_count": 42,
   "metadata": {},
   "outputs": [
    {
     "data": {
      "text/html": [
       "<div>\n",
       "<style scoped>\n",
       "    .dataframe tbody tr th:only-of-type {\n",
       "        vertical-align: middle;\n",
       "    }\n",
       "\n",
       "    .dataframe tbody tr th {\n",
       "        vertical-align: top;\n",
       "    }\n",
       "\n",
       "    .dataframe thead th {\n",
       "        text-align: right;\n",
       "    }\n",
       "</style>\n",
       "<table border=\"1\" class=\"dataframe\">\n",
       "  <thead>\n",
       "    <tr style=\"text-align: right;\">\n",
       "      <th></th>\n",
       "      <th>FANG</th>\n",
       "      <th>share1</th>\n",
       "      <th>Protected</th>\n",
       "      <th>share2</th>\n",
       "      <th>Excellent</th>\n",
       "      <th>share3</th>\n",
       "      <th>Readworthy</th>\n",
       "      <th>share4</th>\n",
       "    </tr>\n",
       "  </thead>\n",
       "  <tbody>\n",
       "    <tr>\n",
       "      <th>0</th>\n",
       "      <td>wurde</td>\n",
       "      <td>0.007979</td>\n",
       "      <td>wurde</td>\n",
       "      <td>0.010972</td>\n",
       "      <td>wurde</td>\n",
       "      <td>0.012012</td>\n",
       "      <td>corona</td>\n",
       "      <td>0.005965</td>\n",
       "    </tr>\n",
       "    <tr>\n",
       "      <th>1</th>\n",
       "      <td>wurden</td>\n",
       "      <td>0.003935</td>\n",
       "      <td>wurden</td>\n",
       "      <td>0.004761</td>\n",
       "      <td>wurden</td>\n",
       "      <td>0.005361</td>\n",
       "      <td>mehr</td>\n",
       "      <td>0.005106</td>\n",
       "    </tr>\n",
       "    <tr>\n",
       "      <th>2</th>\n",
       "      <td>etwa</td>\n",
       "      <td>0.002305</td>\n",
       "      <td>stadt</td>\n",
       "      <td>0.003405</td>\n",
       "      <td>stadt</td>\n",
       "      <td>0.004264</td>\n",
       "      <td>menschen</td>\n",
       "      <td>0.004306</td>\n",
       "    </tr>\n",
       "    <tr>\n",
       "      <th>3</th>\n",
       "      <td>jedoch</td>\n",
       "      <td>0.002203</td>\n",
       "      <td>jahr</td>\n",
       "      <td>0.002599</td>\n",
       "      <td>seit</td>\n",
       "      <td>0.002726</td>\n",
       "      <td>sei</td>\n",
       "      <td>0.003108</td>\n",
       "    </tr>\n",
       "    <tr>\n",
       "      <th>4</th>\n",
       "      <td>ab</td>\n",
       "      <td>0.002019</td>\n",
       "      <td>seit</td>\n",
       "      <td>0.002446</td>\n",
       "      <td>jahr</td>\n",
       "      <td>0.002693</td>\n",
       "      <td>schon</td>\n",
       "      <td>0.002936</td>\n",
       "    </tr>\n",
       "    <tr>\n",
       "      <th>5</th>\n",
       "      <td>seit</td>\n",
       "      <td>0.001972</td>\n",
       "      <td>zeit</td>\n",
       "      <td>0.002310</td>\n",
       "      <td>sowie</td>\n",
       "      <td>0.002427</td>\n",
       "      <td>zeit</td>\n",
       "      <td>0.002533</td>\n",
       "    </tr>\n",
       "    <tr>\n",
       "      <th>6</th>\n",
       "      <td>sowie</td>\n",
       "      <td>0.001945</td>\n",
       "      <td>jedoch</td>\n",
       "      <td>0.002168</td>\n",
       "      <td>etwa</td>\n",
       "      <td>0.002340</td>\n",
       "      <td>viele</td>\n",
       "      <td>0.002525</td>\n",
       "    </tr>\n",
       "    <tr>\n",
       "      <th>7</th>\n",
       "      <td>mehr</td>\n",
       "      <td>0.001797</td>\n",
       "      <td>sowie</td>\n",
       "      <td>0.002156</td>\n",
       "      <td>ab</td>\n",
       "      <td>0.002305</td>\n",
       "      <td>wurde</td>\n",
       "      <td>0.002502</td>\n",
       "    </tr>\n",
       "    <tr>\n",
       "      <th>8</th>\n",
       "      <td>menschen</td>\n",
       "      <td>0.001795</td>\n",
       "      <td>jahre</td>\n",
       "      <td>0.002155</td>\n",
       "      <td>zeit</td>\n",
       "      <td>0.002194</td>\n",
       "      <td>immer</td>\n",
       "      <td>0.002413</td>\n",
       "    </tr>\n",
       "    <tr>\n",
       "      <th>9</th>\n",
       "      <td>zeit</td>\n",
       "      <td>0.001793</td>\n",
       "      <td>etwa</td>\n",
       "      <td>0.002153</td>\n",
       "      <td>jahre</td>\n",
       "      <td>0.002145</td>\n",
       "      <td>gibt</td>\n",
       "      <td>0.002403</td>\n",
       "    </tr>\n",
       "  </tbody>\n",
       "</table>\n",
       "</div>"
      ],
      "text/plain": [
       "       FANG    share1 Protected    share2 Excellent    share3 Readworthy   \n",
       "0     wurde  0.007979     wurde  0.010972     wurde  0.012012     corona  \\\n",
       "1    wurden  0.003935    wurden  0.004761    wurden  0.005361       mehr   \n",
       "2      etwa  0.002305     stadt  0.003405     stadt  0.004264   menschen   \n",
       "3    jedoch  0.002203      jahr  0.002599      seit  0.002726        sei   \n",
       "4        ab  0.002019      seit  0.002446      jahr  0.002693      schon   \n",
       "5      seit  0.001972      zeit  0.002310     sowie  0.002427       zeit   \n",
       "6     sowie  0.001945    jedoch  0.002168      etwa  0.002340      viele   \n",
       "7      mehr  0.001797     sowie  0.002156        ab  0.002305      wurde   \n",
       "8  menschen  0.001795     jahre  0.002155      zeit  0.002194      immer   \n",
       "9      zeit  0.001793      etwa  0.002153     jahre  0.002145       gibt   \n",
       "\n",
       "     share4  \n",
       "0  0.005965  \n",
       "1  0.005106  \n",
       "2  0.004306  \n",
       "3  0.003108  \n",
       "4  0.002936  \n",
       "5  0.002533  \n",
       "6  0.002525  \n",
       "7  0.002502  \n",
       "8  0.002413  \n",
       "9  0.002403  "
      ]
     },
     "execution_count": 42,
     "metadata": {},
     "output_type": "execute_result"
    }
   ],
   "source": [
    "result_df.head(10)"
   ]
  },
  {
   "cell_type": "code",
   "execution_count": 20,
   "metadata": {},
   "outputs": [],
   "source": [
    "b = calculate_cosine_similarity(parallel_count_words(whole_dict['protected']['df']['sub_texts']), \n",
    "parallel_count_words(whole_dict['excellent']['df']['sub_texts']),\n",
    "parallel_count_words(whole_dict['readworthy']['df']['sub_texts']),\n",
    "parallel_count_words(df['Article']))"
   ]
  },
  {
   "cell_type": "code",
   "execution_count": 22,
   "metadata": {},
   "outputs": [
    {
     "data": {
      "image/png": "[encoded data removed]",
      "text/plain": [
       "<Figure size 800x600 with 2 Axes>"
      ]
     },
     "metadata": {},
     "output_type": "display_data"
    }
   ],
   "source": [
    "plot_similarity_heatmap(b,['Protected','Excellent','Readworthy','FANG'])"
   ]
  }
 ],
 "metadata": {
  "kernelspec": {
   "display_name": "jannis-env9",
   "language": "python",
   "name": "python3"
  },
  "language_info": {
   "codemirror_mode": {
    "name": "ipython",
    "version": 3
   },
   "file_extension": ".py",
   "mimetype": "text/x-python",
   "name": "python",
   "nbconvert_exporter": "python",
   "pygments_lexer": "ipython3",
   "version": "3.9.16"
  },
  "orig_nbformat": 4
 },
 "nbformat": 4,
 "nbformat_minor": 2
}
