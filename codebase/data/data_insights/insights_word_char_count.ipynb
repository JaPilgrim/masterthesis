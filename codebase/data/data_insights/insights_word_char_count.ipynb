{
 "cells": [
  {
   "cell_type": "code",
   "execution_count": 2,
   "metadata": {},
   "outputs": [],
   "source": [
    "import seaborn as sns\n",
    "import pandas as pd\n",
    "import os\n",
    "import numpy as np\n",
    "import matplotlib.pyplot as plt\n",
    "from scipy import stats\n",
    "import statistics\n",
    "import requests\n",
    "import concurrent.futures\n",
    "from collections import Counter\n"
   ]
  },
  {
   "cell_type": "code",
   "execution_count": null,
   "metadata": {},
   "outputs": [],
   "source": [
    "def exploratory_stats(arrays, array_names):\n",
    "    stats_list = []\n",
    "    for idx, array in enumerate(list(arrays)):\n",
    "        array_name = array_names[idx]\n",
    "        np_array = np.array(array, dtype=float)  # Ensure the array has a float dtype to handle NaNs\n",
    "\n",
    "        mean = np.nanmean(np_array).round(2)\n",
    "        median = np.nanmedian(np_array).round(2)\n",
    "        min_value = np.nanmin(np_array).round(2)\n",
    "        max_value = np.nanmax(np_array).round(2)\n",
    "        std_dev = np.nanstd(np_array).round(2)\n",
    "        q25 = np.nanpercentile(np_array, 25).round(2)\n",
    "        q75 = np.nanpercentile(np_array, 75).round(2)\n",
    "\n",
    "        stats_list.append([array_name, q25,mean,  q75, std_dev,  min_value,median, max_value])\n",
    "\n",
    "    stats_df = pd.DataFrame(stats_list, columns=['Article Category','1st Quantile', 'Mean',  '3rd Quantile', 'Standard Deviation',  'Min','Median', 'Max'])\n",
    "    \n",
    "    return stats_df"
   ]
  },
  {
   "cell_type": "code",
   "execution_count": 4,
   "metadata": {},
   "outputs": [],
   "source": [
    "whole_dict = {\n",
    "    'protected': {\n",
    "        'df':\n",
    "        pd.read_csv(\n",
    "            f'data/data_files/pipeline_steps/protected_articles/1_all_articles_fetched.csv'),\n",
    "        'titles':\n",
    "        pd.read_csv(f'data/data_files/pipeline_steps/protected_articles/0_protected_titles.csv')\n",
    "    },\n",
    "    'excellent': {\n",
    "        'df':\n",
    "        pd.read_csv(\n",
    "            f'data/data_files/pipeline_steps/excellent_articles/1_all_articles_fetched.csv'),\n",
    "        'titles':\n",
    "        pd.read_csv(f'data/data_files/pipeline_steps/excellent_articles/0_excellent_titles.csv')\n",
    "    },\n",
    "    'readworthy': {\n",
    "        'df':\n",
    "        pd.read_csv(\n",
    "            f'data/data_files/pipeline_steps/readworthy_articles/1_all_articles_fetched.csv'),\n",
    "        'titles':\n",
    "        pd.read_csv(f'data/data_files/pipeline_steps/readworthy_articles/0_readworthy_titles.csv')\n",
    "    },\n",
    "    'random': {\n",
    "        'df':\n",
    "        pd.read_csv(f'data/data_files/pipeline_steps/random_articles/1_all_articles_fetched.csv'),\n",
    "        'titles':\n",
    "        pd.read_csv(f'data/data_files/pipeline_steps/random_articles/0_random_titles.csv')\n",
    "    },\n",
    "}\n"
   ]
  },
  {
   "cell_type": "code",
   "execution_count": 5,
   "metadata": {},
   "outputs": [],
   "source": [
    "def print_common_items(list1, list2):\n",
    "    # Convert the lists to sets\n",
    "    set1 = set(list1)\n",
    "    set2 = set(list2)\n",
    "\n",
    "    # Find the intersection\n",
    "    common_items = set1 & set2\n",
    "    \n",
    "    common_count = []\n",
    "    # Print the common items\n",
    "    for item in common_items:\n",
    "        common_count.append(item)\n",
    "    return common_count"
   ]
  },
  {
   "cell_type": "code",
   "execution_count": 6,
   "metadata": {},
   "outputs": [
    {
     "name": "stdout",
     "output_type": "stream",
     "text": [
      "['Blackpool Tower', 'Höllengebirge', 'Choanozoa']\n"
     ]
    }
   ],
   "source": [
    "a = print_common_items(whole_dict['excellent']['titles']['title'],\n",
    "                   whole_dict['readworthy']['titles']['title'])\n",
    "print((a))"
   ]
  },
  {
   "attachments": {},
   "cell_type": "markdown",
   "metadata": {},
   "source": [
    "## Plotting on article level"
   ]
  },
  {
   "cell_type": "code",
   "execution_count": 7,
   "metadata": {},
   "outputs": [
    {
     "data": {
      "text/plain": [
       "707478"
      ]
     },
     "execution_count": 7,
     "metadata": {},
     "output_type": "execute_result"
    }
   ],
   "source": [
    "randoms = pd.read_csv(\n",
    "    f'data/data_files/pipeline_steps/random_articles/5.1_sentences_exploded.csv')\n",
    "len(randoms)\n"
   ]
  },
  {
   "cell_type": "code",
   "execution_count": 8,
   "metadata": {},
   "outputs": [],
   "source": [
    "excellent_art = pd.read_csv(f'data/data_files/pipeline_steps/excellent_articles/1_all_articles_fetched.csv')\n",
    "readworthy_art = pd.read_csv(f'data/data_files/pipeline_steps/readworthy_articles/1_all_articles_fetched.csv')\n",
    "protected_art = pd.read_csv(f'data/data_files/pipeline_steps/protected_articles/1_all_articles_fetched.csv')\n",
    "random_art = pd.read_csv(\n",
    "    f'data/data_files/pipeline_steps/random_articles/1_all_articles_fetched.csv')\n",
    "\n",
    "\n",
    "\n",
    "max_len = max(len(excellent_art),len(readworthy_art),len(protected_art),len(random_art))\n",
    "new_index = np.arange(max_len)\n",
    "\n",
    "# excellent_art = excellent_art.reindex(new_index)\n",
    "# protected_art = protected_art.reindex(new_index)\n",
    "\n",
    "name_list = []\n",
    "category_name_list = []\n",
    "\n",
    "for key,value in whole_dict.items():\n",
    "    name_list.append(key+' Articles')\n",
    "    category_name_list.append(key)\n",
    "\n",
    "char_count_article_df = pd.DataFrame()\n"
   ]
  },
  {
   "attachments": {},
   "cell_type": "markdown",
   "metadata": {},
   "source": [
    "### Word Count"
   ]
  },
  {
   "cell_type": "code",
   "execution_count": 17,
   "metadata": {},
   "outputs": [
    {
     "name": "stdout",
     "output_type": "stream",
     "text": [
      "protected\n",
      "      Unnamed: 0                          title   bytes   \n",
      "0              0                     Rudolf Heß   86509  \\\n",
      "1              1                           Popo     805   \n",
      "2              2                         Kanake     309   \n",
      "3              3                          Bitch    5369   \n",
      "4              4                        Fisting    7432   \n",
      "...          ...                            ...     ...   \n",
      "2840        2840  Marie-Agnes Strack-Zimmermann   28388   \n",
      "2841        2841                     Mike Tyson   83016   \n",
      "2842        2842                       Toilette   51005   \n",
      "2843        2843                    Braunwasser    1238   \n",
      "2844        2844                   Zirkumzision  223530   \n",
      "\n",
      "                                              sub_texts  \n",
      "0     Rudolf Walter Richard Heß [] (* 26 April== 189...  \n",
      "1                              Popo ist \\nSiehe auch:\\n  \n",
      "2                    Kanake steht für:\\n\\nSiehe auch:\\n  \n",
      "3     Bitch  ist ein Begriff aus dem Englischen, der...  \n",
      "4     Faustverkehr (engl== Fisting, von fist „Faust“...  \n",
      "...                                                 ...  \n",
      "2840  Marie-Agnes Strack-Zimmermann (* 10 März== 195...  \n",
      "2841  Michael Gerard „Mike“ Tyson (* 30 Juni== 1966=...  \n",
      "2842  Die Toilette [] oder [] (von   ), auch Klosett...  \n",
      "2843  Braunwasser bezeichnet in der Siedlungswasserw...  \n",
      "2844  Zirkumzision (von     /   :   ), auch männlich...  \n",
      "\n",
      "[2845 rows x 4 columns]\n",
      "excellent\n",
      "      Unnamed: 0                             title  bytes   \n",
      "0              0                            Almsee      0  \\\n",
      "1              1                    Altausseer See      0   \n",
      "2              2                             Amper      0   \n",
      "3              3                      Bäke (Telte)      0   \n",
      "4              4                     Blabbergraben      0   \n",
      "...          ...                               ...    ...   \n",
      "2773        2773                          Wahnsinn      0   \n",
      "2774        2774  Psychopathographie Adolf Hitlers      0   \n",
      "2775        2775                   Buchstabentafel      0   \n",
      "2776        2776        Schulprogramm (historisch)      0   \n",
      "2777        2777    Marshallsche Nachfragefunktion      0   \n",
      "\n",
      "                                              sub_texts  \n",
      "0     Der Almsee ist ein Bergsee im oberösterreichis...  \n",
      "1     Der Altausseer See (auch Altausseersee) ist ei...  \n",
      "2     Die Amper südlich von Fürstenfeldbruck\\nDie Am...  \n",
      "3     Bäke und Bäkemühle in Kleinmachnow==\\n\\nDie Bä...  \n",
      "4     Der Bach im Bereich der ehemaligen Blabbermühl...  \n",
      "...                                                 ...  \n",
      "2773  Als Wahnsinn wurden bis etwa zum Ende des 19. ...  \n",
      "2774  Die Psychopathographie Adolf Hitlers vereint d...  \n",
      "2775  Buchstabentafeln oder ABC-Täfelchen, auf denen...  \n",
      "2776  Ein Schulprogramm war im 19. und frühen 20. Ja...  \n",
      "2777  Als marshallsche Nachfragefunktion (auch walra...  \n",
      "\n",
      "[2778 rows x 4 columns]\n",
      "readworthy\n",
      "      Unnamed: 0                title  bytes   \n",
      "0              0                  NaN      0  \\\n",
      "1              1                  NaN      0   \n",
      "2              2                  NaN      0   \n",
      "3              3        Aggertalhöhle      0   \n",
      "4              4  Arches-Nationalpark      0   \n",
      "...          ...                  ...    ...   \n",
      "4319        4319        Gino Luzzatto      0   \n",
      "4320        4320       Friedrich List      0   \n",
      "4321        4321    Alfred von Martin      0   \n",
      "4322        4322     John Stuart Mill      0   \n",
      "4323        4323    Friedrich Pollock      0   \n",
      "\n",
      "                                              sub_texts  \n",
      "0                                                   NaN  \n",
      "1                                                   NaN  \n",
      "2                                                   NaN  \n",
      "3     \\nDie Aggertalhöhle ist eine Schauhöhle== im O...  \n",
      "4     Der Arches-Nationalpark ist ein Nationalpark d...  \n",
      "...                                                 ...  \n",
      "4319  Gino Luzzatto (* 9 Januar== 1878== in Padua==;...  \n",
      "4320  Daniel Friedrich List (* spätestens 6 August==...  \n",
      "4321  Alfred von Martin (* 24 Juli== 1882== in Berli...  \n",
      "4322  John Stuart Mill (* 20 Mai== 1806== in Pentonv...  \n",
      "4323  Friedrich Pollock (eigentlich Frederick Polloc...  \n",
      "\n",
      "[4324 rows x 4 columns]\n",
      "random\n",
      "       Unnamed: 0                             title  bytes   \n",
      "0               0                     Schottenloher      0  \\\n",
      "1               1               Wilhelm J. Krefting      0   \n",
      "2               2  Fußball-Oberliga Hamburg 2010/11      0   \n",
      "3               3                     Gros Cabernet      0   \n",
      "4               4                         Marc Augé      0   \n",
      "...           ...                               ...    ...   \n",
      "49995       49995       Gerhard Schmidt (Politiker)      0   \n",
      "49996       49996                      Grave Ritual      0   \n",
      "49997       49997                   Kanton Lannilis      0   \n",
      "49998       49998                         Berghabit      0   \n",
      "49999       49999                 Moritz von Gagern      0   \n",
      "\n",
      "                                               sub_texts  \n",
      "0      Schottenloher ist der Familienname folgender P...  \n",
      "1      Wilhelm J. Krefting (Pseudonym==) (* 13 Juli==...  \n",
      "2      Die Saison 2010/11 der Oberliga Hamburg war di...  \n",
      "3      Gros Cabernet ist eine Rotweinsorte==. Zur Abg...  \n",
      "4      Marc Augé (* 2 September== 1935== in Poitiers=...  \n",
      "...                                                  ...  \n",
      "49995  Gerhard Schmidt (* 19 April== 1935== in Erdman...  \n",
      "49996  Grave Ritual ist eine US-amerikanische== Death...  \n",
      "49997  Der Kanton Lannilis war bis 2015 ein französis...  \n",
      "49998  Das Berghabit oder Bergmannshabit ist die trad...  \n",
      "49999  Moritz Carl Christian Philipp Freiherr von Gag...  \n",
      "\n",
      "[50000 rows x 4 columns]\n"
     ]
    }
   ],
   "source": [
    "for key,value in whole_dict.items():\n",
    "    whole_dict[key]['word_count'] = np.array(value['df']['sub_texts'].apply(lambda x: len(str(x).split())))\n",
    "    whole_dict[key]['word_count'] = np.concatenate([\n",
    "        whole_dict[key]['word_count'],\n",
    "        np.array([np.nan] * (max_len - len(whole_dict[key]['word_count'])))\n",
    "    ])\n",
    "    print(key)\n",
    "    print(whole_dict[key]['df'])\n"
   ]
  },
  {
   "cell_type": "code",
   "execution_count": 10,
   "metadata": {},
   "outputs": [],
   "source": [
    "word_count_article_protected = np.array(protected_art['sub_texts'].apply(lambda x: len(str(x).split())))\n",
    "word_count_article_excellent = np.array(excellent_art['sub_texts'].apply(lambda x: len(str(x).split())))\n",
    "word_count_article_readworthy = np.array(readworthy_art['sub_texts'].apply(\n",
    "    lambda x: len(str(x).split())))\n",
    "word_count_article_protected = np.concatenate([word_count_article_protected , np.array([np.nan] * (\n",
    "    max_len - len(word_count_article_protected)))])\n",
    "word_count_article_excellent = np.concatenate([word_count_article_excellent , np.array([np.nan] * (\n",
    "    max_len - len(word_count_article_excellent)))])\n",
    "word_count_article_readworthy = np.concatenate([word_count_article_readworthy , np.array([np.nan] * (\n",
    "    max_len - len(word_count_article_readworthy)))])\n",
    "\n",
    "word_count_article_random = np.array(random_art['sub_texts'].apply(\n",
    "    lambda x: len(str(x).split())))\n",
    "word_count_article_random = np.concatenate([word_count_article_random, np.array([np.nan] * (\n",
    "    max_len - len(word_count_article_random)))])\n",
    "\n",
    "\n",
    "\n",
    " \n",
    "\n"
   ]
  },
  {
   "cell_type": "code",
   "execution_count": 18,
   "metadata": {},
   "outputs": [],
   "source": [
    "word_count_list = [\n",
    "    word_count_article_protected, \n",
    "    word_count_article_excellent, \n",
    "    word_count_article_readworthy,\n",
    "    word_count_article_random\n",
    "]\n"
   ]
  },
  {
   "cell_type": "code",
   "execution_count": 22,
   "metadata": {},
   "outputs": [
    {
     "data": {
      "text/html": [
       "<div>\n",
       "<style scoped>\n",
       "    .dataframe tbody tr th:only-of-type {\n",
       "        vertical-align: middle;\n",
       "    }\n",
       "\n",
       "    .dataframe tbody tr th {\n",
       "        vertical-align: top;\n",
       "    }\n",
       "\n",
       "    .dataframe thead th {\n",
       "        text-align: right;\n",
       "    }\n",
       "</style>\n",
       "<table border=\"1\" class=\"dataframe\">\n",
       "  <thead>\n",
       "    <tr style=\"text-align: right;\">\n",
       "      <th></th>\n",
       "      <th>Article Category</th>\n",
       "      <th>1st Quantile</th>\n",
       "      <th>Mean</th>\n",
       "      <th>3rd Quantile</th>\n",
       "      <th>Standard Deviation</th>\n",
       "      <th>Min</th>\n",
       "      <th>Median</th>\n",
       "      <th>Max</th>\n",
       "    </tr>\n",
       "  </thead>\n",
       "  <tbody>\n",
       "    <tr>\n",
       "      <th>0</th>\n",
       "      <td>protected</td>\n",
       "      <td>318.00</td>\n",
       "      <td>2419.74</td>\n",
       "      <td>2997.00</td>\n",
       "      <td>3524.99</td>\n",
       "      <td>1.0</td>\n",
       "      <td>1058.0</td>\n",
       "      <td>33027.0</td>\n",
       "    </tr>\n",
       "    <tr>\n",
       "      <th>1</th>\n",
       "      <td>excellent</td>\n",
       "      <td>2455.50</td>\n",
       "      <td>4946.90</td>\n",
       "      <td>6567.00</td>\n",
       "      <td>3765.82</td>\n",
       "      <td>1.0</td>\n",
       "      <td>4136.0</td>\n",
       "      <td>48436.0</td>\n",
       "    </tr>\n",
       "    <tr>\n",
       "      <th>2</th>\n",
       "      <td>readworthy</td>\n",
       "      <td>1657.75</td>\n",
       "      <td>3480.13</td>\n",
       "      <td>4405.25</td>\n",
       "      <td>2987.06</td>\n",
       "      <td>1.0</td>\n",
       "      <td>2683.5</td>\n",
       "      <td>33027.0</td>\n",
       "    </tr>\n",
       "    <tr>\n",
       "      <th>3</th>\n",
       "      <td>random</td>\n",
       "      <td>88.00</td>\n",
       "      <td>343.46</td>\n",
       "      <td>396.00</td>\n",
       "      <td>591.05</td>\n",
       "      <td>0.0</td>\n",
       "      <td>206.0</td>\n",
       "      <td>20107.0</td>\n",
       "    </tr>\n",
       "  </tbody>\n",
       "</table>\n",
       "</div>"
      ],
      "text/plain": [
       "  Article Category  1st Quantile     Mean  3rd Quantile  Standard Deviation   \n",
       "0        protected        318.00  2419.74       2997.00             3524.99  \\\n",
       "1        excellent       2455.50  4946.90       6567.00             3765.82   \n",
       "2       readworthy       1657.75  3480.13       4405.25             2987.06   \n",
       "3           random         88.00   343.46        396.00              591.05   \n",
       "\n",
       "   Min  Median      Max  \n",
       "0  1.0  1058.0  33027.0  \n",
       "1  1.0  4136.0  48436.0  \n",
       "2  1.0  2683.5  33027.0  \n",
       "3  0.0   206.0  20107.0  "
      ]
     },
     "metadata": {},
     "output_type": "display_data"
    }
   ],
   "source": [
    "# for key,value in whole_dict.items():\n",
    "#     print(whole_dict[key]['word_count'])\n",
    "ab = exploratory_stats([\n",
    "    word_count_article_protected, word_count_article_excellent, word_count_article_readworthy,\n",
    "    word_count_article_random\n",
    "], category_name_list)\n",
    "display(ab)"
   ]
  },
  {
   "cell_type": "code",
   "execution_count": null,
   "metadata": {},
   "outputs": [
    {
     "data": {
      "image/png": "[encoded data removed]",
      "text/plain": [
       "<Figure size 640x480 with 1 Axes>"
      ]
     },
     "metadata": {},
     "output_type": "display_data"
    }
   ],
   "source": [
    "ax = sns.violinplot(data=[\n",
    "    word_count_list\n",
    "],\n",
    "                    inner='quartile')\n",
    "\n",
    "# Set plot title and labels\n",
    "plt.title('Word Count Distribution by Article Category')\n",
    "plt.xlabel('Article Category')\n",
    "plt.ylabel('Word Count')\n",
    "plt.xticks([0, 1, 2,3], category_name_list)\n",
    "ax.set_ylim(-1, 51000)\n",
    "# Show the plot\n",
    "plt.show()"
   ]
  },
  {
   "cell_type": "code",
   "execution_count": 23,
   "metadata": {},
   "outputs": [
    {
     "data": {
      "image/png": "[encoded data removed]",
      "text/plain": [
       "<Figure size 640x480 with 1 Axes>"
      ]
     },
     "metadata": {},
     "output_type": "display_data"
    }
   ],
   "source": [
    "ax = sns.boxplot(data=[\n",
    "    word_count_article_protected, word_count_article_excellent, word_count_article_readworthy,\n",
    "    word_count_article_random\n",
    "],\n",
    "                 showfliers=False)\n",
    "\n",
    "# Set plot title and labels\n",
    "plt.title('Word Count Distribution by Article Category')\n",
    "plt.xlabel('Article Category')\n",
    "plt.ylabel('Word Count')\n",
    "plt.xticks([0, 1, 2,3], ['Protected ', 'Excellent ', 'Readworthy ', 'Random '])\n",
    "ax.set_ylim(-1,6700)\n",
    "# Show the plot\n",
    "plt.show()"
   ]
  },
  {
   "attachments": {},
   "cell_type": "markdown",
   "metadata": {},
   "source": [
    "### Character count"
   ]
  },
  {
   "cell_type": "code",
   "execution_count": 24,
   "metadata": {},
   "outputs": [],
   "source": [
    "char_count_article_protected = protected_art['sub_texts'].apply(lambda x: len(str(x)))\n",
    "char_count_article_excellent = excellent_art['sub_texts'].apply(lambda x: len(str(x)))\n",
    "char_count_article_readworthy = readworthy_art['sub_texts'].apply(lambda x: len(str(x)))\n",
    "char_count_article_random = random_art['sub_texts'].apply(lambda x: len(str(x)))"
   ]
  },
  {
   "cell_type": "code",
   "execution_count": 25,
   "metadata": {},
   "outputs": [],
   "source": [
    "char_count_article_protected = np.concatenate([\n",
    "    char_count_article_protected,\n",
    "    np.array([np.nan] * (max_len - len(char_count_article_protected)))\n",
    "])\n",
    "char_count_article_excellent = np.concatenate([\n",
    "    char_count_article_excellent,\n",
    "    np.array([np.nan] * (max_len - len(char_count_article_excellent)))\n",
    "])\n",
    "char_count_article_readworthy = np.concatenate([\n",
    "    char_count_article_readworthy,\n",
    "    np.array([np.nan] * (max_len - len(char_count_article_readworthy)))\n",
    "])\n",
    "char_count_article_random = np.concatenate([\n",
    "    char_count_article_random,\n",
    "    np.array([np.nan] * (max_len - len(char_count_article_random)))\n",
    "])\n"
   ]
  },
  {
   "cell_type": "code",
   "execution_count": 28,
   "metadata": {},
   "outputs": [
    {
     "data": {
      "image/png": "[encoded data removed]",
      "text/plain": [
       "<Figure size 640x480 with 1 Axes>"
      ]
     },
     "metadata": {},
     "output_type": "display_data"
    }
   ],
   "source": [
    "ax = sns.boxplot(data=[\n",
    "    char_count_article_protected, char_count_article_excellent, char_count_article_readworthy,\n",
    "    char_count_article_random\n",
    "],\n",
    "                    showfliers=False)\n",
    "\n",
    "# Set plot title and labels\n",
    "plt.title('Character Count Distribution by Article Category')\n",
    "plt.xlabel('Article Category')\n",
    "plt.ylabel('Word Count')\n",
    "plt.xticks([0, 1, 2], ['Protected ', 'Excellent ', 'Readworthy '])\n",
    "ax.set_ylim(0, 100000)\n",
    "\n",
    "\n",
    "# Show the plot\n",
    "plt.show()"
   ]
  },
  {
   "attachments": {},
   "cell_type": "markdown",
   "metadata": {},
   "source": [
    "## Characters per Word"
   ]
  },
  {
   "cell_type": "code",
   "execution_count": 30,
   "metadata": {},
   "outputs": [],
   "source": [
    "protected_charwords=np.nansum(char_count_article_protected)/np.nansum(word_count_article_protected)\n",
    "excellent_charwords=np.nansum(char_count_article_excellent)/np.nansum(word_count_article_excellent)\n",
    "readworthy_charwords=np.nansum(char_count_article_readworthy)/np.nansum(word_count_article_readworthy)\n",
    "random_charwords = np.nansum(char_count_article_random) / np.nansum(\n",
    "    word_count_article_random)\n"
   ]
  },
  {
   "cell_type": "code",
   "execution_count": 31,
   "metadata": {},
   "outputs": [
    {
     "name": "stdout",
     "output_type": "stream",
     "text": [
      "protected: 7.499377993280236, excellent: 7.447989445864211, readworthy: 7.434205173304958, random: 7.272773582443468\n"
     ]
    }
   ],
   "source": [
    "print(\n",
    "    f\"protected: {protected_charwords}, excellent: {excellent_charwords}, readworthy: {readworthy_charwords}, random: {random_charwords}\"\n",
    ")\n"
   ]
  },
  {
   "cell_type": "code",
   "execution_count": 3,
   "metadata": {},
   "outputs": [],
   "source": [
    "df=pd.read_csv(f'data/data_files/pipeline_steps/random_articles/7.1_maskadded.csv')"
   ]
  },
  {
   "cell_type": "code",
   "execution_count": 8,
   "metadata": {},
   "outputs": [
    {
     "data": {
      "text/plain": [
       "quot_label\n",
       "False    576516\n",
       "True     130962\n",
       "Name: count, dtype: int64"
      ]
     },
     "execution_count": 8,
     "metadata": {},
     "output_type": "execute_result"
    }
   ],
   "source": [
    "df.value_counts('quot_label')"
   ]
  }
 ],
 "metadata": {
  "kernelspec": {
   "display_name": "jannis-env9",
   "language": "python",
   "name": "python3"
  },
  "language_info": {
   "codemirror_mode": {
    "name": "ipython",
    "version": 3
   },
   "file_extension": ".py",
   "mimetype": "text/x-python",
   "name": "python",
   "nbconvert_exporter": "python",
   "pygments_lexer": "ipython3",
   "version": "3.9.16"
  },
  "orig_nbformat": 4
 },
 "nbformat": 4,
 "nbformat_minor": 2
}
