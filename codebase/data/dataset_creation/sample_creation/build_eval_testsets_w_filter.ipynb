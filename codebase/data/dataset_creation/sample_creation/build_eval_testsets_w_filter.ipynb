{
 "cells": [
  {
   "cell_type": "code",
   "execution_count": 3,
   "metadata": {},
   "outputs": [
    {
     "name": "stderr",
     "output_type": "stream",
     "text": [
      "[nltk_data] Downloading package stopwords to\n",
      "[nltk_data]     /Users/jannis/nltk_data...\n",
      "[nltk_data]   Package stopwords is already up-to-date!\n"
     ]
    }
   ],
   "source": [
    "import sys\n",
    "sys.path.append('/Users/jannis/Desktop/GitRepos/Master/masterthesis/codebase')\n",
    "import pandas as pd\n",
    "from utilities.utils import *\n",
    "import ast\n"
   ]
  },
  {
   "cell_type": "code",
   "execution_count": 4,
   "metadata": {},
   "outputs": [],
   "source": []
  },
  {
   "cell_type": "code",
   "execution_count": null,
   "metadata": {},
   "outputs": [],
   "source": [
    "new_folder_path = os.path.abspath(os.path.join(os.path.dirname(__file__), \"new_folder\"))\n",
    "print(new_folder_path)"
   ]
  },
  {
   "cell_type": "code",
   "execution_count": 4,
   "metadata": {},
   "outputs": [],
   "source": []
  },
  {
   "cell_type": "code",
   "execution_count": 12,
   "metadata": {},
   "outputs": [],
   "source": [
    "full_df_old = pd.read_csv('../../data_files/pipeline_steps/6.1_sentences_filtersadded.csv')"
   ]
  },
  {
   "cell_type": "code",
   "execution_count": 10,
   "metadata": {},
   "outputs": [
    {
     "name": "stdout",
     "output_type": "stream",
     "text": [
      "quot_label\n",
      "False    221200\n",
      "True      73217\n",
      "dtype: int64\n",
      "link_label\n",
      "True     183496\n",
      "False    110921\n",
      "dtype: int64\n",
      "namelink_label\n",
      "True     218261\n",
      "False     76156\n",
      "dtype: int64\n"
     ]
    }
   ],
   "source": [
    "print(full_df.value_counts('quot_label'))\n",
    "print(full_df.value_counts('link_label'))\n",
    "print(full_df.value_counts('namelink_label'))"
   ]
  },
  {
   "cell_type": "code",
   "execution_count": 13,
   "metadata": {},
   "outputs": [
    {
     "name": "stdout",
     "output_type": "stream",
     "text": [
      "quot_label\n",
      "False    264619\n",
      "True      82063\n",
      "dtype: int64\n",
      "link_label\n",
      "True     210111\n",
      "False    136571\n",
      "dtype: int64\n",
      "namelink_label\n",
      "True     249860\n",
      "False     96822\n",
      "dtype: int64\n"
     ]
    }
   ],
   "source": [
    "print(full_df_old.value_counts('quot_label'))\n",
    "print(full_df_old.value_counts('link_label'))\n",
    "print(full_df_old.value_counts('namelink_label'))"
   ]
  },
  {
   "cell_type": "code",
   "execution_count": 6,
   "metadata": {},
   "outputs": [],
   "source": [
    "df = full_df.copy()"
   ]
  },
  {
   "attachments": {},
   "cell_type": "markdown",
   "metadata": {},
   "source": [
    "## Equal & Random"
   ]
  },
  {
   "cell_type": "code",
   "execution_count": null,
   "metadata": {},
   "outputs": [],
   "source": [
    "protected_df = pd.read_csv(\n",
    "    '../../data_files/pipeline_steps/protected_articles/6.1_sentences_filtersadded_V2.csv')\n"
   ]
  },
  {
   "cell_type": "code",
   "execution_count": null,
   "metadata": {},
   "outputs": [],
   "source": [
    "df = protected_df.copy()"
   ]
  },
  {
   "cell_type": "code",
   "execution_count": 8,
   "metadata": {},
   "outputs": [],
   "source": [
    "sample= 25000\n",
    "labels = ['quot_label', 'link_label', 'namelink_label']\n",
    "texts = ['nopos_resolved_text', 'nopos_nonresolved_text', 'pos_nonresolved_text', 'pos_resolved_text']\n",
    "if_filter = ['filter','nofilter']\n",
    "\n",
    "df_equal_sample = df.copy()\n",
    "df_equal_sample = df_equal_sample.sample(n=(sample*2))\n",
    "\n",
    "for label in labels:\n",
    "    df_random = pd.DataFrame()\n",
    "    df_equal = pd.DataFrame()\n",
    "\n",
    "    for text in texts:\n",
    "        for to_filter in if_filter:\n",
    "\n",
    "\n",
    "            name =f\"{text[:-5]}_{label[:-6]}_{to_filter}\"\n",
    "            if to_filter == 'filter' and not text[:3] == 'pos':\n",
    "                name = f\"{text[2:-5]}_{label[:-6]}_filter\"\n",
    "            df_filter_random = df.copy()\n",
    "            # df_filter_equal = df_equal_sample.copy()\n",
    "            if to_filter == 'filter':\n",
    "                df_filter_random = df_filter_random.query(f'not ({label} == False and {name} == True)')\n",
    "                # df_filter_equal = df_filter_equal.query(f'not ({label} == False and {name} == True)')\n",
    "                name = f\"{text[:-5]}_{label[:-6]}_{to_filter}\"\n",
    "            df_random_grouped = df_filter_random.groupby(label)\n",
    "            df_random_sample = df_random_grouped.apply(lambda x: x.sample(n=sample)).reset_index(drop=True)\n",
    "\n",
    "            df_random['label'] = df_random_sample[label]\n",
    "            # df_equal['label'] = df_equal_sample[label]\n",
    "\n",
    "            df_random['text'] = ''\n",
    "            # df_equal['text'] = ''\n",
    "\n",
    "\n",
    "            df_random['text'] = df_random_sample[text]\n",
    "            # df_equal['text'] = df_equal_sample[text]\n",
    "\n",
    "            df_random = df_random.sample(frac=1)\n",
    "            # df_equal = df_equal.sample(frac=1)\n",
    "\n",
    "            df_random.to_csv(f'../../data_files/test_samples/4th_test_dataset_samples/protected_{name}.csv')\n",
    "            # df_equal.to_csv(f'../../data_files/test_samples/4th_test_dataset_samples/{name}_equal.csv')\n"
   ]
  },
  {
   "attachments": {},
   "cell_type": "markdown",
   "metadata": {},
   "source": [
    "## Only Equal"
   ]
  },
  {
   "cell_type": "code",
   "execution_count": null,
   "metadata": {},
   "outputs": [],
   "source": [
    "sample = 25\n",
    "labels = ['quot_label', 'link_label', 'namelink_label']\n",
    "texts = [\n",
    "    'nopos_resolved_text', 'nopos_nonresolved_text', 'pos_nonresolved_text', 'pos_resolved_text'\n",
    "]\n",
    "if_filter = ['filter', 'nofilter']\n",
    "\n",
    "df_equal_sample = df.copy()\n",
    "df_equal_sample = df_equal_sample.sample(n=(sample * 2))\n",
    "\n",
    "list =[]\n",
    "\n",
    "\n",
    "for label in labels:\n",
    "    df_equal = pd.DataFrame()\n",
    "\n",
    "    for text in texts:\n",
    "        for to_filter in if_filter:\n",
    "\n",
    "            name = f\"{text[:-5]}_{label[:-6]}_{to_filter}\"\n",
    "            df_filter_equal = df_equal_sample.copy()\n",
    "\n",
    "            if to_filter == 'filter' and not text[:3] == 'pos':\n",
    "                name = f\"{text[2:-5]}_{label[:-6]}_filter\"\n",
    "                \n",
    "            if to_filter == 'filter':\n",
    "                df_filter_equal = df_filter_equal.query(f'not ({label} == False and {name} == True)')\n",
    "                name = f\"{text[:-5]}_{label[:-6]}_{to_filter}\"\n",
    "            df_equal['label'] = df_equal_sample[label]\n",
    "\n",
    "            df_equal['text'] = ''\n",
    "\n",
    "            df_equal['text'] = df_equal_sample[text]\n",
    "\n",
    "            df_equal = df_equal.sample(frac=1)\n",
    "\n",
    "            df_equal.to_csv(f'../../data_files/test_samples/3rd_test_dataset_samples/{name}_equal.csv')\n",
    "            list.append(f'{name}_equal.csv')\n",
    "\n"
   ]
  },
  {
   "cell_type": "code",
   "execution_count": null,
   "metadata": {},
   "outputs": [],
   "source": [
    "print(list)"
   ]
  }
 ],
 "metadata": {
  "kernelspec": {
   "display_name": "mac-tens9",
   "language": "python",
   "name": "python3"
  },
  "language_info": {
   "codemirror_mode": {
    "name": "ipython",
    "version": 3
   },
   "file_extension": ".py",
   "mimetype": "text/x-python",
   "name": "python",
   "nbconvert_exporter": "python",
   "pygments_lexer": "ipython3",
   "version": "3.9.16"
  },
  "orig_nbformat": 4
 },
 "nbformat": 4,
 "nbformat_minor": 2
}
